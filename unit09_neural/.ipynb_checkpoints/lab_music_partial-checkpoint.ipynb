{
 "cells": [
  {
   "cell_type": "markdown",
   "metadata": {},
   "source": [
    "# Lab:  Neural Networks for Music Classification\n",
    "\n",
    "In addition to the concepts in the [MNIST neural network demo](./demo2_mnist_neural.ipynb), in this lab, you will learn to:\n",
    "* Load a file from a URL\n",
    "* Extract simple features from audio samples for machine learning tasks such as speech recognition and classification\n",
    "* Build a simple neural network for music classification using these features\n",
    "* Use a callback to store the loss and accuracy history in the training process\n",
    "* Optimize the learning rate of the neural network\n",
    "\n",
    "To illustrate the basic concepts, we will look at a relatively simple music classification problem.  Given a sample of music, we want to determine which instrument (e.g. trumpet, violin, piano) is playing.  This dataset was generously supplied by [Prof. Juan Bello](http://steinhardt.nyu.edu/faculty/Juan_Pablo_Bello) at NYU Stenihardt  and his former PhD student Eric Humphrey (now at Spotify).  They have a complete website dedicated to deep learning methods in music informatics:\n",
    "\n",
    "http://marl.smusic.nyu.edu/wordpress/projects/feature-learning-deep-architectures/deep-learning-python-tutorial/\n",
    "\n",
    "You can also check out Juan's <a href=\"http://www.nyu.edu/classes/bello/ACA.html\">course</a>.\n",
    "\n"
   ]
  },
  {
   "cell_type": "markdown",
   "metadata": {},
   "source": [
    "## Loading Tensorflow\n",
    "\n",
    "Before starting this lab, you will need to install [Tensorflow](https://www.tensorflow.org/install/).  If you are using [Google colaboratory](https://colab.research.google.com), Tensorflow is already installed.  Run the following command to ensure Tensorflow is installed."
   ]
  },
  {
   "cell_type": "markdown",
   "metadata": {},
   "source": [
    "conda activate tf2"
   ]
  },
  {
   "cell_type": "code",
   "execution_count": 1,
   "metadata": {},
   "outputs": [],
   "source": [
    "import tensorflow as tf"
   ]
  },
  {
   "cell_type": "markdown",
   "metadata": {},
   "source": [
    "Then, load the other packages."
   ]
  },
  {
   "cell_type": "code",
   "execution_count": 2,
   "metadata": {},
   "outputs": [],
   "source": [
    "import numpy as np\n",
    "import matplotlib\n",
    "import matplotlib.pyplot as plt"
   ]
  },
  {
   "cell_type": "markdown",
   "metadata": {},
   "source": [
    "## Audio Feature Extraction with Librosa\n",
    "\n",
    "The key to audio classification is to extract the correct features. In addition to `keras`, we will need the `librosa` package.  The `librosa` package in python has a rich set of methods extracting the features of audio samples commonly used in machine learning tasks such as speech recognition and sound classification. \n",
    "\n",
    "Installation instructions and complete documentation for the package are given on the [librosa main page](https://librosa.github.io/librosa/).  On most systems, you should be able to simply use:\n",
    "\n",
    "    pip install librosa\n",
    "    \n",
    "For Unix, you may need to load some additional packages:\n",
    "\n",
    "    sudo apt-get install build-essential\n",
    "    sudo apt-get install libxext-dev python-qt4 qt4-dev-tools\n",
    "    pip install librosa\n",
    "    \n",
    "After you have installed the package, try to import it."
   ]
  },
  {
   "cell_type": "code",
   "execution_count": 3,
   "metadata": {},
   "outputs": [],
   "source": [
    "import librosa\n",
    "import librosa.display\n",
    "import librosa.feature"
   ]
  },
  {
   "cell_type": "markdown",
   "metadata": {},
   "source": [
    "In this lab, we will use a set of music samples from the website:\n",
    "\n",
    "http://theremin.music.uiowa.edu\n",
    "\n",
    "This website has a great set of samples for audio processing.  Look on the web for how to use the `requests.get` and `file.write` commands to load the file at the URL provided into your working directory.\n",
    "\n",
    "You can play the audio sample by copying the file to your local machine and playing it on any media player.  If you listen to it you will hear a soprano saxaphone (with vibrato) playing four notes (C, C#, D, Eb)."
   ]
  },
  {
   "cell_type": "code",
   "execution_count": 4,
   "metadata": {},
   "outputs": [],
   "source": [
    "import requests\n",
    "fn = \"SopSax.Vib.pp.C6Eb6.aiff\"\n",
    "url = \"http://theremin.music.uiowa.edu/sound files/MIS/Woodwinds/sopranosaxophone/\"+fn\n",
    "\n",
    "# TODO 1:  Load the file from url and save it in a file under the name fn"
   ]
  },
  {
   "cell_type": "code",
   "execution_count": 5,
   "metadata": {},
   "outputs": [],
   "source": [
    "r = requests.get(url)  \n",
    "with open(fn, 'wb') as f:\n",
    "    f.write(r.content)"
   ]
  },
  {
   "cell_type": "markdown",
   "metadata": {},
   "source": [
    "Next, use `librosa` command `librosa.load` to read the audio file with filename `fn` and get the samples `y` and sample rate `sr`."
   ]
  },
  {
   "cell_type": "code",
   "execution_count": 6,
   "metadata": {},
   "outputs": [],
   "source": [
    "# TODO 2\n",
    "y, sr = librosa.load(fn)"
   ]
  },
  {
   "cell_type": "markdown",
   "metadata": {},
   "source": [
    "Extracting features from audio files is an entire subject on its own right.  A commonly used set of features are called the Mel Frequency Cepstral Coefficients (MFCCs).  These are derived from the so-called mel spectrogram which is something like a regular spectrogram, but the power and frequency are represented in log scale, which more naturally aligns with human perceptual processing.  You can run the code below to display the mel spectrogram from the audio sample.\n",
    "\n",
    "You can easily see the four notes played in the audio track.  You also see the 'harmonics' of each notes, which are other tones at integer multiples of the fundamental frequency of each note."
   ]
  },
  {
   "cell_type": "code",
   "execution_count": 7,
   "metadata": {},
   "outputs": [
    {
     "data": {
      "image/png": "[encoded data removed]",
      "text/plain": [
       "<Figure size 432x288 with 2 Axes>"
      ]
     },
     "metadata": {
      "needs_background": "light"
     },
     "output_type": "display_data"
    }
   ],
   "source": [
    "S = librosa.feature.melspectrogram(y=y, sr=sr, n_mels=128, fmax=8000)\n",
    "librosa.display.specshow(librosa.amplitude_to_db(S),\n",
    "                         y_axis='mel', fmax=8000, x_axis='time')\n",
    "plt.colorbar(format='%+2.0f dB')\n",
    "plt.title('Mel spectrogram')\n",
    "plt.tight_layout()"
   ]
  },
  {
   "cell_type": "markdown",
   "metadata": {},
   "source": [
    "## Downloading the Data\n",
    "\n",
    "Using the MFCC features described above, Eric Humphrey and Juan Bellow have created a complete data set that can used for instrument classification.  Essentially, they collected a number of data files from the website above.  For each audio file, the segmented the track into notes and then extracted 120 MFCCs for each note.  The goal is to recognize the instrument from the 120 MFCCs.  The process of feature extraction is quite involved.  So, we will just use their processed data provided at:\n",
    "\n",
    "https://github.com/marl/dl4mir-tutorial/blob/master/README.md\n",
    "\n",
    "Note the password.  Load the four files into some directory, say  `instrument_dataset`.  Then, load them with the commands."
   ]
  },
  {
   "cell_type": "code",
   "execution_count": 8,
   "metadata": {},
   "outputs": [],
   "source": [
    "data_dir = 'instrument_dataset/'\n",
    "Xtr = np.load(data_dir+'uiowa_train_data.npy')\n",
    "ytr = np.load(data_dir+'uiowa_train_labels.npy')\n",
    "Xts = np.load(data_dir+'uiowa_test_data.npy')\n",
    "yts = np.load(data_dir+'uiowa_test_labels.npy')"
   ]
  },
  {
   "cell_type": "markdown",
   "metadata": {},
   "source": [
    "Looking at the data files:\n",
    "* What are the number of training and test samples?\n",
    "* What is the number of features for each sample?\n",
    "* How many classes (i.e. instruments) are there per class?\n"
   ]
  },
  {
   "cell_type": "code",
   "execution_count": 9,
   "metadata": {},
   "outputs": [
    {
     "name": "stdout",
     "output_type": "stream",
     "text": [
      "num train sample = 66247\n",
      "num test sample = 14904\n",
      "num feature for each sample = 120\n",
      "num classes = 10\n"
     ]
    }
   ],
   "source": [
    "# TODO 3\n",
    "num_train_sample, num_train_feature = np.shape(Xtr)\n",
    "num_test_sample, num_test_feature = np.shape(Xts)\n",
    "num_classes = len(np.unique(ytr))\n",
    "\n",
    "print('num train sample = '+str(num_train_sample))\n",
    "print('num test sample = '+str(num_test_sample))\n",
    "print('num feature for each sample = '+str(num_train_feature))\n",
    "print('num classes = '+str(num_classes))\n"
   ]
  },
  {
   "cell_type": "markdown",
   "metadata": {},
   "source": [
    "Before continuing, you must scale the training and test data, `Xtr` and `Xts`.  Compute the mean and std deviation of each feature in `Xtr` and create a new training data set, `Xtr_scale`, by subtracting the mean and dividing by the std deviation.  Also compute a scaled test data set, `Xts_scale` using the mean and std deviation learned from the training data set."
   ]
  },
  {
   "cell_type": "code",
   "execution_count": 10,
   "metadata": {},
   "outputs": [],
   "source": [
    "# TODO 4: Scale the training and test matrices\n",
    "# Xtr_scale = ...\n",
    "# Xts_scale = ..."
   ]
  },
  {
   "cell_type": "code",
   "execution_count": 11,
   "metadata": {},
   "outputs": [],
   "source": [
    "Xtr_mean = np.mean(Xtr, axis = 0)\n",
    "Xtr_std = np.std(Xtr, axis = 0)"
   ]
  },
  {
   "cell_type": "code",
   "execution_count": 12,
   "metadata": {},
   "outputs": [],
   "source": [
    "Xtr_scale = (Xtr - Xtr_mean)/Xtr_std\n",
    "Xts_scale = (Xts - Xtr_mean)/Xtr_std"
   ]
  },
  {
   "cell_type": "markdown",
   "metadata": {
    "collapsed": true
   },
   "source": [
    "## Building a Neural Network Classifier\n",
    "\n",
    "Following the example in [MNIST neural network demo](./mnist_neural.ipynb), clear the keras session.  Then, create a neural network `model` with:\n",
    "* `nh=256` hidden units\n",
    "* `sigmoid` activation\n",
    "* select the input and output shapes correctly\n",
    "* print the model summary"
   ]
  },
  {
   "cell_type": "code",
   "execution_count": 13,
   "metadata": {},
   "outputs": [],
   "source": [
    "from tensorflow.keras.models import Model, Sequential\n",
    "from tensorflow.keras.layers import Dense, Activation\n",
    "import tensorflow.keras.backend as K\n"
   ]
  },
  {
   "cell_type": "code",
   "execution_count": 14,
   "metadata": {},
   "outputs": [],
   "source": [
    "# TODO 5 clear session\n",
    "K.clear_session()"
   ]
  },
  {
   "cell_type": "code",
   "execution_count": 15,
   "metadata": {},
   "outputs": [
    {
     "name": "stderr",
     "output_type": "stream",
     "text": [
      "2021-11-15 09:46:03.666941: I tensorflow/core/platform/cpu_feature_guard.cc:145] This TensorFlow binary is optimized with Intel(R) MKL-DNN to use the following CPU instructions in performance critical operations:  SSE4.1 SSE4.2\n",
      "To enable them in non-MKL-DNN operations, rebuild TensorFlow with the appropriate compiler flags.\n",
      "2021-11-15 09:46:03.667454: I tensorflow/core/common_runtime/process_util.cc:115] Creating new thread pool with default inter op setting: 8. Tune using inter_op_parallelism_threads for best performance.\n"
     ]
    }
   ],
   "source": [
    "# TODO 6: construct the model\n",
    "nin = num_train_feature  # dimension of input data\n",
    "nh = 256     # number of hidden units\n",
    "nout = num_classes    # number of outputs = 10 since there are 10 classes\n",
    "model = Sequential()\n",
    "model.add(Dense(units=nh, input_shape=(nin,), activation='sigmoid', name='hidden'))\n",
    "model.add(Dense(units=nout, activation='softmax', name='output'))"
   ]
  },
  {
   "cell_type": "code",
   "execution_count": 16,
   "metadata": {},
   "outputs": [
    {
     "name": "stdout",
     "output_type": "stream",
     "text": [
      "Model: \"sequential\"\n",
      "_________________________________________________________________\n",
      "Layer (type)                 Output Shape              Param #   \n",
      "=================================================================\n",
      "hidden (Dense)               (None, 256)               30976     \n",
      "_________________________________________________________________\n",
      "output (Dense)               (None, 10)                2570      \n",
      "=================================================================\n",
      "Total params: 33,546\n",
      "Trainable params: 33,546\n",
      "Non-trainable params: 0\n",
      "_________________________________________________________________\n"
     ]
    }
   ],
   "source": [
    "# TODO 7:  Print the model summary\n",
    "model.summary()"
   ]
  },
  {
   "cell_type": "markdown",
   "metadata": {},
   "source": [
    "Create an optimizer and compile the model.  Select the appropriate loss function and metrics.  For the optimizer, use the Adam optimizer with a learning rate of 0.001"
   ]
  },
  {
   "cell_type": "code",
   "execution_count": 17,
   "metadata": {
    "scrolled": true
   },
   "outputs": [],
   "source": [
    "# TODO 8\n",
    "# opt = ...\n",
    "# model.compile(...)"
   ]
  },
  {
   "cell_type": "code",
   "execution_count": 18,
   "metadata": {},
   "outputs": [],
   "source": [
    "from tensorflow.keras import optimizers\n",
    "\n",
    "opt = optimizers.Adam(lr=0.001) \n",
    "model.compile(optimizer=opt,\n",
    "              loss='sparse_categorical_crossentropy',\n",
    "              metrics=['accuracy'])"
   ]
  },
  {
   "cell_type": "markdown",
   "metadata": {},
   "source": [
    "Fit the model for 10 epochs using the scaled data for both the training and validation.  Use the `validation_data` option to pass the test data.  Also, pass the callback class create above.  Use a batch size of 100.  Your final accuracy should be >99%."
   ]
  },
  {
   "cell_type": "code",
   "execution_count": 19,
   "metadata": {
    "scrolled": false
   },
   "outputs": [
    {
     "name": "stdout",
     "output_type": "stream",
     "text": [
      "Train on 66247 samples, validate on 14904 samples\n",
      "Epoch 1/10\n",
      "66247/66247 [==============================] - 3s 51us/sample - loss: 0.3514 - accuracy: 0.9051 - val_loss: 0.2037 - val_accuracy: 0.9344\n",
      "Epoch 2/10\n",
      "66247/66247 [==============================] - 3s 41us/sample - loss: 0.0990 - accuracy: 0.9766 - val_loss: 0.0865 - val_accuracy: 0.9809\n",
      "Epoch 3/10\n",
      "66247/66247 [==============================] - 3s 41us/sample - loss: 0.0585 - accuracy: 0.9858 - val_loss: 0.0597 - val_accuracy: 0.9862\n",
      "Epoch 4/10\n",
      "66247/66247 [==============================] - 3s 40us/sample - loss: 0.0413 - accuracy: 0.9898 - val_loss: 0.0484 - val_accuracy: 0.9883\n",
      "Epoch 5/10\n",
      "66247/66247 [==============================] - 3s 40us/sample - loss: 0.0314 - accuracy: 0.9920 - val_loss: 0.0369 - val_accuracy: 0.9895\n",
      "Epoch 6/10\n",
      "66247/66247 [==============================] - 3s 40us/sample - loss: 0.0249 - accuracy: 0.9937 - val_loss: 0.0316 - val_accuracy: 0.9913\n",
      "Epoch 7/10\n",
      "66247/66247 [==============================] - 3s 39us/sample - loss: 0.0205 - accuracy: 0.9945 - val_loss: 0.0288 - val_accuracy: 0.9917\n",
      "Epoch 8/10\n",
      "66247/66247 [==============================] - 3s 38us/sample - loss: 0.0171 - accuracy: 0.9955 - val_loss: 0.0324 - val_accuracy: 0.9899\n",
      "Epoch 9/10\n",
      "66247/66247 [==============================] - 3s 40us/sample - loss: 0.0146 - accuracy: 0.9964 - val_loss: 0.0313 - val_accuracy: 0.9908\n",
      "Epoch 10/10\n",
      "66247/66247 [==============================] - 3s 40us/sample - loss: 0.0129 - accuracy: 0.9966 - val_loss: 0.0320 - val_accuracy: 0.9895\n"
     ]
    }
   ],
   "source": [
    "# TODO 9\n",
    "hist = model.fit(Xtr_scale, ytr, epochs=10, batch_size=100, validation_data=(Xts_scale,yts))"
   ]
  },
  {
   "cell_type": "markdown",
   "metadata": {},
   "source": [
    "Plot the validation accuracy saved in `hist.history` dictionary. This gives one accuracy value per epoch.  You should see that the validation accuracy saturates at a little higher than 99%.  After that it \"bounces around\" due to the noise in the stochastic gradient descent."
   ]
  },
  {
   "cell_type": "code",
   "execution_count": 20,
   "metadata": {},
   "outputs": [
    {
     "data": {
      "text/plain": [
       "<matplotlib.legend.Legend at 0x7fe080208190>"
      ]
     },
     "execution_count": 20,
     "metadata": {},
     "output_type": "execute_result"
    },
    {
     "data": {
      "image/png": "[encoded data removed]",
      "text/plain": [
       "<Figure size 432x288 with 1 Axes>"
      ]
     },
     "metadata": {
      "needs_background": "light"
     },
     "output_type": "display_data"
    }
   ],
   "source": [
    "# TODO 10\n",
    "tr_accuracy = hist.history['accuracy']\n",
    "val_accuracy = hist.history['val_accuracy']\n",
    "\n",
    "plt.plot(tr_accuracy)\n",
    "plt.plot(val_accuracy)\n",
    "plt.grid()\n",
    "plt.xlabel('epochs')\n",
    "plt.ylabel('accuarcy')\n",
    "plt.legend(['training accuracy', 'validation accuracy'])"
   ]
  },
  {
   "cell_type": "markdown",
   "metadata": {},
   "source": [
    "Plot the loss values saved in the `hist.history` dictionary.  You should see that the loss is steadily decreasing.  Use the `semilogy` plot."
   ]
  },
  {
   "cell_type": "code",
   "execution_count": 21,
   "metadata": {},
   "outputs": [
    {
     "data": {
      "text/plain": [
       "<matplotlib.legend.Legend at 0x7fe0a88b4910>"
      ]
     },
     "execution_count": 21,
     "metadata": {},
     "output_type": "execute_result"
    },
    {
     "data": {
      "image/png": "[encoded data removed]",
      "text/plain": [
       "<Figure size 432x288 with 1 Axes>"
      ]
     },
     "metadata": {
      "needs_background": "light"
     },
     "output_type": "display_data"
    }
   ],
   "source": [
    "# TODO 11\n",
    "tr_loss = hist.history['loss']\n",
    "val_loss = hist.history['val_loss']\n",
    "\n",
    "plt.semilogy(tr_loss)\n",
    "plt.semilogy(val_loss)\n",
    "plt.grid()\n",
    "plt.xlabel('epochs')\n",
    "plt.ylabel('loss')\n",
    "plt.legend(['training loss', 'validation loss'])"
   ]
  },
  {
   "cell_type": "markdown",
   "metadata": {},
   "source": [
    "## Optimizing the Learning Rate\n",
    "\n",
    "One challenge in training neural networks is the selection of the learning rate.  Rerun the above code, trying four learning rates as shown in the vector `rates`.  For each learning rate:\n",
    "* clear the session\n",
    "* construct the network\n",
    "* select the optimizer.  Use the Adam optimizer with the appropriate learrning rate.\n",
    "* train the model for 20 epochs\n",
    "* save the accuracy and losses"
   ]
  },
  {
   "cell_type": "code",
   "execution_count": 22,
   "metadata": {
    "scrolled": true
   },
   "outputs": [
    {
     "name": "stdout",
     "output_type": "stream",
     "text": [
      "Train on 66247 samples, validate on 14904 samples\n",
      "Epoch 1/20\n",
      "66247/66247 [==============================] - 3s 47us/sample - loss: 0.1061 - accuracy: 0.9671 - val_loss: 0.0403 - val_accuracy: 0.9875\n",
      "Epoch 2/20\n",
      "66247/66247 [==============================] - 3s 40us/sample - loss: 0.0299 - accuracy: 0.9904 - val_loss: 0.0482 - val_accuracy: 0.9811\n",
      "Epoch 3/20\n",
      "66247/66247 [==============================] - 3s 41us/sample - loss: 0.0212 - accuracy: 0.9930 - val_loss: 0.1433 - val_accuracy: 0.9585\n",
      "Epoch 4/20\n",
      "66247/66247 [==============================] - 3s 40us/sample - loss: 0.0188 - accuracy: 0.9939 - val_loss: 0.1255 - val_accuracy: 0.9701\n",
      "Epoch 5/20\n",
      "66247/66247 [==============================] - 3s 40us/sample - loss: 0.0170 - accuracy: 0.9944 - val_loss: 0.0294 - val_accuracy: 0.9895\n",
      "Epoch 6/20\n",
      "66247/66247 [==============================] - 3s 40us/sample - loss: 0.0134 - accuracy: 0.9955 - val_loss: 0.0214 - val_accuracy: 0.9923\n",
      "Epoch 7/20\n",
      "66247/66247 [==============================] - 3s 40us/sample - loss: 0.0119 - accuracy: 0.9962 - val_loss: 0.0348 - val_accuracy: 0.9909\n",
      "Epoch 8/20\n",
      "66247/66247 [==============================] - 3s 40us/sample - loss: 0.0135 - accuracy: 0.9955 - val_loss: 0.0404 - val_accuracy: 0.9896\n",
      "Epoch 9/20\n",
      "66247/66247 [==============================] - 3s 40us/sample - loss: 0.0116 - accuracy: 0.9965 - val_loss: 0.0532 - val_accuracy: 0.9844\n",
      "Epoch 10/20\n",
      "66247/66247 [==============================] - 3s 40us/sample - loss: 0.0155 - accuracy: 0.9951 - val_loss: 0.0305 - val_accuracy: 0.9921\n",
      "Epoch 11/20\n",
      "66247/66247 [==============================] - 3s 39us/sample - loss: 0.0085 - accuracy: 0.9973 - val_loss: 0.0248 - val_accuracy: 0.9928\n",
      "Epoch 12/20\n",
      "66247/66247 [==============================] - 3s 41us/sample - loss: 0.0083 - accuracy: 0.9975 - val_loss: 0.0625 - val_accuracy: 0.9820\n",
      "Epoch 13/20\n",
      "66247/66247 [==============================] - 3s 39us/sample - loss: 0.0084 - accuracy: 0.9976 - val_loss: 0.0991 - val_accuracy: 0.9784\n",
      "Epoch 14/20\n",
      "66247/66247 [==============================] - 3s 39us/sample - loss: 0.0093 - accuracy: 0.9969 - val_loss: 0.0508 - val_accuracy: 0.9903\n",
      "Epoch 15/20\n",
      "66247/66247 [==============================] - 3s 39us/sample - loss: 0.0096 - accuracy: 0.9972 - val_loss: 0.0482 - val_accuracy: 0.9869\n",
      "Epoch 16/20\n",
      "66247/66247 [==============================] - 3s 38us/sample - loss: 0.0077 - accuracy: 0.9977 - val_loss: 0.0460 - val_accuracy: 0.9889\n",
      "Epoch 17/20\n",
      "66247/66247 [==============================] - 3s 40us/sample - loss: 0.0091 - accuracy: 0.9973 - val_loss: 0.0376 - val_accuracy: 0.9908\n",
      "Epoch 18/20\n",
      "66247/66247 [==============================] - 3s 40us/sample - loss: 0.0059 - accuracy: 0.9981 - val_loss: 0.1059 - val_accuracy: 0.9812\n",
      "Epoch 19/20\n",
      "66247/66247 [==============================] - 3s 39us/sample - loss: 0.0109 - accuracy: 0.9970 - val_loss: 0.0522 - val_accuracy: 0.9881\n",
      "Epoch 20/20\n",
      "66247/66247 [==============================] - 3s 40us/sample - loss: 0.0077 - accuracy: 0.9977 - val_loss: 0.0460 - val_accuracy: 0.9893\n",
      "Train on 66247 samples, validate on 14904 samples\n",
      "Epoch 1/20\n",
      "66247/66247 [==============================] - 3s 47us/sample - loss: 0.3634 - accuracy: 0.9025 - val_loss: 0.1992 - val_accuracy: 0.9409\n",
      "Epoch 2/20\n",
      "66247/66247 [==============================] - 3s 41us/sample - loss: 0.1030 - accuracy: 0.9752 - val_loss: 0.1087 - val_accuracy: 0.9642\n",
      "Epoch 3/20\n",
      "66247/66247 [==============================] - 3s 41us/sample - loss: 0.0600 - accuracy: 0.9855 - val_loss: 0.0568 - val_accuracy: 0.9882\n",
      "Epoch 4/20\n",
      "66247/66247 [==============================] - 4s 54us/sample - loss: 0.0425 - accuracy: 0.9892 - val_loss: 0.0594 - val_accuracy: 0.9809\n",
      "Epoch 5/20\n",
      "66247/66247 [==============================] - 3s 44us/sample - loss: 0.0320 - accuracy: 0.9917 - val_loss: 0.0394 - val_accuracy: 0.9899\n",
      "Epoch 6/20\n",
      "66247/66247 [==============================] - 3s 44us/sample - loss: 0.0253 - accuracy: 0.9933 - val_loss: 0.0323 - val_accuracy: 0.9905\n",
      "Epoch 7/20\n",
      "66247/66247 [==============================] - 3s 44us/sample - loss: 0.0207 - accuracy: 0.9944 - val_loss: 0.0297 - val_accuracy: 0.9909\n",
      "Epoch 8/20\n",
      "66247/66247 [==============================] - 3s 47us/sample - loss: 0.0175 - accuracy: 0.9955 - val_loss: 0.0245 - val_accuracy: 0.9932\n",
      "Epoch 9/20\n",
      "66247/66247 [==============================] - 3s 46us/sample - loss: 0.0149 - accuracy: 0.9961 - val_loss: 0.0247 - val_accuracy: 0.9927\n",
      "Epoch 10/20\n",
      "66247/66247 [==============================] - 3s 41us/sample - loss: 0.0129 - accuracy: 0.9966 - val_loss: 0.0259 - val_accuracy: 0.9910\n",
      "Epoch 11/20\n",
      "66247/66247 [==============================] - 3s 41us/sample - loss: 0.0112 - accuracy: 0.9972 - val_loss: 0.0257 - val_accuracy: 0.9909\n",
      "Epoch 12/20\n",
      "66247/66247 [==============================] - 3s 43us/sample - loss: 0.0105 - accuracy: 0.9974 - val_loss: 0.0263 - val_accuracy: 0.9908\n",
      "Epoch 13/20\n",
      "66247/66247 [==============================] - 3s 41us/sample - loss: 0.0092 - accuracy: 0.9976 - val_loss: 0.0240 - val_accuracy: 0.9913\n",
      "Epoch 14/20\n",
      "66247/66247 [==============================] - 3s 42us/sample - loss: 0.0082 - accuracy: 0.9979 - val_loss: 0.0184 - val_accuracy: 0.9938\n",
      "Epoch 15/20\n",
      "66247/66247 [==============================] - 3s 42us/sample - loss: 0.0073 - accuracy: 0.9982 - val_loss: 0.0195 - val_accuracy: 0.9926\n",
      "Epoch 16/20\n",
      "66247/66247 [==============================] - 3s 41us/sample - loss: 0.0069 - accuracy: 0.9982 - val_loss: 0.0239 - val_accuracy: 0.9910\n",
      "Epoch 17/20\n",
      "66247/66247 [==============================] - 3s 41us/sample - loss: 0.0064 - accuracy: 0.9984 - val_loss: 0.0190 - val_accuracy: 0.9927\n",
      "Epoch 18/20\n",
      "66247/66247 [==============================] - 3s 42us/sample - loss: 0.0057 - accuracy: 0.9985 - val_loss: 0.0219 - val_accuracy: 0.9916\n",
      "Epoch 19/20\n",
      "66247/66247 [==============================] - 3s 40us/sample - loss: 0.0054 - accuracy: 0.9986 - val_loss: 0.0179 - val_accuracy: 0.9938\n",
      "Epoch 20/20\n",
      "66247/66247 [==============================] - 3s 41us/sample - loss: 0.0050 - accuracy: 0.9987 - val_loss: 0.0233 - val_accuracy: 0.9915\n",
      "Train on 66247 samples, validate on 14904 samples\n",
      "Epoch 1/20\n",
      "66247/66247 [==============================] - 3s 51us/sample - loss: 1.1242 - accuracy: 0.6527 - val_loss: 0.8697 - val_accuracy: 0.6672\n",
      "Epoch 2/20\n",
      "66247/66247 [==============================] - 3s 42us/sample - loss: 0.5620 - accuracy: 0.8433 - val_loss: 0.5850 - val_accuracy: 0.8118\n",
      "Epoch 3/20\n",
      "66247/66247 [==============================] - 3s 42us/sample - loss: 0.3898 - accuracy: 0.9082 - val_loss: 0.4579 - val_accuracy: 0.8610\n",
      "Epoch 4/20\n",
      "66247/66247 [==============================] - 3s 42us/sample - loss: 0.3011 - accuracy: 0.9320 - val_loss: 0.3581 - val_accuracy: 0.8986\n",
      "Epoch 5/20\n",
      "66247/66247 [==============================] - 3s 42us/sample - loss: 0.2446 - accuracy: 0.9456 - val_loss: 0.2884 - val_accuracy: 0.9244\n",
      "Epoch 6/20\n",
      "66247/66247 [==============================] - 3s 44us/sample - loss: 0.2040 - accuracy: 0.9544 - val_loss: 0.2496 - val_accuracy: 0.9290\n",
      "Epoch 7/20\n",
      "66247/66247 [==============================] - 3s 49us/sample - loss: 0.1730 - accuracy: 0.9603 - val_loss: 0.2143 - val_accuracy: 0.9383\n",
      "Epoch 8/20\n",
      "66247/66247 [==============================] - 3s 42us/sample - loss: 0.1487 - accuracy: 0.9654 - val_loss: 0.1786 - val_accuracy: 0.9508\n",
      "Epoch 9/20\n",
      "66247/66247 [==============================] - 3s 41us/sample - loss: 0.1289 - accuracy: 0.9697 - val_loss: 0.1517 - val_accuracy: 0.9628\n",
      "Epoch 10/20\n",
      "66247/66247 [==============================] - 3s 41us/sample - loss: 0.1130 - accuracy: 0.9736 - val_loss: 0.1331 - val_accuracy: 0.9662\n",
      "Epoch 11/20\n",
      "66247/66247 [==============================] - 3s 41us/sample - loss: 0.1001 - accuracy: 0.9769 - val_loss: 0.1275 - val_accuracy: 0.9632\n",
      "Epoch 12/20\n",
      "66247/66247 [==============================] - 3s 41us/sample - loss: 0.0894 - accuracy: 0.9796 - val_loss: 0.1068 - val_accuracy: 0.9731\n",
      "Epoch 13/20\n",
      "66247/66247 [==============================] - 3s 41us/sample - loss: 0.0806 - accuracy: 0.9813 - val_loss: 0.0992 - val_accuracy: 0.9733\n",
      "Epoch 14/20\n",
      "66247/66247 [==============================] - 3s 40us/sample - loss: 0.0733 - accuracy: 0.9831 - val_loss: 0.0907 - val_accuracy: 0.9764\n"
     ]
    },
    {
     "name": "stdout",
     "output_type": "stream",
     "text": [
      "Epoch 15/20\n",
      "66247/66247 [==============================] - 3s 40us/sample - loss: 0.0672 - accuracy: 0.9841 - val_loss: 0.0824 - val_accuracy: 0.9802\n",
      "Epoch 16/20\n",
      "66247/66247 [==============================] - 3s 40us/sample - loss: 0.0619 - accuracy: 0.9851 - val_loss: 0.0774 - val_accuracy: 0.9800\n",
      "Epoch 17/20\n",
      "66247/66247 [==============================] - 3s 40us/sample - loss: 0.0574 - accuracy: 0.9863 - val_loss: 0.0731 - val_accuracy: 0.9803\n",
      "Epoch 18/20\n",
      "66247/66247 [==============================] - 3s 40us/sample - loss: 0.0535 - accuracy: 0.9869 - val_loss: 0.0675 - val_accuracy: 0.9843\n",
      "Epoch 19/20\n",
      "66247/66247 [==============================] - 3s 40us/sample - loss: 0.0501 - accuracy: 0.9878 - val_loss: 0.0644 - val_accuracy: 0.9843\n",
      "Epoch 20/20\n",
      "66247/66247 [==============================] - 3s 40us/sample - loss: 0.0471 - accuracy: 0.9883 - val_loss: 0.0598 - val_accuracy: 0.9859\n"
     ]
    }
   ],
   "source": [
    "rates = [0.01,0.001,0.0001]\n",
    "batch_size = 100\n",
    "loss_hist_tr = []\n",
    "loss_hist_val = []\n",
    "acc_hist_tr = []\n",
    "acc_hist_val = []\n",
    "\n",
    "# TODO 12\n",
    "for lr in rates:\n",
    "    K.clear_session()\n",
    "    model = Sequential()\n",
    "    model.add(Dense(units=nh, input_shape=(nin,), activation='sigmoid', name='hidden'))\n",
    "    model.add(Dense(units=nout, activation='softmax', name='output'))\n",
    "    opt = optimizers.Adam(lr=lr) \n",
    "    model.compile(optimizer=opt,\n",
    "              loss='sparse_categorical_crossentropy',\n",
    "              metrics=['accuracy'])\n",
    "    hist = model.fit(Xtr_scale, ytr, epochs=20, batch_size=batch_size, validation_data=(Xts_scale,yts))\n",
    "    loss_hist_tr.append(hist.history['loss'])\n",
    "    loss_hist_val.append(hist.history['val_loss'])\n",
    "    acc_hist_tr.append(hist.history['accuracy'])\n",
    "    acc_hist_val.append(hist.history['val_accuracy'])\n",
    "    \n"
   ]
  },
  {
   "cell_type": "markdown",
   "metadata": {},
   "source": [
    "Plot the loss funciton vs. the epoch number for all three learning rates on one graph.  You should see that the lower learning rates are more stable, but converge slower."
   ]
  },
  {
   "cell_type": "code",
   "execution_count": 23,
   "metadata": {},
   "outputs": [],
   "source": [
    "# TODO 13"
   ]
  },
  {
   "cell_type": "code",
   "execution_count": 24,
   "metadata": {},
   "outputs": [
    {
     "data": {
      "text/plain": [
       "Text(0.5, 1.0, 'training samples')"
      ]
     },
     "execution_count": 24,
     "metadata": {},
     "output_type": "execute_result"
    },
    {
     "data": {
      "image/png": "[encoded data removed]",
      "text/plain": [
       "<Figure size 432x288 with 1 Axes>"
      ]
     },
     "metadata": {
      "needs_background": "light"
     },
     "output_type": "display_data"
    }
   ],
   "source": [
    "plt.semilogy(loss_hist_tr[0], label = 'lr = 0.01')\n",
    "plt.semilogy(loss_hist_tr[1], label = 'r = 0.001')\n",
    "plt.semilogy(loss_hist_tr[2], label = 'r = 0.0001')\n",
    "plt.grid()\n",
    "plt.xlabel('epochs')\n",
    "plt.ylabel('loss')\n",
    "plt.legend()\n",
    "plt.title('training samples')"
   ]
  },
  {
   "cell_type": "code",
   "execution_count": 25,
   "metadata": {},
   "outputs": [
    {
     "data": {
      "text/plain": [
       "Text(0.5, 1.0, 'test samples')"
      ]
     },
     "execution_count": 25,
     "metadata": {},
     "output_type": "execute_result"
    },
    {
     "data": {
      "image/png": "[encoded data removed]",
      "text/plain": [
       "<Figure size 432x288 with 1 Axes>"
      ]
     },
     "metadata": {
      "needs_background": "light"
     },
     "output_type": "display_data"
    }
   ],
   "source": [
    "plt.semilogy(loss_hist_val[0], label = 'lr = 0.01')\n",
    "plt.semilogy(loss_hist_val[1], label = 'r = 0.001')\n",
    "plt.semilogy(loss_hist_val[2], label = 'r = 0.0001')\n",
    "plt.grid()\n",
    "plt.xlabel('epochs')\n",
    "plt.ylabel('loss')\n",
    "plt.legend()\n",
    "plt.title('test samples')"
   ]
  },
  {
   "cell_type": "code",
   "execution_count": null,
   "metadata": {},
   "outputs": [],
   "source": []
  }
 ],
 "metadata": {
  "anaconda-cloud": {},
  "kernelspec": {
   "display_name": "Python 3 (ipykernel)",
   "language": "python",
   "name": "python3"
  },
  "language_info": {
   "codemirror_mode": {
    "name": "ipython",
    "version": 3
   },
   "file_extension": ".py",
   "mimetype": "text/x-python",
   "name": "python",
   "nbconvert_exporter": "python",
   "pygments_lexer": "ipython3",
   "version": "3.7.11"
  }
 },
 "nbformat": 4,
 "nbformat_minor": 1
}
