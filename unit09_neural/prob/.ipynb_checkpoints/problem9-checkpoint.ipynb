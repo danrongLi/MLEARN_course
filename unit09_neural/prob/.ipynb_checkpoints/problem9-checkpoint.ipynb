{
 "cells": [
  {
   "cell_type": "code",
   "execution_count": 1,
   "metadata": {},
   "outputs": [],
   "source": [
    "import numpy as np\n",
    "import matplotlib.pyplot as plt"
   ]
  },
  {
   "cell_type": "markdown",
   "metadata": {},
   "source": [
    "Question 2"
   ]
  },
  {
   "cell_type": "code",
   "execution_count": null,
   "metadata": {},
   "outputs": [],
   "source": [
    "Wh = np.array([-1,1,1]).reshape(3,1)\n",
    "bh = np.array([-1,1,-2]).reshape(3,1)\n",
    "x_all = np.linspace(-5,5,100)"
   ]
  },
  {
   "cell_type": "code",
   "execution_count": null,
   "metadata": {},
   "outputs": [],
   "source": [
    "z_all = []"
   ]
  },
  {
   "cell_type": "code",
   "execution_count": null,
   "metadata": {},
   "outputs": [],
   "source": [
    "for i in range(len(x_all)):\n",
    "    z_all.append(Wh*x_all[i] + bh)"
   ]
  },
  {
   "cell_type": "code",
   "execution_count": null,
   "metadata": {},
   "outputs": [],
   "source": [
    "u1 = np.zeros((len(x_all)))\n",
    "u2 = np.zeros((len(x_all)))\n",
    "u3 = np.zeros((len(x_all)))"
   ]
  },
  {
   "cell_type": "code",
   "execution_count": null,
   "metadata": {},
   "outputs": [],
   "source": [
    "for i in range(len(x_all)):\n",
    "    if z_all[i][0] > 0:\n",
    "        u1[i] = z_all[i][0]\n",
    "    if z_all[i][0] <= 0:\n",
    "        u1[i] = 0\n",
    "    if z_all[i][1] > 0:\n",
    "        u2[i] = z_all[i][1]\n",
    "    if z_all[i][1] <= 0:\n",
    "        u2[i] = 0\n",
    "    if z_all[i][2] > 0:\n",
    "        u3[i] = z_all[i][2]\n",
    "    if z_all[i][2] <= 0:\n",
    "        u3[i] = 0"
   ]
  },
  {
   "cell_type": "code",
   "execution_count": null,
   "metadata": {},
   "outputs": [],
   "source": [
    "plt.plot(x_all,u1,label = '1th hidden unit')\n",
    "plt.plot(x_all,u2,label = '2th hidden unit')\n",
    "plt.plot(x_all,u3,label = '3th hidden unit')\n",
    "plt.grid()\n",
    "plt.legend()\n",
    "plt.xlabel('x')\n",
    "plt.ylabel('uh')"
   ]
  },
  {
   "cell_type": "markdown",
   "metadata": {},
   "source": [
    "Question 3"
   ]
  },
  {
   "cell_type": "code",
   "execution_count": null,
   "metadata": {},
   "outputs": [],
   "source": [
    "ones = np.ones((5,1))\n",
    "uk = np.array([[1,0,0],[0,0,0],[0,1,0],[0,4,1],[0,4.5,1.5]])\n",
    "uk = np.hstack((ones,uk))\n",
    "uk"
   ]
  },
  {
   "cell_type": "code",
   "execution_count": null,
   "metadata": {},
   "outputs": [],
   "source": [
    "y = np.array([0,0,1,3,3])"
   ]
  },
  {
   "cell_type": "code",
   "execution_count": null,
   "metadata": {},
   "outputs": [],
   "source": [
    "result = np.linalg.lstsq(uk,y, rcond=None)[0]"
   ]
  },
  {
   "cell_type": "code",
   "execution_count": null,
   "metadata": {},
   "outputs": [],
   "source": [
    "bo = result[0]\n",
    "Wo = result[1::]"
   ]
  },
  {
   "cell_type": "code",
   "execution_count": null,
   "metadata": {},
   "outputs": [],
   "source": [
    "bo"
   ]
  },
  {
   "cell_type": "code",
   "execution_count": null,
   "metadata": {},
   "outputs": [],
   "source": [
    "Wo"
   ]
  },
  {
   "cell_type": "code",
   "execution_count": null,
   "metadata": {},
   "outputs": [],
   "source": []
  },
  {
   "cell_type": "code",
   "execution_count": null,
   "metadata": {},
   "outputs": [],
   "source": []
  },
  {
   "cell_type": "code",
   "execution_count": 15,
   "metadata": {},
   "outputs": [],
   "source": [
    "bo = 0\n",
    "Wo = np.array([0,1,-1])\n",
    "uk = np.array([[1,0,0],[0,0,0],[0,1,0],[0,4,1],[0,4.5,1.5]])\n",
    "x_all = np.linspace(-5,5,100)\n",
    "# x_all = np.array([-2,-1,0,3,3.5])\n",
    "Wh = np.array([-1,1,1]).reshape(3,1)\n",
    "bh = np.array([-1,1,-2]).reshape(3,1)"
   ]
  },
  {
   "cell_type": "code",
   "execution_count": 16,
   "metadata": {},
   "outputs": [],
   "source": [
    "z_all = []\n",
    "for i in range(len(x_all)):\n",
    "    z_all.append(Wh*x_all[i] + bh)"
   ]
  },
  {
   "cell_type": "code",
   "execution_count": 17,
   "metadata": {},
   "outputs": [],
   "source": [
    "u1 = np.zeros((len(x_all)))\n",
    "u2 = np.zeros((len(x_all)))\n",
    "u3 = np.zeros((len(x_all)))\n",
    "\n",
    "for i in range(len(x_all)):\n",
    "    if z_all[i][0] > 0:\n",
    "        u1[i] = z_all[i][0]\n",
    "    if z_all[i][0] <= 0:\n",
    "        u1[i] = 0\n",
    "    if z_all[i][1] > 0:\n",
    "        u2[i] = z_all[i][1]\n",
    "    if z_all[i][1] <= 0:\n",
    "        u2[i] = 0\n",
    "    if z_all[i][2] > 0:\n",
    "        u3[i] = z_all[i][2]\n",
    "    if z_all[i][2] <= 0:\n",
    "        u3[i] = 0"
   ]
  },
  {
   "cell_type": "code",
   "execution_count": 18,
   "metadata": {},
   "outputs": [],
   "source": [
    "yhat_all = np.zeros(len(x_all))"
   ]
  },
  {
   "cell_type": "code",
   "execution_count": 19,
   "metadata": {},
   "outputs": [],
   "source": [
    "for i in range(len(x_all)):\n",
    "    yhat = Wo[0]*u1[i]+Wo[1]*u2[i]+Wo[2]*u3[i]+bo\n",
    "    yhat_all[i] = yhat"
   ]
  },
  {
   "cell_type": "code",
   "execution_count": 20,
   "metadata": {},
   "outputs": [
    {
     "data": {
      "text/plain": [
       "array([0.        , 0.        , 0.        , 0.        , 0.        ,\n",
       "       0.        , 0.        , 0.        , 0.        , 0.        ,\n",
       "       0.        , 0.        , 0.        , 0.        , 0.        ,\n",
       "       0.        , 0.        , 0.        , 0.        , 0.        ,\n",
       "       0.        , 0.        , 0.        , 0.        , 0.        ,\n",
       "       0.        , 0.        , 0.        , 0.        , 0.        ,\n",
       "       0.        , 0.        , 0.        , 0.        , 0.        ,\n",
       "       0.        , 0.        , 0.        , 0.        , 0.        ,\n",
       "       0.04040404, 0.14141414, 0.24242424, 0.34343434, 0.44444444,\n",
       "       0.54545455, 0.64646465, 0.74747475, 0.84848485, 0.94949495,\n",
       "       1.05050505, 1.15151515, 1.25252525, 1.35353535, 1.45454545,\n",
       "       1.55555556, 1.65656566, 1.75757576, 1.85858586, 1.95959596,\n",
       "       2.06060606, 2.16161616, 2.26262626, 2.36363636, 2.46464646,\n",
       "       2.56565657, 2.66666667, 2.76767677, 2.86868687, 2.96969697,\n",
       "       3.        , 3.        , 3.        , 3.        , 3.        ,\n",
       "       3.        , 3.        , 3.        , 3.        , 3.        ,\n",
       "       3.        , 3.        , 3.        , 3.        , 3.        ,\n",
       "       3.        , 3.        , 3.        , 3.        , 3.        ,\n",
       "       3.        , 3.        , 3.        , 3.        , 3.        ,\n",
       "       3.        , 3.        , 3.        , 3.        , 3.        ])"
      ]
     },
     "execution_count": 20,
     "metadata": {},
     "output_type": "execute_result"
    }
   ],
   "source": [
    "yhat_all"
   ]
  },
  {
   "cell_type": "code",
   "execution_count": 21,
   "metadata": {},
   "outputs": [
    {
     "data": {
      "text/plain": [
       "Text(0, 0.5, 'yhat')"
      ]
     },
     "execution_count": 21,
     "metadata": {},
     "output_type": "execute_result"
    },
    {
     "data": {
      "image/png": "[encoded data removed]",
      "text/plain": [
       "<Figure size 432x288 with 1 Axes>"
      ]
     },
     "metadata": {
      "needs_background": "light"
     },
     "output_type": "display_data"
    }
   ],
   "source": [
    "plt.plot(x_all,yhat_all)\n",
    "plt.grid()\n",
    "plt.xlabel('x')\n",
    "plt.ylabel('yhat')"
   ]
  },
  {
   "cell_type": "code",
   "execution_count": null,
   "metadata": {},
   "outputs": [],
   "source": []
  },
  {
   "cell_type": "code",
   "execution_count": null,
   "metadata": {},
   "outputs": [],
   "source": []
  },
  {
   "cell_type": "code",
   "execution_count": null,
   "metadata": {},
   "outputs": [],
   "source": []
  },
  {
   "cell_type": "code",
   "execution_count": 46,
   "metadata": {},
   "outputs": [],
   "source": [
    "# x_all = np.linspace(-5,5,100)[:,None]\n",
    "x_all = np.array([-2,-1,0,3,3.5])[:,None]\n",
    "bo = 0\n",
    "Wo = np.array([0,1,-1])\n",
    "Wh = np.array([-1,1,1]).reshape(3,1)\n",
    "bh = np.array([-1,1,-2])\n",
    "params = np.array([Wh,bh,Wo,bo],dtype = object)"
   ]
  },
  {
   "cell_type": "code",
   "execution_count": 47,
   "metadata": {},
   "outputs": [],
   "source": [
    "def predict(x,params):\n",
    "    Wh,bh,Wo,bo = params\n",
    "    zh = x.dot(Wh.T) + bh[None,:]\n",
    "    uh = np.maximum(zh,0)\n",
    "    \n",
    "    zo = uh.dot(Wo[:,None]) + bo\n",
    "    yhat = zo.ravel()\n",
    "    \n",
    "    return yhat\n",
    "    "
   ]
  },
  {
   "cell_type": "code",
   "execution_count": 48,
   "metadata": {},
   "outputs": [],
   "source": [
    "yhat = predict(x_all,params)"
   ]
  },
  {
   "cell_type": "code",
   "execution_count": 49,
   "metadata": {},
   "outputs": [
    {
     "data": {
      "text/plain": [
       "array([0., 0., 1., 3., 3.])"
      ]
     },
     "execution_count": 49,
     "metadata": {},
     "output_type": "execute_result"
    }
   ],
   "source": [
    "yhat"
   ]
  },
  {
   "cell_type": "code",
   "execution_count": null,
   "metadata": {},
   "outputs": [],
   "source": []
  },
  {
   "cell_type": "markdown",
   "metadata": {},
   "source": [
    "Question 3"
   ]
  },
  {
   "cell_type": "code",
   "execution_count": null,
   "metadata": {},
   "outputs": [],
   "source": [
    "dl_du = dl_dy * ((1/np.sum(u,axis=1))[:,None]).dot(a.T)"
   ]
  },
  {
   "cell_type": "code",
   "execution_count": null,
   "metadata": {},
   "outputs": [],
   "source": []
  },
  {
   "cell_type": "code",
   "execution_count": null,
   "metadata": {},
   "outputs": [],
   "source": []
  },
  {
   "cell_type": "code",
   "execution_count": null,
   "metadata": {},
   "outputs": [],
   "source": [
    "dl_du = dl_dy * ((np.sum(u,axis=1)).dot(a[None,:]) - np.sum(a[None,:]*u,axis=1))/(np.sum(u**2, axis = 1))"
   ]
  },
  {
   "cell_type": "code",
   "execution_count": null,
   "metadata": {},
   "outputs": [],
   "source": []
  },
  {
   "cell_type": "code",
   "execution_count": null,
   "metadata": {},
   "outputs": [],
   "source": []
  }
 ],
 "metadata": {
  "kernelspec": {
   "display_name": "Python 3",
   "language": "python",
   "name": "python3"
  },
  "language_info": {
   "codemirror_mode": {
    "name": "ipython",
    "version": 3
   },
   "file_extension": ".py",
   "mimetype": "text/x-python",
   "name": "python",
   "nbconvert_exporter": "python",
   "pygments_lexer": "ipython3",
   "version": "3.8.5"
  }
 },
 "nbformat": 4,
 "nbformat_minor": 4
}
