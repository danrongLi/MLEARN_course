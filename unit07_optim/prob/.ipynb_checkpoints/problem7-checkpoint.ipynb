{
 "cells": [
  {
   "cell_type": "code",
   "execution_count": 1,
   "metadata": {},
   "outputs": [],
   "source": [
    "import numpy as np"
   ]
  },
  {
   "cell_type": "markdown",
   "metadata": {},
   "source": [
    "### Question 1"
   ]
  },
  {
   "cell_type": "code",
   "execution_count": 13,
   "metadata": {},
   "outputs": [],
   "source": [
    "def feval(w,a):\n",
    "    z1 = a[0]*w[0]*w[1]\n",
    "    z2 = a[1]*w[0]+a[2]*(w[1]**2)\n",
    "    J = z1*np.exp(z1*z2)\n",
    "    first = z1*z2*np.exp(2*z1*z2)\n",
    "    second = (z1**2)*np.exp(z1*z2)\n",
    "    dJ_1 = first*a[0]*w[1]+second*a[1]\n",
    "    dJ_2 = first*a[0]*w[0]+second*2*a[2]*w[1]\n",
    "    dJ = np.array([dJ_1,dJ_2])\n",
    "    return J,dJ"
   ]
  },
  {
   "cell_type": "code",
   "execution_count": 14,
   "metadata": {},
   "outputs": [],
   "source": [
    "w = [1,2]\n",
    "a = [1,2,3]\n",
    "J, dJ = feval(w,a)"
   ]
  },
  {
   "cell_type": "code",
   "execution_count": 15,
   "metadata": {},
   "outputs": [
    {
     "data": {
      "text/plain": [
       "2892514128582.95"
      ]
     },
     "execution_count": 15,
     "metadata": {},
     "output_type": "execute_result"
    }
   ],
   "source": [
    "J"
   ]
  },
  {
   "cell_type": "code",
   "execution_count": 16,
   "metadata": {},
   "outputs": [
    {
     "data": {
      "text/plain": [
       "array([1.17132932e+26, 5.85664659e+25])"
      ]
     },
     "execution_count": 16,
     "metadata": {},
     "output_type": "execute_result"
    }
   ],
   "source": [
    "dJ"
   ]
  },
  {
   "cell_type": "markdown",
   "metadata": {},
   "source": [
    "### Question 2"
   ]
  },
  {
   "cell_type": "code",
   "execution_count": 19,
   "metadata": {},
   "outputs": [
    {
     "data": {
      "text/plain": [
       "array([[1, 2],\n",
       "       [2, 3],\n",
       "       [3, 4]])"
      ]
     },
     "execution_count": 19,
     "metadata": {},
     "output_type": "execute_result"
    }
   ],
   "source": [
    "np.array([[1,2],[2,3],[3,4]])"
   ]
  },
  {
   "cell_type": "code",
   "execution_count": 26,
   "metadata": {},
   "outputs": [],
   "source": [
    "def Jeval(w,b,X,y):\n",
    "    y_hat = X.dot(w)+b\n",
    "    J = np.sum((np.log(y)[:,None]-np.log(y_hat)[:,None])**2,axis = 0)\n",
    "    Jgradw = X.T.dot(-2*(np.log(y)[:,None]-np.log(y_hat)[:,None])/(y_hat[:,None]))\n",
    "    Jgradb = -2*(np.log(y)[:,None]-np.log(y_hat)[:,None])/(y_hat[:,None])\n",
    "    return J,Jgradw,Jgradb"
   ]
  },
  {
   "cell_type": "code",
   "execution_count": 27,
   "metadata": {},
   "outputs": [],
   "source": [
    "w = [1,2]\n",
    "b = 1\n",
    "X = np.array([[1,2],[2,3],[3,4]])\n",
    "y = np.array([1,2,3])\n",
    "J,Jgradw,Jgradb = Jeval(w,b,X,y)"
   ]
  },
  {
   "cell_type": "code",
   "execution_count": 28,
   "metadata": {},
   "outputs": [
    {
     "data": {
      "text/plain": [
       "array([7.39446287])"
      ]
     },
     "execution_count": 28,
     "metadata": {},
     "output_type": "execute_result"
    }
   ],
   "source": [
    "J"
   ]
  },
  {
   "cell_type": "code",
   "execution_count": 29,
   "metadata": {},
   "outputs": [
    {
     "data": {
      "text/plain": [
       "array([[1.95887918],\n",
       "       [3.12142082]])"
      ]
     },
     "execution_count": 29,
     "metadata": {},
     "output_type": "execute_result"
    }
   ],
   "source": [
    "Jgradw"
   ]
  },
  {
   "cell_type": "code",
   "execution_count": 30,
   "metadata": {},
   "outputs": [
    {
     "data": {
      "text/plain": [
       "array([[0.59725316],\n",
       "       [0.33423942],\n",
       "       [0.23104906]])"
      ]
     },
     "execution_count": 30,
     "metadata": {},
     "output_type": "execute_result"
    }
   ],
   "source": [
    "Jgradb"
   ]
  },
  {
   "cell_type": "markdown",
   "metadata": {},
   "source": [
    "### Question 3"
   ]
  },
  {
   "cell_type": "code",
   "execution_count": 44,
   "metadata": {},
   "outputs": [],
   "source": [
    "def Jeval(w,X,y):\n",
    "    z = X.dot(w)\n",
    "    J = np.sum((y[:,None]-z[:,None])**2,axis = 0)\n",
    "    Jgrad0 = np.sum(2*(y[:,None]-(1/z)[:,None])/((z**2)[:,None]),axis = 0)\n",
    "    Jgradj = (X[:,1:]).T.dot(2*(y[:,None]-(1/z)[:,None])/((z**2)[:,None]))\n",
    "    print(Jgrad0)\n",
    "    print('\\n')\n",
    "    print(Jgradj)\n",
    "    Jgrad = np.vstack((Jgrad0,Jgradj))\n",
    "    return J,Jgrad"
   ]
  },
  {
   "cell_type": "code",
   "execution_count": 45,
   "metadata": {},
   "outputs": [
    {
     "name": "stdout",
     "output_type": "stream",
     "text": [
      "[0.04164667]\n",
      "\n",
      "\n",
      "[[0.1099137 ]\n",
      " [0.16658667]]\n"
     ]
    }
   ],
   "source": [
    "w = [1,1,2]\n",
    "X = np.array([[1,2,4],[1,3,4]])\n",
    "y = np.array([1,2])\n",
    "J,Jgrad = Jeval(w,X,y)"
   ]
  },
  {
   "cell_type": "code",
   "execution_count": 46,
   "metadata": {},
   "outputs": [
    {
     "data": {
      "text/plain": [
       "array([200])"
      ]
     },
     "execution_count": 46,
     "metadata": {},
     "output_type": "execute_result"
    }
   ],
   "source": [
    "J"
   ]
  },
  {
   "cell_type": "code",
   "execution_count": 47,
   "metadata": {},
   "outputs": [
    {
     "data": {
      "text/plain": [
       "array([[0.04164667],\n",
       "       [0.1099137 ],\n",
       "       [0.16658667]])"
      ]
     },
     "execution_count": 47,
     "metadata": {},
     "output_type": "execute_result"
    }
   ],
   "source": [
    "Jgrad"
   ]
  },
  {
   "cell_type": "markdown",
   "metadata": {},
   "source": [
    "### Question 4"
   ]
  },
  {
   "cell_type": "code",
   "execution_count": 97,
   "metadata": {},
   "outputs": [],
   "source": [
    "def Jeval(a,b,X,y):\n",
    "    z = (np.exp(-1/2*((X-b[None,:])**2))).dot(a[:,None])\n",
    "    Jgrada = (np.exp(-1/2*((X-b[None,:])**2))).T.dot((np.exp(z)/(1+(np.exp(z))))-y[:,None])\n",
    "    Jgradb = ((np.exp(-1/2*((X-b[None,:])**2)))*(X-b[None,:])).T.dot((np.exp(z)/(1+(np.exp(z))))-y[:,None])\n",
    "    return J,Jgrada,Jgradb"
   ]
  },
  {
   "cell_type": "code",
   "execution_count": 98,
   "metadata": {},
   "outputs": [],
   "source": [
    "a = np.array([1,2,3])\n",
    "b = np.array([2,3,4])\n",
    "y = np.array([1,0])\n",
    "x = np.array([[5,7,9],[2,4,6]])\n",
    "J,Jgrada,Jgradb = Jeval(a,b,X,y)"
   ]
  },
  {
   "cell_type": "code",
   "execution_count": 99,
   "metadata": {},
   "outputs": [
    {
     "data": {
      "text/plain": [
       "array([200])"
      ]
     },
     "execution_count": 99,
     "metadata": {},
     "output_type": "execute_result"
    }
   ],
   "source": [
    "J"
   ]
  },
  {
   "cell_type": "code",
   "execution_count": 100,
   "metadata": {},
   "outputs": [
    {
     "data": {
      "text/plain": [
       "array([[0.59945498],\n",
       "       [0.99148409],\n",
       "       [0.98833418]])"
      ]
     },
     "execution_count": 100,
     "metadata": {},
     "output_type": "execute_result"
    }
   ],
   "source": [
    "Jgrada"
   ]
  },
  {
   "cell_type": "code",
   "execution_count": 101,
   "metadata": {},
   "outputs": [
    {
     "data": {
      "text/plain": [
       "array([[-0.59945498],\n",
       "       [ 0.00485557],\n",
       "       [ 0.        ]])"
      ]
     },
     "execution_count": 101,
     "metadata": {},
     "output_type": "execute_result"
    }
   ],
   "source": [
    "Jgradb"
   ]
  },
  {
   "cell_type": "markdown",
   "metadata": {},
   "source": [
    "### Question 7"
   ]
  },
  {
   "cell_type": "code",
   "execution_count": null,
   "metadata": {},
   "outputs": [],
   "source": [
    "def Jeval(X,y):\n",
    "    z = (X.T.dot(P)).dot(X)\n",
    "    J = np.sum(z/(y[:,None])-np.log(z),axis = 0)\n",
    "    Jgrad = ((1/y)[:,None] - 1/z).dot(X.T.dot(X))\n",
    "    return J,Jgrad"
   ]
  },
  {
   "cell_type": "code",
   "execution_count": null,
   "metadata": {},
   "outputs": [],
   "source": []
  },
  {
   "cell_type": "code",
   "execution_count": null,
   "metadata": {},
   "outputs": [],
   "source": []
  },
  {
   "cell_type": "code",
   "execution_count": null,
   "metadata": {},
   "outputs": [],
   "source": []
  },
  {
   "cell_type": "code",
   "execution_count": null,
   "metadata": {},
   "outputs": [],
   "source": []
  },
  {
   "cell_type": "code",
   "execution_count": null,
   "metadata": {},
   "outputs": [],
   "source": []
  }
 ],
 "metadata": {
  "kernelspec": {
   "display_name": "Python 3",
   "language": "python",
   "name": "python3"
  },
  "language_info": {
   "codemirror_mode": {
    "name": "ipython",
    "version": 3
   },
   "file_extension": ".py",
   "mimetype": "text/x-python",
   "name": "python",
   "nbconvert_exporter": "python",
   "pygments_lexer": "ipython3",
   "version": "3.8.5"
  }
 },
 "nbformat": 4,
 "nbformat_minor": 4
}
