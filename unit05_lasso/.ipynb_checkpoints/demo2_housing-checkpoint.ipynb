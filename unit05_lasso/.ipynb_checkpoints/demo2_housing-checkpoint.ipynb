{
 "cells": [
  {
   "cell_type": "markdown",
   "metadata": {},
   "source": [
    "# Demo:  House Price Feature Selection with LASSO \n",
    "\n",
    "In this demo, we illustrate the classic technique of LASSO regularization as a feature selection method.\n",
    "You will learn to:\n",
    "\n",
    "* Identify and one-hot code categorical variables\n",
    "* Scale data before processing\n",
    "* Fit a LASSO model \n",
    "* Determine the regularization level with cross-validation\n",
    "* Draw the coefficient path as a function of the regularization level\n",
    "\n",
    "The data for this demo comes from this excellent \n",
    "[Kaggle competition](https://www.kaggle.com/c/house-prices-advanced-regression-techniques) on predicting\n",
    "housing prices.  The data was developed by Dean DeCock at Truman State University in the nice \n",
    "[paper](http://jse.amstat.org/v19n3/decock.pdf).\n",
    "\n",
    "There is another demo in this repository on the Prostate cancer dataset that was used in earlier versions\n",
    "of this class.  But, this dataset somewhat better illustrates the need for feature selection.\n",
    "\n",
    "First, we load the regular packages."
   ]
  },
  {
   "cell_type": "code",
   "execution_count": 1,
   "metadata": {},
   "outputs": [],
   "source": [
    "import pandas as pd\n",
    "import numpy as np\n",
    "import matplotlib.pyplot as plt\n",
    "import matplotlib\n"
   ]
  },
  {
   "cell_type": "markdown",
   "metadata": {},
   "source": [
    "## Downloading and Cleaning the Data"
   ]
  },
  {
   "cell_type": "markdown",
   "metadata": {},
   "source": [
    "On the Kaggle competition site, you can download a train data set (with labels) and a test data set (with no labels).  Here, we will just use the train dataset since it has labels that we can use to assess the results.  Later, we will split that dataset into training and test. "
   ]
  },
  {
   "cell_type": "code",
   "execution_count": 2,
   "metadata": {},
   "outputs": [
    {
     "name": "stdout",
     "output_type": "stream",
     "text": [
      "File housing_train.csv is already downloaded\n"
     ]
    }
   ],
   "source": [
    "fn_src = 'https://raw.githubusercontent.com/sdrangan/introml/master/unit05_lasso/housing_train.csv'\n",
    "fn_dst = 'housing_train.csv'\n",
    "\n",
    "import os\n",
    "from six.moves import urllib\n",
    "\n",
    "if os.path.isfile(fn_dst):\n",
    "    print('File %s is already downloaded' % fn_dst)\n",
    "else:\n",
    "    urllib.request.urlretrieve(fn_src, fn_dst)"
   ]
  },
  {
   "cell_type": "markdown",
   "metadata": {},
   "source": [
    "We then load the file into a pandas dataframe and display the data.  "
   ]
  },
  {
   "cell_type": "code",
   "execution_count": 3,
   "metadata": {},
   "outputs": [
    {
     "data": {
      "text/html": [
       "<div>\n",
       "<style scoped>\n",
       "    .dataframe tbody tr th:only-of-type {\n",
       "        vertical-align: middle;\n",
       "    }\n",
       "\n",
       "    .dataframe tbody tr th {\n",
       "        vertical-align: top;\n",
       "    }\n",
       "\n",
       "    .dataframe thead th {\n",
       "        text-align: right;\n",
       "    }\n",
       "</style>\n",
       "<table border=\"1\" class=\"dataframe\">\n",
       "  <thead>\n",
       "    <tr style=\"text-align: right;\">\n",
       "      <th></th>\n",
       "      <th>Id</th>\n",
       "      <th>MSSubClass</th>\n",
       "      <th>MSZoning</th>\n",
       "      <th>LotFrontage</th>\n",
       "      <th>LotArea</th>\n",
       "      <th>Street</th>\n",
       "      <th>Alley</th>\n",
       "      <th>LotShape</th>\n",
       "      <th>LandContour</th>\n",
       "      <th>Utilities</th>\n",
       "      <th>...</th>\n",
       "      <th>PoolArea</th>\n",
       "      <th>PoolQC</th>\n",
       "      <th>Fence</th>\n",
       "      <th>MiscFeature</th>\n",
       "      <th>MiscVal</th>\n",
       "      <th>MoSold</th>\n",
       "      <th>YrSold</th>\n",
       "      <th>SaleType</th>\n",
       "      <th>SaleCondition</th>\n",
       "      <th>SalePrice</th>\n",
       "    </tr>\n",
       "  </thead>\n",
       "  <tbody>\n",
       "    <tr>\n",
       "      <th>0</th>\n",
       "      <td>1</td>\n",
       "      <td>60</td>\n",
       "      <td>RL</td>\n",
       "      <td>65.0</td>\n",
       "      <td>8450</td>\n",
       "      <td>Pave</td>\n",
       "      <td>NaN</td>\n",
       "      <td>Reg</td>\n",
       "      <td>Lvl</td>\n",
       "      <td>AllPub</td>\n",
       "      <td>...</td>\n",
       "      <td>0</td>\n",
       "      <td>NaN</td>\n",
       "      <td>NaN</td>\n",
       "      <td>NaN</td>\n",
       "      <td>0</td>\n",
       "      <td>2</td>\n",
       "      <td>2008</td>\n",
       "      <td>WD</td>\n",
       "      <td>Normal</td>\n",
       "      <td>208500</td>\n",
       "    </tr>\n",
       "    <tr>\n",
       "      <th>1</th>\n",
       "      <td>2</td>\n",
       "      <td>20</td>\n",
       "      <td>RL</td>\n",
       "      <td>80.0</td>\n",
       "      <td>9600</td>\n",
       "      <td>Pave</td>\n",
       "      <td>NaN</td>\n",
       "      <td>Reg</td>\n",
       "      <td>Lvl</td>\n",
       "      <td>AllPub</td>\n",
       "      <td>...</td>\n",
       "      <td>0</td>\n",
       "      <td>NaN</td>\n",
       "      <td>NaN</td>\n",
       "      <td>NaN</td>\n",
       "      <td>0</td>\n",
       "      <td>5</td>\n",
       "      <td>2007</td>\n",
       "      <td>WD</td>\n",
       "      <td>Normal</td>\n",
       "      <td>181500</td>\n",
       "    </tr>\n",
       "    <tr>\n",
       "      <th>2</th>\n",
       "      <td>3</td>\n",
       "      <td>60</td>\n",
       "      <td>RL</td>\n",
       "      <td>68.0</td>\n",
       "      <td>11250</td>\n",
       "      <td>Pave</td>\n",
       "      <td>NaN</td>\n",
       "      <td>IR1</td>\n",
       "      <td>Lvl</td>\n",
       "      <td>AllPub</td>\n",
       "      <td>...</td>\n",
       "      <td>0</td>\n",
       "      <td>NaN</td>\n",
       "      <td>NaN</td>\n",
       "      <td>NaN</td>\n",
       "      <td>0</td>\n",
       "      <td>9</td>\n",
       "      <td>2008</td>\n",
       "      <td>WD</td>\n",
       "      <td>Normal</td>\n",
       "      <td>223500</td>\n",
       "    </tr>\n",
       "    <tr>\n",
       "      <th>3</th>\n",
       "      <td>4</td>\n",
       "      <td>70</td>\n",
       "      <td>RL</td>\n",
       "      <td>60.0</td>\n",
       "      <td>9550</td>\n",
       "      <td>Pave</td>\n",
       "      <td>NaN</td>\n",
       "      <td>IR1</td>\n",
       "      <td>Lvl</td>\n",
       "      <td>AllPub</td>\n",
       "      <td>...</td>\n",
       "      <td>0</td>\n",
       "      <td>NaN</td>\n",
       "      <td>NaN</td>\n",
       "      <td>NaN</td>\n",
       "      <td>0</td>\n",
       "      <td>2</td>\n",
       "      <td>2006</td>\n",
       "      <td>WD</td>\n",
       "      <td>Abnorml</td>\n",
       "      <td>140000</td>\n",
       "    </tr>\n",
       "    <tr>\n",
       "      <th>4</th>\n",
       "      <td>5</td>\n",
       "      <td>60</td>\n",
       "      <td>RL</td>\n",
       "      <td>84.0</td>\n",
       "      <td>14260</td>\n",
       "      <td>Pave</td>\n",
       "      <td>NaN</td>\n",
       "      <td>IR1</td>\n",
       "      <td>Lvl</td>\n",
       "      <td>AllPub</td>\n",
       "      <td>...</td>\n",
       "      <td>0</td>\n",
       "      <td>NaN</td>\n",
       "      <td>NaN</td>\n",
       "      <td>NaN</td>\n",
       "      <td>0</td>\n",
       "      <td>12</td>\n",
       "      <td>2008</td>\n",
       "      <td>WD</td>\n",
       "      <td>Normal</td>\n",
       "      <td>250000</td>\n",
       "    </tr>\n",
       "  </tbody>\n",
       "</table>\n",
       "<p>5 rows × 81 columns</p>\n",
       "</div>"
      ],
      "text/plain": [
       "   Id  MSSubClass MSZoning  LotFrontage  LotArea Street Alley LotShape  \\\n",
       "0   1          60       RL         65.0     8450   Pave   NaN      Reg   \n",
       "1   2          20       RL         80.0     9600   Pave   NaN      Reg   \n",
       "2   3          60       RL         68.0    11250   Pave   NaN      IR1   \n",
       "3   4          70       RL         60.0     9550   Pave   NaN      IR1   \n",
       "4   5          60       RL         84.0    14260   Pave   NaN      IR1   \n",
       "\n",
       "  LandContour Utilities  ... PoolArea PoolQC Fence MiscFeature MiscVal MoSold  \\\n",
       "0         Lvl    AllPub  ...        0    NaN   NaN         NaN       0      2   \n",
       "1         Lvl    AllPub  ...        0    NaN   NaN         NaN       0      5   \n",
       "2         Lvl    AllPub  ...        0    NaN   NaN         NaN       0      9   \n",
       "3         Lvl    AllPub  ...        0    NaN   NaN         NaN       0      2   \n",
       "4         Lvl    AllPub  ...        0    NaN   NaN         NaN       0     12   \n",
       "\n",
       "  YrSold  SaleType  SaleCondition  SalePrice  \n",
       "0   2008        WD         Normal     208500  \n",
       "1   2007        WD         Normal     181500  \n",
       "2   2008        WD         Normal     223500  \n",
       "3   2006        WD        Abnorml     140000  \n",
       "4   2008        WD         Normal     250000  \n",
       "\n",
       "[5 rows x 81 columns]"
      ]
     },
     "execution_count": 3,
     "metadata": {},
     "output_type": "execute_result"
    }
   ],
   "source": [
    "df = pd.read_csv('housing_train.csv')\n",
    "df.head()"
   ]
  },
  {
   "cell_type": "markdown",
   "metadata": {},
   "source": [
    "We print the number of attributes and samples.  We see that there are a large number of attributes for each home sale."
   ]
  },
  {
   "cell_type": "code",
   "execution_count": 4,
   "metadata": {},
   "outputs": [
    {
     "name": "stdout",
     "output_type": "stream",
     "text": [
      "Number samples = 1460\n",
      "Number attributes per sample = 81\n"
     ]
    }
   ],
   "source": [
    "nsamp, natt = df.shape\n",
    "print('Number samples = %d' % nsamp)\n",
    "print('Number attributes per sample = %d' % natt)"
   ]
  },
  {
   "cell_type": "markdown",
   "metadata": {},
   "source": [
    "Before we proceed, we need to remove the columns with missing values. We see that we remove about 19 attributes."
   ]
  },
  {
   "cell_type": "code",
   "execution_count": 5,
   "metadata": {},
   "outputs": [
    {
     "name": "stdout",
     "output_type": "stream",
     "text": [
      "Number samples = 1460\n",
      "Number attributes per sample = 62\n"
     ]
    }
   ],
   "source": [
    "df = df.dropna(axis=1)\n",
    "\n",
    "nsamp, natt = df.shape\n",
    "print('Number samples = %d' % nsamp)\n",
    "print('Number attributes per sample = %d' % natt)\n"
   ]
  },
  {
   "cell_type": "markdown",
   "metadata": {},
   "source": [
    "It is suggested in DeCock's [paper](http://jse.amstat.org/v19n3/decock.pdf), that to make the regression easier, we remove all the entries where the `SaleCondition` was not normal.  We do this with the following code which should leave us with 1198 samples."
   ]
  },
  {
   "cell_type": "code",
   "execution_count": 6,
   "metadata": {},
   "outputs": [
    {
     "name": "stdout",
     "output_type": "stream",
     "text": [
      "Number samples = 1198\n",
      "Number attributes per sample = 62\n"
     ]
    }
   ],
   "source": [
    "df = df.loc[df['SaleCondition'] == 'Normal']\n",
    "\n",
    "nsamp, natt = df.shape\n",
    "print('Number samples = %d' % nsamp)\n",
    "print('Number attributes per sample = %d' % natt)"
   ]
  },
  {
   "cell_type": "markdown",
   "metadata": {},
   "source": [
    "## One-Hot Coding the Categorical Variables\n",
    "\n",
    "You will see there are a large number of variables that are *categorical* meaning they are one of a few discrete values.  \n",
    "We can use the `df.dtypes` to get the type of each variable.  Categorial variables have type `object`.  "
   ]
  },
  {
   "cell_type": "code",
   "execution_count": 7,
   "metadata": {},
   "outputs": [
    {
     "name": "stdout",
     "output_type": "stream",
     "text": [
      "Id                int64\n",
      "MSSubClass        int64\n",
      "MSZoning         object\n",
      "LotArea           int64\n",
      "Street           object\n",
      "                  ...  \n",
      "MoSold            int64\n",
      "YrSold            int64\n",
      "SaleType         object\n",
      "SaleCondition    object\n",
      "SalePrice         int64\n",
      "Length: 62, dtype: object\n"
     ]
    }
   ],
   "source": [
    "print(df.dtypes)"
   ]
  },
  {
   "cell_type": "markdown",
   "metadata": {},
   "source": [
    "We want to one hot code all the categorical variables.  As a first step, a first list `cat_vars` with all the categorical variables and `real_vars` with the real variables (i.e. non-categorical).   In both lists we do not include the variables `ignore_vars` which include the index, month of the sale or sales price (the sales price) will be used as the target."
   ]
  },
  {
   "cell_type": "code",
   "execution_count": 8,
   "metadata": {},
   "outputs": [
    {
     "name": "stdout",
     "output_type": "stream",
     "text": [
      "Categorical variables = ['MSZoning', 'Street', 'LotShape', 'LandContour', 'Utilities', 'LotConfig', 'LandSlope', 'Neighborhood', 'Condition1', 'Condition2', 'BldgType', 'HouseStyle', 'RoofStyle', 'RoofMatl', 'Exterior1st', 'Exterior2nd', 'ExterQual', 'ExterCond', 'Foundation', 'Heating', 'HeatingQC', 'CentralAir', 'KitchenQual', 'Functional', 'PavedDrive', 'SaleType', 'SaleCondition']\n",
      "\n",
      "Real variables = ['MSSubClass', 'LotArea', 'OverallQual', 'OverallCond', 'YearBuilt', 'YearRemodAdd', 'BsmtFinSF1', 'BsmtFinSF2', 'BsmtUnfSF', 'TotalBsmtSF', '1stFlrSF', '2ndFlrSF', 'LowQualFinSF', 'GrLivArea', 'BsmtFullBath', 'BsmtHalfBath', 'FullBath', 'HalfBath', 'BedroomAbvGr', 'KitchenAbvGr', 'TotRmsAbvGrd', 'Fireplaces', 'GarageCars', 'GarageArea', 'WoodDeckSF', 'OpenPorchSF', 'EnclosedPorch', '3SsnPorch', 'ScreenPorch', 'PoolArea', 'MiscVal', 'YrSold']\n"
     ]
    }
   ],
   "source": [
    "# Remove the ID, month sold and sales price (it is the target)\n",
    "ignore_vars = ['Id', 'MoSold', 'SalePrice']\n",
    "\n",
    "# Find real and categorical variables\n",
    "cols = df.columns\n",
    "cat_vars = []\n",
    "real_vars = []\n",
    "\n",
    "for col in cols:\n",
    "    \n",
    "    if not (col in ignore_vars):\n",
    "        if df.dtypes[col]  == 'object':\n",
    "            cat_vars.append(col)\n",
    "        else:\n",
    "            real_vars.append(col)\n",
    "                \n",
    "print('Categorical variables = ' + str(cat_vars))\n",
    "print('')\n",
    "print('Real variables = ' + str(real_vars))"
   ]
  },
  {
   "cell_type": "markdown",
   "metadata": {},
   "source": [
    "We next one-hot coded categorical variables.  To do this, we use the `pd.get_dummies` command to convert the categorical variables to one hot coded items.   We use the `drop_first=True` to replace each category with `k` values to `k-1` variables.  This removes linearly dependent columns."
   ]
  },
  {
   "cell_type": "code",
   "execution_count": 9,
   "metadata": {},
   "outputs": [],
   "source": [
    "# Get the dataframes with real and categorical variables\n",
    "df_real = df[real_vars]\n",
    "df_cat = df[cat_vars]\n",
    "\n",
    "# One-hot encode the categorical variables\n",
    "df_cat_enc = pd.get_dummies(df_cat, drop_first=True)"
   ]
  },
  {
   "cell_type": "markdown",
   "metadata": {},
   "source": [
    "To see how the one hot coding worked, we print out the original categorical table, `df_cat` and the one hot coded variables `df_cat_enc`.  Observe how a variable like `MSZoning` is converted to multiple columns like `MSZoning_C`, `MSZoning_FV`, ..., `MSZoning_RM` corresponding to each possible value.  "
   ]
  },
  {
   "cell_type": "code",
   "execution_count": 10,
   "metadata": {},
   "outputs": [
    {
     "data": {
      "text/html": [
       "<div>\n",
       "<style scoped>\n",
       "    .dataframe tbody tr th:only-of-type {\n",
       "        vertical-align: middle;\n",
       "    }\n",
       "\n",
       "    .dataframe tbody tr th {\n",
       "        vertical-align: top;\n",
       "    }\n",
       "\n",
       "    .dataframe thead th {\n",
       "        text-align: right;\n",
       "    }\n",
       "</style>\n",
       "<table border=\"1\" class=\"dataframe\">\n",
       "  <thead>\n",
       "    <tr style=\"text-align: right;\">\n",
       "      <th></th>\n",
       "      <th>MSZoning</th>\n",
       "      <th>Street</th>\n",
       "      <th>LotShape</th>\n",
       "      <th>LandContour</th>\n",
       "      <th>Utilities</th>\n",
       "      <th>LotConfig</th>\n",
       "      <th>LandSlope</th>\n",
       "      <th>Neighborhood</th>\n",
       "      <th>Condition1</th>\n",
       "      <th>Condition2</th>\n",
       "      <th>...</th>\n",
       "      <th>ExterCond</th>\n",
       "      <th>Foundation</th>\n",
       "      <th>Heating</th>\n",
       "      <th>HeatingQC</th>\n",
       "      <th>CentralAir</th>\n",
       "      <th>KitchenQual</th>\n",
       "      <th>Functional</th>\n",
       "      <th>PavedDrive</th>\n",
       "      <th>SaleType</th>\n",
       "      <th>SaleCondition</th>\n",
       "    </tr>\n",
       "  </thead>\n",
       "  <tbody>\n",
       "    <tr>\n",
       "      <th>0</th>\n",
       "      <td>RL</td>\n",
       "      <td>Pave</td>\n",
       "      <td>Reg</td>\n",
       "      <td>Lvl</td>\n",
       "      <td>AllPub</td>\n",
       "      <td>Inside</td>\n",
       "      <td>Gtl</td>\n",
       "      <td>CollgCr</td>\n",
       "      <td>Norm</td>\n",
       "      <td>Norm</td>\n",
       "      <td>...</td>\n",
       "      <td>TA</td>\n",
       "      <td>PConc</td>\n",
       "      <td>GasA</td>\n",
       "      <td>Ex</td>\n",
       "      <td>Y</td>\n",
       "      <td>Gd</td>\n",
       "      <td>Typ</td>\n",
       "      <td>Y</td>\n",
       "      <td>WD</td>\n",
       "      <td>Normal</td>\n",
       "    </tr>\n",
       "    <tr>\n",
       "      <th>1</th>\n",
       "      <td>RL</td>\n",
       "      <td>Pave</td>\n",
       "      <td>Reg</td>\n",
       "      <td>Lvl</td>\n",
       "      <td>AllPub</td>\n",
       "      <td>FR2</td>\n",
       "      <td>Gtl</td>\n",
       "      <td>Veenker</td>\n",
       "      <td>Feedr</td>\n",
       "      <td>Norm</td>\n",
       "      <td>...</td>\n",
       "      <td>TA</td>\n",
       "      <td>CBlock</td>\n",
       "      <td>GasA</td>\n",
       "      <td>Ex</td>\n",
       "      <td>Y</td>\n",
       "      <td>TA</td>\n",
       "      <td>Typ</td>\n",
       "      <td>Y</td>\n",
       "      <td>WD</td>\n",
       "      <td>Normal</td>\n",
       "    </tr>\n",
       "    <tr>\n",
       "      <th>2</th>\n",
       "      <td>RL</td>\n",
       "      <td>Pave</td>\n",
       "      <td>IR1</td>\n",
       "      <td>Lvl</td>\n",
       "      <td>AllPub</td>\n",
       "      <td>Inside</td>\n",
       "      <td>Gtl</td>\n",
       "      <td>CollgCr</td>\n",
       "      <td>Norm</td>\n",
       "      <td>Norm</td>\n",
       "      <td>...</td>\n",
       "      <td>TA</td>\n",
       "      <td>PConc</td>\n",
       "      <td>GasA</td>\n",
       "      <td>Ex</td>\n",
       "      <td>Y</td>\n",
       "      <td>Gd</td>\n",
       "      <td>Typ</td>\n",
       "      <td>Y</td>\n",
       "      <td>WD</td>\n",
       "      <td>Normal</td>\n",
       "    </tr>\n",
       "    <tr>\n",
       "      <th>4</th>\n",
       "      <td>RL</td>\n",
       "      <td>Pave</td>\n",
       "      <td>IR1</td>\n",
       "      <td>Lvl</td>\n",
       "      <td>AllPub</td>\n",
       "      <td>FR2</td>\n",
       "      <td>Gtl</td>\n",
       "      <td>NoRidge</td>\n",
       "      <td>Norm</td>\n",
       "      <td>Norm</td>\n",
       "      <td>...</td>\n",
       "      <td>TA</td>\n",
       "      <td>PConc</td>\n",
       "      <td>GasA</td>\n",
       "      <td>Ex</td>\n",
       "      <td>Y</td>\n",
       "      <td>Gd</td>\n",
       "      <td>Typ</td>\n",
       "      <td>Y</td>\n",
       "      <td>WD</td>\n",
       "      <td>Normal</td>\n",
       "    </tr>\n",
       "    <tr>\n",
       "      <th>5</th>\n",
       "      <td>RL</td>\n",
       "      <td>Pave</td>\n",
       "      <td>IR1</td>\n",
       "      <td>Lvl</td>\n",
       "      <td>AllPub</td>\n",
       "      <td>Inside</td>\n",
       "      <td>Gtl</td>\n",
       "      <td>Mitchel</td>\n",
       "      <td>Norm</td>\n",
       "      <td>Norm</td>\n",
       "      <td>...</td>\n",
       "      <td>TA</td>\n",
       "      <td>Wood</td>\n",
       "      <td>GasA</td>\n",
       "      <td>Ex</td>\n",
       "      <td>Y</td>\n",
       "      <td>TA</td>\n",
       "      <td>Typ</td>\n",
       "      <td>Y</td>\n",
       "      <td>WD</td>\n",
       "      <td>Normal</td>\n",
       "    </tr>\n",
       "  </tbody>\n",
       "</table>\n",
       "<p>5 rows × 27 columns</p>\n",
       "</div>"
      ],
      "text/plain": [
       "  MSZoning Street LotShape LandContour Utilities LotConfig LandSlope  \\\n",
       "0       RL   Pave      Reg         Lvl    AllPub    Inside       Gtl   \n",
       "1       RL   Pave      Reg         Lvl    AllPub       FR2       Gtl   \n",
       "2       RL   Pave      IR1         Lvl    AllPub    Inside       Gtl   \n",
       "4       RL   Pave      IR1         Lvl    AllPub       FR2       Gtl   \n",
       "5       RL   Pave      IR1         Lvl    AllPub    Inside       Gtl   \n",
       "\n",
       "  Neighborhood Condition1 Condition2  ... ExterCond Foundation Heating  \\\n",
       "0      CollgCr       Norm       Norm  ...        TA      PConc    GasA   \n",
       "1      Veenker      Feedr       Norm  ...        TA     CBlock    GasA   \n",
       "2      CollgCr       Norm       Norm  ...        TA      PConc    GasA   \n",
       "4      NoRidge       Norm       Norm  ...        TA      PConc    GasA   \n",
       "5      Mitchel       Norm       Norm  ...        TA       Wood    GasA   \n",
       "\n",
       "  HeatingQC CentralAir KitchenQual Functional PavedDrive SaleType  \\\n",
       "0        Ex          Y          Gd        Typ          Y       WD   \n",
       "1        Ex          Y          TA        Typ          Y       WD   \n",
       "2        Ex          Y          Gd        Typ          Y       WD   \n",
       "4        Ex          Y          Gd        Typ          Y       WD   \n",
       "5        Ex          Y          TA        Typ          Y       WD   \n",
       "\n",
       "  SaleCondition  \n",
       "0        Normal  \n",
       "1        Normal  \n",
       "2        Normal  \n",
       "4        Normal  \n",
       "5        Normal  \n",
       "\n",
       "[5 rows x 27 columns]"
      ]
     },
     "execution_count": 10,
     "metadata": {},
     "output_type": "execute_result"
    }
   ],
   "source": [
    "df_cat.head()"
   ]
  },
  {
   "cell_type": "code",
   "execution_count": 11,
   "metadata": {},
   "outputs": [
    {
     "data": {
      "text/html": [
       "<div>\n",
       "<style scoped>\n",
       "    .dataframe tbody tr th:only-of-type {\n",
       "        vertical-align: middle;\n",
       "    }\n",
       "\n",
       "    .dataframe tbody tr th {\n",
       "        vertical-align: top;\n",
       "    }\n",
       "\n",
       "    .dataframe thead th {\n",
       "        text-align: right;\n",
       "    }\n",
       "</style>\n",
       "<table border=\"1\" class=\"dataframe\">\n",
       "  <thead>\n",
       "    <tr style=\"text-align: right;\">\n",
       "      <th></th>\n",
       "      <th>MSZoning_FV</th>\n",
       "      <th>MSZoning_RH</th>\n",
       "      <th>MSZoning_RL</th>\n",
       "      <th>MSZoning_RM</th>\n",
       "      <th>Street_Pave</th>\n",
       "      <th>LotShape_IR2</th>\n",
       "      <th>LotShape_IR3</th>\n",
       "      <th>LotShape_Reg</th>\n",
       "      <th>LandContour_HLS</th>\n",
       "      <th>LandContour_Low</th>\n",
       "      <th>...</th>\n",
       "      <th>Functional_Mod</th>\n",
       "      <th>Functional_Typ</th>\n",
       "      <th>PavedDrive_P</th>\n",
       "      <th>PavedDrive_Y</th>\n",
       "      <th>SaleType_CWD</th>\n",
       "      <th>SaleType_Con</th>\n",
       "      <th>SaleType_ConLD</th>\n",
       "      <th>SaleType_ConLI</th>\n",
       "      <th>SaleType_ConLw</th>\n",
       "      <th>SaleType_WD</th>\n",
       "    </tr>\n",
       "  </thead>\n",
       "  <tbody>\n",
       "    <tr>\n",
       "      <th>0</th>\n",
       "      <td>0</td>\n",
       "      <td>0</td>\n",
       "      <td>1</td>\n",
       "      <td>0</td>\n",
       "      <td>1</td>\n",
       "      <td>0</td>\n",
       "      <td>0</td>\n",
       "      <td>1</td>\n",
       "      <td>0</td>\n",
       "      <td>0</td>\n",
       "      <td>...</td>\n",
       "      <td>0</td>\n",
       "      <td>1</td>\n",
       "      <td>0</td>\n",
       "      <td>1</td>\n",
       "      <td>0</td>\n",
       "      <td>0</td>\n",
       "      <td>0</td>\n",
       "      <td>0</td>\n",
       "      <td>0</td>\n",
       "      <td>1</td>\n",
       "    </tr>\n",
       "    <tr>\n",
       "      <th>1</th>\n",
       "      <td>0</td>\n",
       "      <td>0</td>\n",
       "      <td>1</td>\n",
       "      <td>0</td>\n",
       "      <td>1</td>\n",
       "      <td>0</td>\n",
       "      <td>0</td>\n",
       "      <td>1</td>\n",
       "      <td>0</td>\n",
       "      <td>0</td>\n",
       "      <td>...</td>\n",
       "      <td>0</td>\n",
       "      <td>1</td>\n",
       "      <td>0</td>\n",
       "      <td>1</td>\n",
       "      <td>0</td>\n",
       "      <td>0</td>\n",
       "      <td>0</td>\n",
       "      <td>0</td>\n",
       "      <td>0</td>\n",
       "      <td>1</td>\n",
       "    </tr>\n",
       "    <tr>\n",
       "      <th>2</th>\n",
       "      <td>0</td>\n",
       "      <td>0</td>\n",
       "      <td>1</td>\n",
       "      <td>0</td>\n",
       "      <td>1</td>\n",
       "      <td>0</td>\n",
       "      <td>0</td>\n",
       "      <td>0</td>\n",
       "      <td>0</td>\n",
       "      <td>0</td>\n",
       "      <td>...</td>\n",
       "      <td>0</td>\n",
       "      <td>1</td>\n",
       "      <td>0</td>\n",
       "      <td>1</td>\n",
       "      <td>0</td>\n",
       "      <td>0</td>\n",
       "      <td>0</td>\n",
       "      <td>0</td>\n",
       "      <td>0</td>\n",
       "      <td>1</td>\n",
       "    </tr>\n",
       "    <tr>\n",
       "      <th>4</th>\n",
       "      <td>0</td>\n",
       "      <td>0</td>\n",
       "      <td>1</td>\n",
       "      <td>0</td>\n",
       "      <td>1</td>\n",
       "      <td>0</td>\n",
       "      <td>0</td>\n",
       "      <td>0</td>\n",
       "      <td>0</td>\n",
       "      <td>0</td>\n",
       "      <td>...</td>\n",
       "      <td>0</td>\n",
       "      <td>1</td>\n",
       "      <td>0</td>\n",
       "      <td>1</td>\n",
       "      <td>0</td>\n",
       "      <td>0</td>\n",
       "      <td>0</td>\n",
       "      <td>0</td>\n",
       "      <td>0</td>\n",
       "      <td>1</td>\n",
       "    </tr>\n",
       "    <tr>\n",
       "      <th>5</th>\n",
       "      <td>0</td>\n",
       "      <td>0</td>\n",
       "      <td>1</td>\n",
       "      <td>0</td>\n",
       "      <td>1</td>\n",
       "      <td>0</td>\n",
       "      <td>0</td>\n",
       "      <td>0</td>\n",
       "      <td>0</td>\n",
       "      <td>0</td>\n",
       "      <td>...</td>\n",
       "      <td>0</td>\n",
       "      <td>1</td>\n",
       "      <td>0</td>\n",
       "      <td>1</td>\n",
       "      <td>0</td>\n",
       "      <td>0</td>\n",
       "      <td>0</td>\n",
       "      <td>0</td>\n",
       "      <td>0</td>\n",
       "      <td>1</td>\n",
       "    </tr>\n",
       "  </tbody>\n",
       "</table>\n",
       "<p>5 rows × 142 columns</p>\n",
       "</div>"
      ],
      "text/plain": [
       "   MSZoning_FV  MSZoning_RH  MSZoning_RL  MSZoning_RM  Street_Pave  \\\n",
       "0            0            0            1            0            1   \n",
       "1            0            0            1            0            1   \n",
       "2            0            0            1            0            1   \n",
       "4            0            0            1            0            1   \n",
       "5            0            0            1            0            1   \n",
       "\n",
       "   LotShape_IR2  LotShape_IR3  LotShape_Reg  LandContour_HLS  LandContour_Low  \\\n",
       "0             0             0             1                0                0   \n",
       "1             0             0             1                0                0   \n",
       "2             0             0             0                0                0   \n",
       "4             0             0             0                0                0   \n",
       "5             0             0             0                0                0   \n",
       "\n",
       "   ...  Functional_Mod  Functional_Typ  PavedDrive_P  PavedDrive_Y  \\\n",
       "0  ...               0               1             0             1   \n",
       "1  ...               0               1             0             1   \n",
       "2  ...               0               1             0             1   \n",
       "4  ...               0               1             0             1   \n",
       "5  ...               0               1             0             1   \n",
       "\n",
       "   SaleType_CWD  SaleType_Con  SaleType_ConLD  SaleType_ConLI  SaleType_ConLw  \\\n",
       "0             0             0               0               0               0   \n",
       "1             0             0               0               0               0   \n",
       "2             0             0               0               0               0   \n",
       "4             0             0               0               0               0   \n",
       "5             0             0               0               0               0   \n",
       "\n",
       "   SaleType_WD  \n",
       "0            1  \n",
       "1            1  \n",
       "2            1  \n",
       "4            1  \n",
       "5            1  \n",
       "\n",
       "[5 rows x 142 columns]"
      ]
     },
     "execution_count": 11,
     "metadata": {},
     "output_type": "execute_result"
    }
   ],
   "source": [
    "df_cat_enc.head()"
   ]
  },
  {
   "cell_type": "markdown",
   "metadata": {},
   "source": [
    "To get the data matrix, we then concatanate the real and encoded categorical tables and convert to an array.  We see there are now 214 attributes."
   ]
  },
  {
   "cell_type": "code",
   "execution_count": 12,
   "metadata": {},
   "outputs": [
    {
     "name": "stdout",
     "output_type": "stream",
     "text": [
      "(1198, 174)\n"
     ]
    }
   ],
   "source": [
    "df_enc = pd.concat((df_real, df_cat_enc), axis=1)\n",
    "X = np.array(df_enc)\n",
    "print(X.shape)\n",
    "\n",
    "xnames = df_enc.columns"
   ]
  },
  {
   "cell_type": "markdown",
   "metadata": {},
   "source": [
    "To get the target we extract the sales price."
   ]
  },
  {
   "cell_type": "code",
   "execution_count": 13,
   "metadata": {},
   "outputs": [],
   "source": [
    "y = np.array(df['SalePrice'])\n"
   ]
  },
  {
   "cell_type": "markdown",
   "metadata": {},
   "source": [
    "## Scaling the Data\n",
    "\n",
    "We will try to fit a model with simple linear regression.   We first split the data into training and test."
   ]
  },
  {
   "cell_type": "code",
   "execution_count": 14,
   "metadata": {},
   "outputs": [],
   "source": [
    "from sklearn.model_selection import train_test_split\n",
    "\n",
    "Xtr, Xts, ytr, yts = train_test_split(X,y,test_size=0.3)"
   ]
  },
  {
   "cell_type": "markdown",
   "metadata": {},
   "source": [
    "A feature of this data is that the attributes have very different ranges of values.  Many methods below expect that the variables have similar ranges.  For this purpose we use sklearn's `StandardScaler` which removes the mean from each column and divides by the standard deviation.  We fit the parameters for the scaler on the training data and then apply the transform to the training and test data.\n",
    "\n",
    "Technically, we do not need to scale the output, but it will make the variables easier to interpret."
   ]
  },
  {
   "cell_type": "code",
   "execution_count": 15,
   "metadata": {},
   "outputs": [],
   "source": [
    "from sklearn.preprocessing import StandardScaler\n",
    "\n",
    "# Create the scaler objects\n",
    "xscal = StandardScaler()\n",
    "yscal = StandardScaler()\n",
    "\n",
    "# Fit and transform the training data\n",
    "Xtr1 = xscal.fit_transform(Xtr)\n",
    "ytr1 = yscal.fit_transform(ytr[:,None])\n",
    "\n",
    "# Transform the test data\n",
    "Xts1 = xscal.transform(Xts)\n",
    "yts1 = yscal.transform(yts[:,None])"
   ]
  },
  {
   "cell_type": "markdown",
   "metadata": {},
   "source": [
    "## Linear Regression without Regualarization\n",
    "\n",
    "We first fit the model with linear regression on the scaled training data.  Then, we predict on the test data and measure the R^2 value.  We get a terrible fit."
   ]
  },
  {
   "cell_type": "code",
   "execution_count": 16,
   "metadata": {},
   "outputs": [
    {
     "name": "stdout",
     "output_type": "stream",
     "text": [
      "Training R^2 =   9.4949e-01\n",
      "Test R^2     =  -9.1071e+14\n"
     ]
    }
   ],
   "source": [
    "from sklearn.linear_model import LinearRegression, Ridge\n",
    "from sklearn.metrics import r2_score\n",
    "\n",
    "# Fit\n",
    "reg_ls = LinearRegression()\n",
    "reg_ls.fit(Xtr1, ytr1)\n",
    "\n",
    "# Training R^2\n",
    "yhat1_tr = reg_ls.predict(Xtr1)\n",
    "rsq_tr = r2_score(ytr1, yhat1_tr)\n",
    "print('Training R^2 = %12.4e' % rsq_tr)\n",
    "\n",
    "# Test R^2\n",
    "yhat1_ts = reg_ls.predict(Xts1)\n",
    "rsq_ts = r2_score(yts1, yhat1_ts)\n",
    "print('Test R^2     = %12.4e' % rsq_ts)\n",
    "\n",
    "\n"
   ]
  },
  {
   "cell_type": "markdown",
   "metadata": {},
   "source": [
    "We get a terrible fit.  The reason is that the matrix is ill-conditioned, meaning some of the columns in the data matrix `Xtr` are linearly dependent.  We can get a better fit if we use a method called *Ridge regression*.  Ridge regression is a type of regularization that we will discuss later, but we will use it here simply to improve the conditioning.  \n",
    "\n",
    "To understand Ridge regression, recall that the solution of the LS problem is:\n",
    "\n",
    "    beta = inv(A.T.dot(A)).dot(A.T.dot(y))\n",
    "    \n",
    "The problem occurs when the matrix, `A.T.dot(A)` has eigenvalues close to zero so the inverse blows up.  To avoid, Ridge regression instead computes,\n",
    "\n",
    "    beta = inv(A.T.dot(A) + n*alpha*eye(n)).dot(A.T.dot(y))\n",
    "\n",
    "where `n` is the number of data samples and `alpha` is a small value to keep the eigenvalues positive.  Ridge regression can be performed as follows."
   ]
  },
  {
   "cell_type": "code",
   "execution_count": 17,
   "metadata": {},
   "outputs": [
    {
     "name": "stdout",
     "output_type": "stream",
     "text": [
      "Test R^2     = 0.875716\n"
     ]
    }
   ],
   "source": [
    "reg_ls = Ridge(alpha=1e-5)\n",
    "reg_ls.fit(Xtr1, ytr1)\n",
    "yhat1 = reg_ls.predict(Xts1)\n",
    "rsq = r2_score(yts1, yhat1)\n",
    "print('Test R^2     = %f' % rsq)"
   ]
  },
  {
   "cell_type": "markdown",
   "metadata": {},
   "source": [
    "We see we get a good fit.  We can also plot the actual vs. predicted values.  To do this, we convert the predicted targets back to the original scaling with the `inverse_transform` method in the scaler."
   ]
  },
  {
   "cell_type": "code",
   "execution_count": 18,
   "metadata": {},
   "outputs": [
    {
     "data": {
      "text/plain": [
       "Text(0, 0.5, 'Actual')"
      ]
     },
     "execution_count": 18,
     "metadata": {},
     "output_type": "execute_result"
    },
    {
     "data": {
      "image/png": "[encoded data removed]",
      "text/plain": [
       "<Figure size 432x288 with 1 Axes>"
      ]
     },
     "metadata": {
      "needs_background": "light"
     },
     "output_type": "display_data"
    }
   ],
   "source": [
    "yhat = yscal.inverse_transform(yhat1)\n",
    "\n",
    "yline = np.array([0, np.max(yts)])\n",
    "plt.plot(yhat, yts, 'o')\n",
    "plt.plot(yline, yline)\n",
    "plt.grid()\n",
    "plt.xlabel('Predicted')\n",
    "plt.ylabel('Actual')\n",
    "\n"
   ]
  },
  {
   "cell_type": "markdown",
   "metadata": {},
   "source": [
    "To understand which variables are important, we may find the variables with the largest coefficients.  We see that the among the top 10 coefficients, attributes such as square footage (SF) and quality dominate."
   ]
  },
  {
   "cell_type": "code",
   "execution_count": 19,
   "metadata": {},
   "outputs": [
    {
     "name": "stdout",
     "output_type": "stream",
     "text": [
      "         MSZoning_RL 0.271211\n",
      "           GrLivArea 0.256685\n",
      "         MSZoning_RM 0.219995\n",
      "     RoofStyle_Gable -0.218138\n",
      "      KitchenQual_TA -0.216612\n",
      "      KitchenQual_Gd -0.216392\n",
      "       RoofStyle_Hip -0.211425\n",
      "        ExterQual_TA -0.206144\n",
      "            2ndFlrSF 0.204957\n",
      "        ExterQual_Gd -0.199056\n"
     ]
    }
   ],
   "source": [
    "coeff_ls = reg_ls.coef_.ravel()\n",
    "nprint = 10\n",
    "I = np.argsort(np.abs(coeff_ls))\n",
    "I = np.flipud(I)\n",
    "for i in range(nprint):\n",
    "    j = I[i]\n",
    "    print('%20s %f' % (xnames[j], coeff_ls[j]) )"
   ]
  },
  {
   "cell_type": "markdown",
   "metadata": {},
   "source": [
    "We can also try to find the variables that do not matter.  But, this is harder since it appears that most coefficients are non-zero. We can see this from both the stem plot (left) and the sorted coefficients (right).  It is hard to discard any coefficients."
   ]
  },
  {
   "cell_type": "code",
   "execution_count": 20,
   "metadata": {},
   "outputs": [
    {
     "data": {
      "image/png": "[encoded data removed]",
      "text/plain": [
       "<Figure size 720x360 with 2 Axes>"
      ]
     },
     "metadata": {
      "needs_background": "light"
     },
     "output_type": "display_data"
    }
   ],
   "source": [
    "plt.figure(figsize=(10,5))\n",
    "plt.subplot(1,2,1)\n",
    "plt.stem(coeff_ls, use_line_collection=True)\n",
    "plt.xlabel('Variable index')\n",
    "plt.ylabel('Coeff')\n",
    "plt.grid()\n",
    "\n",
    "\n",
    "plt.subplot(1,2,2)\n",
    "coeff_sort_ls = np.flipud(np.sort(np.abs(coeff_ls)))\n",
    "plt.plot(coeff_sort_ls)\n",
    "plt.xlabel('Sorted var index')\n",
    "plt.ylabel('Coeff Mag')\n",
    "plt.grid()\n",
    "plt.tight_layout()\n",
    "\n"
   ]
  },
  {
   "cell_type": "markdown",
   "metadata": {},
   "source": [
    "*In-class exercise*:  Re-train the model with the variables with the largest 50 values in `coeff_ls`.  What is the test R^2?"
   ]
  },
  {
   "cell_type": "code",
   "execution_count": 21,
   "metadata": {},
   "outputs": [],
   "source": [
    "# TODO"
   ]
  },
  {
   "cell_type": "markdown",
   "metadata": {},
   "source": [
    "## Lasso Regression\n",
    "\n",
    "One method to perform the feature selection is called *Lasso* regression where you minimize an objective of the form:\n",
    "\n",
    "     betahat = argmin (1/2/n)*\\| y - A.dot(beta) \\|^2 + alpha * \\| beta \\|_1\n",
    "     \n",
    "The term `\\| beta \\|_1 = \\sum_j |beta[j]|` is called the *regularizer* and the scaling `alpha` is the regularization level.  When `alpha=0` we get the regular least squares fit.  But, as we take higher values of `alpha` we force the fit to find more *sparse* solutions meaning solutions with larger number of terms with `beta[j]=0`.  \n",
    "\n",
    "We can perform Lasso regression with the `Lasso` method in sklearn as follows."
   ]
  },
  {
   "cell_type": "code",
   "execution_count": 22,
   "metadata": {},
   "outputs": [
    {
     "name": "stdout",
     "output_type": "stream",
     "text": [
      "Test R^2= 0.893495\n"
     ]
    }
   ],
   "source": [
    "from sklearn.linear_model import Lasso\n",
    "from warnings import simplefilter\n",
    "from sklearn.exceptions import ConvergenceWarning\n",
    "simplefilter(\"ignore\", category=ConvergenceWarning)\n",
    "\n",
    "# Select alpha\n",
    "alpha = 3e-3\n",
    "\n",
    "# Create Lasso object and fit on training data\n",
    "reg = Lasso(alpha=alpha)\n",
    "reg.fit(Xtr1, ytr1)\n",
    "\n",
    "# Predict and score on test\n",
    "yhat1 = reg.predict(Xts1)\n",
    "rsq = r2_score(yts1, yhat1)\n",
    "\n",
    "print('Test R^2= %f' % rsq)"
   ]
  },
  {
   "cell_type": "markdown",
   "metadata": {},
   "source": [
    "We see we get a slightly higher R^2 value.  We can also plot the coefficients and we see we have many more small coefficients in comparison to the linear regression with minimal regularization that we did before.  This means the model is, in effect, using a smaller number of variables."
   ]
  },
  {
   "cell_type": "code",
   "execution_count": 23,
   "metadata": {},
   "outputs": [
    {
     "data": {
      "image/png": "[encoded data removed]",
      "text/plain": [
       "<Figure size 720x360 with 2 Axes>"
      ]
     },
     "metadata": {
      "needs_background": "light"
     },
     "output_type": "display_data"
    }
   ],
   "source": [
    "coeff_lasso = reg.coef_.ravel()\n",
    "\n",
    "plt.figure(figsize=(10,5))\n",
    "plt.subplot(1,2,1)\n",
    "plt.stem(coeff_lasso, use_line_collection=True)\n",
    "plt.xlabel('Variable index')\n",
    "plt.ylabel('Coeff')\n",
    "plt.grid()\n",
    "\n",
    "\n",
    "plt.subplot(1,2,2)\n",
    "coeff_sort_lasso = np.flipud(np.sort(np.abs(coeff_lasso)))\n",
    "plt.plot(coeff_sort_lasso)\n",
    "plt.plot(coeff_sort_ls)\n",
    "plt.xlabel('Sorted var index')\n",
    "plt.ylabel('Coeff Mag')\n",
    "plt.grid()\n",
    "plt.legend(['Lasso, alpha=3e-3', 'Ridge 1e-5'])\n",
    "plt.tight_layout()"
   ]
  },
  {
   "cell_type": "code",
   "execution_count": 24,
   "metadata": {},
   "outputs": [
    {
     "data": {
      "text/plain": [
       "array([ 0.72426258, -0.25126207, -0.7715723 , -0.58580433, -0.57427718,\n",
       "       -1.57044754, -1.08931714, -0.30530253,  1.05773166, -0.16573487,\n",
       "       -0.48259365,  1.53861381, -0.12930865,  0.95566584, -0.85393026,\n",
       "       -0.25456443,  0.89055824, -0.76737618,  1.42289453,  5.01871497,\n",
       "        2.32493646, -0.94499856,  0.38072194, -0.30079118, -0.72231906,\n",
       "       -0.70192929, -0.37699435, -0.09466177, -0.27712437, -0.03456506,\n",
       "       -0.09651479,  0.85286273, -0.18933231, -0.0917801 , -1.91874028,\n",
       "        2.23287131,  0.06925434, -0.16799065, -0.08492078,  0.73514704,\n",
       "       -0.17535766, -0.15636457,  0.33156263, -0.28019115, -0.18933231,\n",
       "       -0.06925434,  0.64277014, -0.22093215, -0.09817614, -0.0489116 ,\n",
       "       -0.08492078, -0.21186737, -0.14815944, -0.36391267, -0.18592445,\n",
       "       -0.27770636, -0.20564182, -0.17170914, -0.11533034, -0.19268812,\n",
       "       -0.44593218, -0.0917801 , -0.20877392, -0.17894051, -0.20877392,\n",
       "        3.36504523, -0.13951602, -0.25189636, -0.20564182, -0.20246923,\n",
       "       -0.11533034, -0.16419739, -0.07747516, -0.25721151, -2.45805142,\n",
       "       -0.07747516, -0.12053151, -0.07747516, -0.12552918, -0.03456506,\n",
       "       -0.0489116 , -0.05994009,  0.0917801 ,  0.        , -0.03456506,\n",
       "        0.        , -0.0489116 , -0.16799065,  5.82380174, -0.18246159,\n",
       "       -0.30190368, -0.10989675, -0.98343081, -0.07747516, -0.09817614,\n",
       "        1.51631547, -0.16799065, -0.20246923, -1.93247594, -0.08492078,\n",
       "        2.07455958, -0.07747516, -0.0489116 , -0.03456506, -0.03456506,\n",
       "        0.        , -0.05994009, -0.0489116 , -0.06925434, -0.03456506,\n",
       "       -0.03456506, -0.20564182, -0.03456506, -0.19268812, -0.45742235,\n",
       "        0.        , -0.43239893, -0.27520561, -0.12053151, -0.67630711,\n",
       "        2.29210195, -0.13500371, -0.0489116 , -0.07747516, -0.14815944,\n",
       "       -0.03456506, -0.18592445, -0.43239893, -0.07747516, -0.42459591,\n",
       "       -0.32711056, -0.03456506, -0.12552918, -0.66695396,  2.27195174,\n",
       "       -0.15636457, -0.0917801 , -0.67256203,  0.72171403, -0.15231226,\n",
       "       -0.33817407, -0.03456506,  0.38463646,  1.08733236, -0.81203814,\n",
       "       -0.13951602, -0.0489116 , -0.03456506,  0.16032403, -0.12053151,\n",
       "       -0.07747516, -0.03456506, -0.0489116 , -0.17535766,  2.14165045,\n",
       "        0.        , -0.65019261,  0.27015432, -0.18246159, -0.82015528,\n",
       "        0.95563697, -0.03456506, -0.14815944, -0.16799065, -0.12552918,\n",
       "        0.29717283, -0.15636457, -3.31231468, -0.03456506, -0.03456506,\n",
       "       -0.07747516, -0.05994009, -0.06925434, -5.28171863])"
      ]
     },
     "execution_count": 24,
     "metadata": {},
     "output_type": "execute_result"
    }
   ],
   "source": [
    "Xtr1[0]"
   ]
  },
  {
   "cell_type": "markdown",
   "metadata": {},
   "source": [
    "The value of `alpha` is typically selected via cross validation just as we did in model selection.  The following code performs cross validation with `nfold=10` folds.  For each fold, try a number of `alpha` values."
   ]
  },
  {
   "cell_type": "code",
   "execution_count": 25,
   "metadata": {},
   "outputs": [
    {
     "name": "stdout",
     "output_type": "stream",
     "text": [
      "[ 0.06374599 -0.20158504  0.75552833 -0.56985402  1.15307279  0.95311615\n",
      "  0.65671472 -0.3045532  -0.92741603 -0.4162846  -0.79244334  1.17377706\n",
      " -0.11269345  0.45042085  1.12333245 -0.23845911  0.86597367  1.2426493\n",
      "  0.15681623 -0.20648782  0.98452811 -0.95902601  0.38195522  0.43715124\n",
      " -0.73151431  0.26967292 -0.36982388 -0.11788933 -0.26295516 -0.05260979\n",
      " -0.0947738   0.06420791 -0.18587346 -0.08646754  0.51214752 -0.4417261\n",
      "  0.06826296 -0.17207093 -0.0748132   0.73634445 -0.17207093 -0.15720951\n",
      "  0.32676625 -0.26553052 -0.19115036 -0.05282705  0.62958165 -0.21821789\n",
      " -0.08084521 -0.04311306 -0.10153462 -0.21351068 -0.13749033  2.8123106\n",
      " -0.18852784 -0.2773501  -0.23408229 -0.15720951 -0.11048336 -0.19374234\n",
      " -0.43420459 -0.08084521 -0.24277376 -0.17490779 -0.19115036 -0.30181636\n",
      " -0.14433757 -0.24277376 -0.2038281  -0.21112471 -0.11470787 -0.15089864\n",
      " -0.09676412 -0.24277376  0.40359763 -0.0748132  -0.12274328 -0.08646754\n",
      " -0.13031167 -0.03047138 -0.05282705 -0.05282705  0.08646754 -0.03047138\n",
      " -0.03047138 -0.03047138 -0.03047138 -0.15408339 -0.17770466 -0.17490779\n",
      " -0.28693086 -0.11470787 -0.97074319 -0.0748132  -0.10153462  1.52214424\n",
      " -0.15720951 -0.22284345  0.52223297 -0.08646754 -0.48750166 -0.08084521\n",
      " -0.04311306  0.         -0.03047138 -0.03047138 -0.0748132  -0.06102782\n",
      " -0.0748132  -0.03047138 -0.03047138 -0.19630498 -0.03047138 -0.19630498\n",
      " -0.45069391 -0.03047138 -0.42815305 -0.27540571 -0.13394571  1.44834428\n",
      " -0.43269466 -0.13749033 -0.05282705 -0.0748132  -0.1409523  -0.03047138\n",
      " -0.19374234 -0.42815305 -0.0748132  -0.42054238 -0.32502465 -0.03047138\n",
      " -0.13749033  1.47646233 -0.42663514 -0.16919206 -0.10153462  1.47646233\n",
      " -1.38329806 -0.1409523  -0.34892432 -0.03047138  0.38949891 -0.91972301\n",
      "  1.20879577 -0.13749033 -0.06826296 -0.05282705  0.16626899 -0.12658049\n",
      " -0.0748132  -0.03047138 -0.06102782 -0.19115036 -0.46551508 -0.03047138\n",
      " -0.66276115  0.26752678 -0.17770466  1.23714043 -1.06124113 -0.05282705\n",
      " -0.15089864 -0.17207093 -0.11048336  0.29070095 -0.15408339  0.31087446\n",
      " -0.04311306 -0.04311306 -0.06826296 -0.06102782 -0.06826296  0.18852784]\n",
      "Fold = 0\n",
      "[ 0.06788916 -0.19021211  0.7509295  -0.58347667  1.14762512  0.94978763\n",
      "  0.66551526 -0.30026463 -0.93773624 -0.43079206 -0.78455335  1.17004361\n",
      " -0.12174109  0.43459209  1.10246164 -0.22963966  0.86643326  1.23304256\n",
      "  0.16751106 -0.20648782  0.98805435 -0.95143634  0.39489446  0.44228178\n",
      " -0.73864386  0.27046225 -0.3681513  -0.11548999 -0.27478486 -0.05260979\n",
      " -0.09797289  0.0712978  -0.17770466 -0.09175556  0.50492337 -0.43872301\n",
      "  0.06826296 -0.17207093 -0.06826296  0.76809537 -0.17207093 -0.16329932\n",
      "  0.32850216 -0.25947395 -0.18852784 -0.05282705  0.60807777 -0.21587483\n",
      " -0.09175556 -0.04311306 -0.10609918 -0.22512721 -0.13749033  2.83880671\n",
      " -0.18852784 -0.26352314 -0.24490883 -0.15720951 -0.11470787 -0.18852784\n",
      " -0.44472214 -0.08084521 -0.23408229 -0.17207093 -0.19374234 -0.29443768\n",
      " -0.13749033 -0.24062398 -0.21351068 -0.20134682 -0.11878976 -0.15720951\n",
      " -0.10153462 -0.25122972  0.41594969 -0.08646754 -0.12274328 -0.08646754\n",
      " -0.1409523  -0.04311306 -0.06102782 -0.06826296  0.10153462 -0.03047138\n",
      " -0.03047138 -0.03047138 -0.04311306 -0.15408339 -0.18046343 -0.17770466\n",
      " -0.28503286 -0.09676412 -0.9743547  -0.0748132  -0.09175556  1.5088392\n",
      " -0.15720951 -0.22054055  0.51359022 -0.09676412 -0.47873836 -0.0748132\n",
      " -0.04311306 -0.03047138 -0.03047138  0.         -0.06826296 -0.06102782\n",
      " -0.0748132  -0.03047138  0.         -0.19883945 -0.03047138 -0.19115036\n",
      " -0.45069391  0.         -0.43571261 -0.28121003 -0.13394571  1.44834428\n",
      " -0.42511515 -0.13031167 -0.04311306 -0.06102782 -0.14765144 -0.03047138\n",
      " -0.19115036 -0.43269466 -0.06826296 -0.42511515 -0.32850216 -0.05282705\n",
      " -0.13394571  1.47646233 -0.42054238 -0.16028044 -0.10153462  1.46072617\n",
      " -1.36360421 -0.14765144 -0.35226069  0.          0.39422411 -0.93529814\n",
      "  1.21345666 -0.11878976 -0.06826296 -0.05282705  0.15720951 -0.11878976\n",
      " -0.0748132  -0.04311306 -0.04311306 -0.19115036 -0.4566401  -0.03047138\n",
      " -0.6598632   0.26951218 -0.16919206  1.23474295 -1.06321907 -0.06102782\n",
      " -0.15408339 -0.16329932 -0.10153462  0.28503286 -0.15408339  0.30727226\n",
      " -0.04311306 -0.04311306 -0.06826296 -0.05282705 -0.06102782  0.17770466]\n",
      "Fold = 1\n",
      "[ 0.0565126  -0.19752239  0.74855343 -0.58371909  1.15667669  0.9541342\n",
      "  0.64204728 -0.30895887 -0.91349659 -0.4236531  -0.7794809   1.15867337\n",
      " -0.12132571  0.43045637  1.1045275  -0.24062398  0.87415728  1.22827859\n",
      "  0.14443349 -0.20891365  0.98198604 -0.93234233  0.38049972  0.43435647\n",
      " -0.74098453  0.26265082 -0.37351306 -0.10200051 -0.27424969 -0.04303853\n",
      " -0.08903552  0.0710312  -0.19115036 -0.09676412  0.50781523 -0.43269466\n",
      "  0.06102782 -0.17770466 -0.08084521  0.76504517 -0.17770466 -0.16028044\n",
      "  0.32327728 -0.27148698 -0.19115036 -0.06102782  0.62958165 -0.22054055\n",
      " -0.09175556 -0.04311306 -0.09676412 -0.21112471 -0.14433757  2.95156089\n",
      " -0.18852784 -0.26352314 -0.23845911 -0.15408339 -0.12274328 -0.19630498\n",
      " -0.44920343 -0.06826296 -0.22739243 -0.17490779 -0.2038281  -0.30181636\n",
      " -0.13394571 -0.25122972 -0.21587483 -0.21351068 -0.10609918 -0.16329932\n",
      " -0.08646754 -0.24277376  0.40515043 -0.08646754 -0.11470787 -0.08646754\n",
      " -0.13394571 -0.04311306 -0.06102782 -0.06826296  0.09175556 -0.03047138\n",
      "  0.         -0.03047138 -0.04311306 -0.16028044 -0.18318583 -0.18046343\n",
      " -0.2773501  -0.11048336 -0.95464523 -0.0748132  -0.09175556  1.4924962\n",
      " -0.16028044 -0.22739243  0.53085532 -0.09676412 -0.49332336 -0.08084521\n",
      " -0.03047138 -0.03047138 -0.03047138 -0.03047138 -0.0748132  -0.06102782\n",
      " -0.06102782  0.         -0.03047138 -0.20134682 -0.03047138 -0.19115036\n",
      " -0.45515586 -0.03047138 -0.43420459 -0.2792848  -0.13394571  1.46385011\n",
      " -0.42815305 -0.13394571 -0.04311306 -0.06102782 -0.1409523  -0.03047138\n",
      " -0.18852784 -0.43269466 -0.08084521 -0.42663514 -0.3336768  -0.05282705\n",
      " -0.13394571  1.4924962  -0.42206881 -0.16626899 -0.09676412  1.49899565\n",
      " -1.3947599  -0.1409523  -0.35226069 -0.03047138  0.39265199 -0.94229291\n",
      "  1.21345666 -0.13031167 -0.06102782 -0.04311306  0.16626899 -0.12658049\n",
      " -0.0748132  -0.03047138 -0.06102782 -0.19374234 -0.4728737  -0.03047138\n",
      " -0.65552134  0.27148698 -0.17490779  1.24922779 -1.06718737 -0.05282705\n",
      " -0.15408339 -0.17490779 -0.11470787  0.29443768 -0.15720951  0.31266543\n",
      " -0.04311306 -0.04311306 -0.06102782 -0.06102782 -0.06102782  0.18318583]\n",
      "Fold = 2\n",
      "[ 0.06932395 -0.21455302  0.75714324 -0.57244564  1.14150321  0.93820557\n",
      "  0.64927501 -0.29741288 -0.90836942 -0.41002256 -0.78903734  1.16315554\n",
      " -0.121196    0.44574335  1.1207102  -0.24490883  0.85668735  1.2426493\n",
      "  0.1668738  -0.19906341  0.98367831 -0.95485077  0.38143508  0.43398999\n",
      " -0.75264579  0.28094605 -0.36861402 -0.10783144 -0.27956944 -0.05260979\n",
      " -0.09596512  0.08528157 -0.19115036 -0.10153462  0.49913018 -0.42054238\n",
      "  0.06826296 -0.17490779 -0.0748132   0.76504517 -0.18046343 -0.16626899\n",
      "  0.32676625 -0.26752678 -0.19883945 -0.06102782  0.63101836 -0.22739243\n",
      " -0.08646754 -0.03047138 -0.09175556 -0.21351068 -0.15089864  2.82547931\n",
      " -0.19374234 -0.26752678 -0.23186945 -0.15408339 -0.11470787 -0.19630498\n",
      " -0.44621757 -0.08646754 -0.24062398 -0.17770466 -0.19883945 -0.28693086\n",
      " -0.1409523  -0.23627869 -0.20871617 -0.21351068 -0.11470787 -0.15408339\n",
      " -0.09175556 -0.2470296   0.41133611 -0.08646754 -0.11878976 -0.08646754\n",
      " -0.13749033 -0.04311306 -0.06102782 -0.06826296  0.09676412  0.\n",
      " -0.03047138 -0.03047138 -0.04311306 -0.15089864 -0.17770466 -0.17490779\n",
      " -0.29070095 -0.10609918 -0.97074319 -0.06826296 -0.09175556  1.50554531\n",
      " -0.16329932 -0.22054055  0.51791437 -0.09175556 -0.48458482 -0.06826296\n",
      " -0.04311306 -0.03047138 -0.03047138 -0.03047138 -0.06826296 -0.05282705\n",
      " -0.06102782 -0.03047138 -0.03047138 -0.20628425 -0.03047138 -0.19630498\n",
      " -0.44322499 -0.03047138 -0.43872301 -0.27540571 -0.13031167  1.43614066\n",
      " -0.41901375 -0.13031167 -0.05282705 -0.0748132  -0.15089864 -0.03047138\n",
      " -0.19374234 -0.42359305 -0.08084521 -0.43118278 -0.31976474 -0.05282705\n",
      " -0.13031167  1.46072617 -0.41594969 -0.15720951 -0.09676412  1.46385011\n",
      " -1.36918467 -0.13749033 -0.34892432 -0.03047138  0.38474643 -0.91800601\n",
      "  1.18812167 -0.13749033 -0.04311306 -0.04311306  0.15408339 -0.11048336\n",
      " -0.0748132  -0.04311306 -0.05282705 -0.19630498 -0.47434165 -0.03047138\n",
      " -0.65118528  0.26553052 -0.16919206  1.23235206 -1.05533193 -0.05282705\n",
      " -0.14765144 -0.17490779 -0.11048336  0.28882016 -0.16329932  0.30727226\n",
      " -0.03047138 -0.04311306 -0.0748132  -0.06102782 -0.06826296  0.17770466]\n"
     ]
    },
    {
     "name": "stdout",
     "output_type": "stream",
     "text": [
      "Fold = 3\n",
      "[ 0.05438097 -0.19366088  0.74763971 -0.57667971  1.15552759  0.96537964\n",
      "  0.65751975 -0.29809421 -0.9298224  -0.40785752 -0.77934199  1.14094812\n",
      " -0.12507035  0.42399162  1.12544597 -0.2470296   0.85604422  1.22354046\n",
      "  0.16113156 -0.2015636   0.98540517 -0.94854599  0.39175343  0.45228563\n",
      " -0.74614856  0.27715619 -0.37624042 -0.11070853 -0.2780754  -0.04285157\n",
      " -0.11988051  0.09283655 -0.18046343 -0.10153462  0.50492337 -0.43269466\n",
      "  0.06826296 -0.16919206 -0.06826296  0.76200076 -0.16028044 -0.16626899\n",
      "  0.32327728 -0.25537696 -0.19630498 -0.06102782  0.62383913 -0.22054055\n",
      " -0.08646754 -0.04311306 -0.10609918 -0.22284345 -0.14433757  2.89377142\n",
      " -0.19630498 -0.2773501  -0.23627869 -0.16329932 -0.11048336 -0.18587346\n",
      " -0.43571261 -0.0748132  -0.2470296  -0.18318583 -0.2038281  -0.28882016\n",
      " -0.13749033 -0.23845911 -0.20628425 -0.20134682 -0.11878976 -0.15089864\n",
      " -0.09676412 -0.23186945  0.39265199 -0.08646754 -0.12658049 -0.06826296\n",
      " -0.13394571 -0.04311306 -0.05282705 -0.06826296  0.10153462 -0.03047138\n",
      " -0.03047138 -0.03047138 -0.04311306 -0.15720951 -0.17490779 -0.17770466\n",
      " -0.29070095 -0.10609918 -0.9617692  -0.0748132  -0.09676412  1.4957397\n",
      " -0.15408339 -0.21821789  0.52079402 -0.09676412 -0.48312484 -0.08084521\n",
      " -0.04311306 -0.03047138  0.         -0.03047138 -0.0748132  -0.05282705\n",
      " -0.0748132  -0.03047138 -0.03047138 -0.21112471 -0.03047138 -0.19115036\n",
      " -0.45367009 -0.03047138 -0.43420459 -0.28121003 -0.13031167  1.46698561\n",
      " -0.42054238 -0.1409523  -0.05282705 -0.06826296 -0.15089864 -0.03047138\n",
      " -0.18852784 -0.43269466 -0.0748132  -0.42663514 -0.33195734 -0.05282705\n",
      " -0.13031167  1.48926507 -0.41748286 -0.16626899 -0.09676412  1.47646233\n",
      " -1.38045658 -0.14433757 -0.34050261 -0.03047138  0.38315599 -0.91457999\n",
      "  1.19725042 -0.13749033 -0.06826296 -0.04311306  0.16626899 -0.12274328\n",
      " -0.0748132  -0.04311306 -0.06102782 -0.19883945 -0.46256239  0.\n",
      " -0.65552134  0.26352314 -0.17490779  1.24922779 -1.07317128 -0.06102782\n",
      " -0.15089864 -0.15720951 -0.10609918  0.28121003 -0.16626899  0.31444983\n",
      " -0.04311306 -0.04311306 -0.0748132  -0.06102782 -0.06826296  0.18587346]\n",
      "Fold = 4\n",
      "[ 0.07514493 -0.18705279  0.76152267 -0.57902656  1.15541971  0.9490369\n",
      "  0.6638966  -0.29895552 -0.92194274 -0.42401917 -0.79246217  1.17003539\n",
      " -0.12135001  0.44916092  1.12333245 -0.24913644  0.87207488  1.24731107\n",
      "  0.15310918 -0.20648782  0.97969097 -0.95840376  0.388418    0.44886659\n",
      " -0.73946939  0.27179069 -0.38567215 -0.11788933 -0.25897377 -0.04305466\n",
      " -0.09585582  0.06715089 -0.16919206 -0.09676412  0.49913018 -0.43420459\n",
      "  0.05282705 -0.16626899 -0.0748132   0.75896205 -0.17207093 -0.16919206\n",
      "  0.32676625 -0.27345141 -0.19630498 -0.06102782  0.63533128 -0.21821789\n",
      " -0.09175556 -0.04311306 -0.09676412 -0.21821789 -0.1409523   2.85229613\n",
      " -0.19115036 -0.26951218 -0.23845911 -0.15720951 -0.11470787 -0.18046343\n",
      " -0.45069391 -0.08646754 -0.22739243 -0.17770466 -0.19115036 -0.2981424\n",
      " -0.1409523  -0.25122972 -0.21587483 -0.19630498 -0.12274328 -0.15089864\n",
      " -0.09175556 -0.25122972  0.40824829 -0.0748132  -0.11878976 -0.08084521\n",
      " -0.13749033 -0.04311306 -0.06102782 -0.06826296  0.10153462 -0.03047138\n",
      " -0.03047138 -0.03047138 -0.04311306 -0.15408339 -0.17770466 -0.16626899\n",
      " -0.28312598 -0.11048336 -0.97254736 -0.0748132  -0.10153462  1.50226415\n",
      " -0.15408339 -0.22054055  0.52223297 -0.09175556 -0.48750166 -0.0748132\n",
      " -0.04311306 -0.03047138 -0.03047138 -0.03047138 -0.06102782 -0.06102782\n",
      " -0.06826296 -0.03047138 -0.03047138 -0.19630498 -0.03047138 -0.19374234\n",
      " -0.45218279 -0.03047138 -0.42511515 -0.28121003 -0.13031167  1.44834428\n",
      " -0.43420459 -0.13031167 -0.05282705 -0.0748132  -0.14433757 -0.03047138\n",
      " -0.19115036 -0.43269466 -0.06826296 -0.41748286 -0.32850216 -0.05282705\n",
      " -0.12658049  1.47013276 -0.42815305 -0.15720951 -0.08646754  1.47964493\n",
      " -1.38900966 -0.13394571 -0.34724936 -0.03047138  0.38474643 -0.93355652\n",
      "  1.21814243 -0.13749033 -0.06826296 -0.05282705  0.16329932 -0.12658049\n",
      " -0.06102782 -0.04311306 -0.06102782 -0.18587346 -0.47727396 -0.03047138\n",
      " -0.65841525  0.27540571 -0.16626899  1.24922779 -1.08525471 -0.06102782\n",
      " -0.15408339 -0.16329932 -0.11048336  0.2792848  -0.16028044  0.31266543\n",
      " -0.04311306 -0.03047138 -0.0748132  -0.06102782 -0.05282705  0.17490779]\n",
      "Fold = 5\n",
      "[ 0.0473984  -0.19352047  0.76116785 -0.5814915   1.14337991  0.94982335\n",
      "  0.66079917 -0.29473572 -0.91600139 -0.40665572 -0.77854483  1.12593844\n",
      " -0.11723544  0.42175342  1.13394953 -0.24277376  0.85878409  1.18673031\n",
      "  0.14811403 -0.20891365  0.96873936 -0.95609057  0.38813052  0.44055139\n",
      " -0.73804172  0.2798854  -0.37309084 -0.11723278 -0.26574251 -0.05260979\n",
      " -0.09476476  0.08809894 -0.18318583 -0.08646754  0.50926005 -0.44022545\n",
      "  0.06102782 -0.17207093 -0.08084521  0.7574448  -0.18046343 -0.16329932\n",
      "  0.33195734 -0.25947395 -0.18852784 -0.06102782  0.61810297 -0.21351068\n",
      " -0.08646754 -0.04311306 -0.10609918 -0.22054055 -0.1409523   2.89377142\n",
      " -0.18852784 -0.26951218 -0.23845911 -0.15089864 -0.11878976 -0.18046343\n",
      " -0.44621757 -0.08084521 -0.24490883 -0.18046343 -0.19883945 -0.2981424\n",
      " -0.13394571 -0.24490883 -0.19883945 -0.2038281  -0.11048336 -0.16028044\n",
      " -0.10153462 -0.24277376  0.4020422  -0.08646754 -0.11878976 -0.08084521\n",
      " -0.13749033 -0.04311306 -0.05282705 -0.06826296  0.10153462 -0.03047138\n",
      " -0.03047138 -0.03047138 -0.04311306 -0.15408339 -0.18046343 -0.18852784\n",
      " -0.28312598 -0.11048336 -0.94933375 -0.0748132  -0.09175556  1.45761369\n",
      " -0.15089864 -0.21821789  0.52079402 -0.08646754 -0.48604376 -0.08084521\n",
      " -0.04311306 -0.03047138 -0.03047138 -0.03047138 -0.06826296 -0.06102782\n",
      " -0.0748132  -0.03047138 -0.03047138 -0.2038281  -0.03047138 -0.19115036\n",
      " -0.44472214 -0.03047138 -0.43269466 -0.2792848  -0.13394571  1.42411021\n",
      " -0.4144142  -0.13394571 -0.05282705 -0.06826296 -0.1409523  -0.03047138\n",
      " -0.18852784 -0.43269466 -0.08084521 -0.42359305 -0.32152401 -0.05282705\n",
      " -0.13031167  1.45142283 -0.41594969 -0.16028044 -0.08646754  1.47013276\n",
      " -1.38614906 -0.13749033 -0.34892432 -0.03047138  0.3863337  -0.92144268\n",
      "  1.20415946 -0.13749033 -0.06826296 -0.05282705  0.15720951 -0.11470787\n",
      " -0.06826296 -0.04311306 -0.06102782 -0.18852784 -0.47434165 -0.03047138\n",
      " -0.6454124   0.25947395 -0.16329932  1.23954451 -1.0751744  -0.06102782\n",
      " -0.14765144 -0.16329932 -0.11048336  0.28312598 -0.14433757  0.2981424\n",
      " -0.03047138 -0.04311306 -0.06102782 -0.05282705 -0.06826296  0.18046343]\n",
      "Fold = 6\n",
      "[-8.74331228e-01 -8.83136971e-02 -1.41090604e-03  2.01531090e+00\n",
      "  2.38190361e-01 -3.85093401e-01  1.30703392e+00 -3.01966375e-01\n",
      " -5.94291591e-01  5.84077627e-01  3.53276728e-01 -8.13544128e-01\n",
      " -1.12530071e-01 -4.64533817e-01 -8.52012477e-01  3.94773548e+00\n",
      "  8.88171909e-01 -7.70526341e-01  1.68259399e-01 -2.04038098e-01\n",
      " -2.77361102e-01  5.82203179e-01  3.95731015e-01  4.27427539e-03\n",
      "  1.60374265e+00 -7.05486751e-01 -3.77704857e-01 -1.10574804e-01\n",
      " -2.65945810e-01 -5.26097943e-02 -9.16799615e-02 -6.84205053e-01\n",
      " -1.85873463e-01 -1.01534617e-01  5.07815235e-01 -4.34204592e-01\n",
      "  6.10278198e-02 -1.80463431e-01 -8.08452083e-02  7.62000762e-01\n",
      " -1.63299316e-01 -1.74907788e-01  3.26766248e-01 -2.63523138e-01\n",
      "  5.62731434e+00 -6.10278198e-02 -1.60667213e+00 -2.29639663e-01\n",
      " -8.64675402e-02 -4.31130614e-02 -9.67641250e-02 -2.06284249e-01\n",
      " -1.40952296e-01 -3.48924317e-01 -1.93742335e-01 -2.75405707e-01\n",
      " -2.31869448e-01 -1.60280439e-01 -1.18789758e-01 -1.96304981e-01\n",
      " -4.46217573e-01 -8.64675402e-02 -2.40623984e-01 -1.69192063e-01\n",
      " -1.98839449e-01 -2.92573400e-01 -1.37490333e-01 -2.40623984e-01\n",
      " -2.11124711e-01 -2.08716170e-01 -1.22743282e-01 -1.54083388e-01\n",
      "  9.84885780e+00  4.11906138e+00 -2.52657112e+00 -7.48132002e-02\n",
      " -1.26580489e-01 -6.82629639e-02 -1.22743282e-01 -3.04713818e-02\n",
      " -6.10278198e-02 -5.28270544e-02  9.17555625e-02 -3.04713818e-02\n",
      " -3.04713818e-02 -3.04713818e-02 -4.31130614e-02 -1.57209506e-01\n",
      " -1.77704663e-01 -1.77704663e-01 -2.86930858e-01 -1.14707867e-01\n",
      "  1.03205334e+00 -6.82629639e-02 -1.01534617e-01 -6.67113345e-01\n",
      " -1.60280439e-01 -2.22843446e-01  5.23671346e-01 -9.17555625e-02\n",
      " -4.87501656e-01 -7.48132002e-02 -4.31130614e-02 -3.04713818e-02\n",
      " -3.04713818e-02 -3.04713818e-02 -7.48132002e-02 -5.28270544e-02\n",
      " -7.48132002e-02 -3.04713818e-02 -3.04713818e-02 -2.06284249e-01\n",
      " -3.04713818e-02 -1.91150364e-01 -4.46217573e-01 -3.04713818e-02\n",
      "  2.27156334e+00 -2.88820161e-01 -1.30311673e-01 -6.80210679e-01\n",
      " -4.22068805e-01 -1.30311673e-01 -5.28270544e-02 -7.48132002e-02\n",
      " -1.50898636e-01 -3.04713818e-02 -1.88527842e-01 -4.29668924e-01\n",
      " -7.48132002e-02  2.31109854e+00 -3.30232491e-01 -5.28270544e-02\n",
      " -1.33945714e-01 -6.70018456e-01 -4.15949691e-01 -1.60280439e-01\n",
      " -1.01534617e-01 -6.74381808e-01  7.27377491e-01 -1.33945714e-01\n",
      " -3.55579501e-01 -3.04713818e-02  3.92651995e-01  1.06124113e+00\n",
      " -8.24092062e-01 -1.26580489e-01 -6.10278198e-02 -5.28270544e-02\n",
      "  1.50898636e-01 -1.10483360e-01 -6.82629639e-02 -4.31130614e-02\n",
      " -6.10278198e-02 -1.93742335e-01 -4.80201632e-01 -3.04713818e-02\n",
      " -6.43970623e-01  2.65530516e-01 -1.66268989e-01 -8.03617774e-01\n",
      "  9.37042571e-01 -5.28270544e-02 -1.57209506e-01 -1.66268989e-01\n",
      " -1.06099178e-01  2.85032860e-01 -1.60280439e-01  3.10874460e-01\n",
      " -4.31130614e-02 -4.31130614e-02 -7.48132002e-02 -5.28270544e-02\n",
      " -6.82629639e-02  1.83185826e-01]\n"
     ]
    },
    {
     "name": "stdout",
     "output_type": "stream",
     "text": [
      "Fold = 7\n",
      "[ 0.06134598 -0.19297049  0.75192893 -0.5876732   1.15731049  0.95276297\n",
      "  0.65598286 -0.30385809 -0.92348943 -0.42122007 -0.78111677  1.14880095\n",
      " -0.12130149  0.42594599  1.12618245 -0.24478851  0.8543849   1.23419518\n",
      "  0.15314596 -0.2037297   0.97890673 -0.96363892  0.39463672  0.44835211\n",
      " -0.75964471  0.29831007 -0.37812926 -0.10980581 -0.26711528 -0.05258534\n",
      " -0.09457727  0.08791439 -0.18037706 -0.10148707  0.50173712 -0.4309458\n",
      "  0.06823118 -0.1776197  -0.08080749  0.7705817  -0.18309807 -0.16322161\n",
      "  0.33178653 -0.26539877 -0.19364917 -0.0528025   0.6205716  -0.22728159\n",
      " -0.07477833 -0.03045725 -0.10148707 -0.22043336 -0.14088567  2.93835474\n",
      " -0.2037297  -0.27331519 -0.2383423  -0.16020424 -0.11873392 -0.19105853\n",
      " -0.44895325 -0.08642716 -0.23616307 -0.18578434 -0.19874365 -0.28678692\n",
      " -0.13388252 -0.2383423  -0.2037297  -0.20618457 -0.11043153 -0.1508271\n",
      " -0.10148707 -0.2383423   0.40182576 -0.08642716 -0.114654   -0.08642716\n",
      " -0.1374254  -0.04309304 -0.06099943 -0.06823118  0.10148707 -0.03045725\n",
      " -0.03045725 -0.03045725 -0.04309304 -0.15401028 -0.1776197  -0.18309807\n",
      " -0.28106939 -0.10604945 -0.95734981 -0.06823118 -0.09171268  1.49026693\n",
      " -0.16020424 -0.22043336  0.52048722 -0.09171268 -0.4857653  -0.08080749\n",
      " -0.03045725 -0.03045725 -0.03045725 -0.03045725 -0.06823118 -0.0528025\n",
      " -0.07477833 -0.03045725 -0.03045725 -0.20124971 -0.03045725 -0.19105853\n",
      " -0.45934614 -0.03045725 -0.42183836 -0.28678692 -0.14088567  1.4462678\n",
      " -0.41725566 -0.13388252 -0.0528025  -0.07477833 -0.1508271  -0.03045725\n",
      " -0.18843736 -0.43245659 -0.08080749 -0.41418916 -0.33692594 -0.04309304\n",
      " -0.14088567  1.4711298  -0.41111323 -0.16618979 -0.09671886  1.48383975\n",
      " -1.38143252 -0.14088567 -0.34874292 -0.03045725  0.38929101 -0.93797172\n",
      "  1.21440135 -0.13025025 -0.06823118 -0.0528025   0.15713484 -0.11873392\n",
      " -0.06823118 -0.04309304 -0.0528025  -0.19621049 -0.47407237 -0.03045725\n",
      " -0.6464296   0.26539877 -0.17198882  1.24774678 -1.06811657 -0.06099943\n",
      " -0.1508271  -0.16322161 -0.11043153  0.28298424 -0.16020424  0.30891985\n",
      " -0.04309304 -0.04309304 -0.07477833 -0.0528025  -0.06823118  0.18037706]\n",
      "Fold = 8\n",
      "[ 0.05975904 -0.19484819  0.7455046  -0.56834735  1.15543929  0.96236943\n",
      "  0.64909086 -0.29561708 -0.92787029 -0.42601478 -0.78359128  1.16079786\n",
      " -0.11033489  0.43570084  1.14079734 -0.2426546   0.85486244  1.22212583\n",
      "  0.16423405 -0.19896749  0.99780632 -0.96537202  0.38505007  0.43784695\n",
      " -0.7435369   0.27797885 -0.36365475 -0.11057023 -0.27661584 -0.05258534\n",
      " -0.09695831  0.07677656 -0.18843736 -0.09671886  0.49739204 -0.42183836\n",
      "  0.06823118 -0.17198882 -0.08080749  0.77363979 -0.17198882 -0.17198882\n",
      "  0.32833348 -0.27526838 -0.18309807 -0.0528025   0.62487112 -0.22273503\n",
      " -0.09171268 -0.04309304 -0.10148707 -0.22043336 -0.1508271   2.92381131\n",
      " -0.19621049 -0.27331519 -0.2426546  -0.16020424 -0.11873392 -0.19621049\n",
      " -0.44746225 -0.08642716 -0.23396786 -0.18843736 -0.19621049 -0.26739391\n",
      " -0.12652088 -0.2490138  -0.20861522 -0.20861522 -0.12268553 -0.15401028\n",
      " -0.09171268 -0.2426546   0.38771101 -0.07477833 -0.114654   -0.08642716\n",
      " -0.12268553 -0.04309304 -0.0528025  -0.06099943  0.08642716 -0.03045725\n",
      " -0.03045725  0.         -0.03045725 -0.1508271  -0.1776197  -0.18309807\n",
      " -0.28489002 -0.11043153 -0.9591292  -0.0528025  -0.10148707  1.48704725\n",
      " -0.15713484 -0.22273503  0.53340773 -0.08642716 -0.5002896  -0.06823118\n",
      " -0.04309304 -0.03045725 -0.03045725 -0.03045725 -0.07477833 -0.06099943\n",
      " -0.06823118 -0.03045725 -0.03045725 -0.19874365  0.         -0.19621049\n",
      " -0.46082486 -0.03045725 -0.43697738 -0.28678692 -0.1374254   1.48064435\n",
      " -0.41878546 -0.13388252 -0.04309304 -0.07477833 -0.14088567  0.\n",
      " -0.19364917 -0.43697738 -0.08080749 -0.42791826 -0.33350493 -0.0528025\n",
      " -0.1374254   1.50655135 -0.41725566 -0.16618979 -0.09671886  1.49349889\n",
      " -1.38998749 -0.14088567 -0.34539051 -0.03045725  0.38612793 -0.94146887\n",
      "  1.21206747 -0.14088567 -0.06823118 -0.0528025   0.16322161 -0.12268553\n",
      " -0.06823118 -0.04309304 -0.06099943 -0.19364917 -0.47846566 -0.03045725\n",
      " -0.66231916  0.27135188 -0.17482424  1.26243812 -1.07610408 -0.06099943\n",
      " -0.1508271  -0.15713484 -0.10604945  0.27914526 -0.15401028  0.2998316\n",
      " -0.04309304 -0.03045725 -0.07477833 -0.06099943 -0.06099943  0.1776197 ]\n",
      "Fold = 9\n"
     ]
    }
   ],
   "source": [
    "# Create cross-validation object\n",
    "from sklearn.model_selection import KFold\n",
    "nfold = 10\n",
    "kf =KFold(nfold, shuffle=True)\n",
    "\n",
    "# Alpha values to test\n",
    "alphas = np.logspace(-6,-1,40)\n",
    "nalpha = len(alphas)\n",
    "\n",
    "# Run the cross-validation\n",
    "rsq = np.zeros((nalpha, nfold))\n",
    "for ifold, ind in enumerate(kf.split(X)):\n",
    "        \n",
    "    # Get the training data in the split\n",
    "    Itr,Its = ind\n",
    "    Xtr = X[Itr,:]\n",
    "    ytr = y[Itr]\n",
    "    Xts = X[Its,:]\n",
    "    yts = y[Its]\n",
    "    \n",
    "    # Fit and transform the data\n",
    "    Xtr1 = xscal.fit_transform(Xtr)\n",
    "    Xts1 = xscal.transform(Xts)\n",
    "    ytr1 = yscal.fit_transform(ytr[:,None])\n",
    "    yts1 = yscal.transform(yts[:,None])\n",
    "    print(Xtr1[0])\n",
    "\n",
    "    for i, alpha in enumerate(alphas):\n",
    "\n",
    "        # Fit on the training data\n",
    "        reg = Lasso(alpha=alpha)\n",
    "        reg.fit(Xtr1, ytr1)\n",
    "\n",
    "        # Score on the test data\n",
    "        yhat1 = reg.predict(Xts1)\n",
    "        rsq[i, ifold] = r2_score(yts1, yhat1)\n",
    "    \n",
    "    print('Fold = %d' % ifold)\n",
    "    \n",
    "# Compute mean and SE\n",
    "rsq_lasso_mean = np.mean(rsq, axis=1)\n",
    "rsq_lasso_se  = np.std(rsq, axis=1) / np.sqrt(nfold-1)"
   ]
  },
  {
   "cell_type": "markdown",
   "metadata": {},
   "source": [
    "We can then plot the mean and SE as a function of alpha.  "
   ]
  },
  {
   "cell_type": "code",
   "execution_count": 26,
   "metadata": {},
   "outputs": [
    {
     "data": {
      "image/png": "[encoded data removed]",
      "text/plain": [
       "<Figure size 432x288 with 1 Axes>"
      ]
     },
     "metadata": {
      "needs_background": "light"
     },
     "output_type": "display_data"
    }
   ],
   "source": [
    "plt.errorbar(np.log10(alphas), rsq_lasso_mean, yerr=rsq_lasso_se)\n",
    "plt.xlabel('log10(alpha)')\n",
    "plt.ylabel('Test R^2')\n",
    "plt.grid()\n",
    "plt.show()"
   ]
  },
  {
   "cell_type": "markdown",
   "metadata": {},
   "source": [
    "We see that there is an alpha value that maximizes the R^2. Below this value we overfit and above this we overfit. The code below selects the alpha using the normal rule (maximum mean test R^2)."
   ]
  },
  {
   "cell_type": "code",
   "execution_count": 27,
   "metadata": {},
   "outputs": [
    {
     "name": "stdout",
     "output_type": "stream",
     "text": [
      "Alpha optimal (normal rule) =   5.2233e-03\n",
      "Mean test R^2 (normal rule) =   0.908\n"
     ]
    }
   ],
   "source": [
    "im = np.argmax(rsq_lasso_mean)\n",
    "alpha_normal = alphas[im]\n",
    "print('Alpha optimal (normal rule) = %12.4e' % alpha_normal)\n",
    "print('Mean test R^2 (normal rule) = %7.3f' % rsq_lasso_mean[im])\n"
   ]
  },
  {
   "cell_type": "markdown",
   "metadata": {},
   "source": [
    "We can then retrain the model at this value of alpha and plots the coefficients.  In comparison to Ridge regression with minimal regularization, we have many coefficients that are zero."
   ]
  },
  {
   "cell_type": "code",
   "execution_count": 28,
   "metadata": {},
   "outputs": [
    {
     "data": {
      "text/plain": [
       "array([ 0.05975904, -0.19484819,  0.7455046 , -0.56834735,  1.15543929,\n",
       "        0.96236943,  0.64909086, -0.29561708, -0.92787029, -0.42601478,\n",
       "       -0.78359128,  1.16079786, -0.11033489,  0.43570084,  1.14079734,\n",
       "       -0.2426546 ,  0.85486244,  1.22212583,  0.16423405, -0.19896749,\n",
       "        0.99780632, -0.96537202,  0.38505007,  0.43784695, -0.7435369 ,\n",
       "        0.27797885, -0.36365475, -0.11057023, -0.27661584, -0.05258534,\n",
       "       -0.09695831,  0.07677656, -0.18843736, -0.09671886,  0.49739204,\n",
       "       -0.42183836,  0.06823118, -0.17198882, -0.08080749,  0.77363979,\n",
       "       -0.17198882, -0.17198882,  0.32833348, -0.27526838, -0.18309807,\n",
       "       -0.0528025 ,  0.62487112, -0.22273503, -0.09171268, -0.04309304,\n",
       "       -0.10148707, -0.22043336, -0.1508271 ,  2.92381131, -0.19621049,\n",
       "       -0.27331519, -0.2426546 , -0.16020424, -0.11873392, -0.19621049,\n",
       "       -0.44746225, -0.08642716, -0.23396786, -0.18843736, -0.19621049,\n",
       "       -0.26739391, -0.12652088, -0.2490138 , -0.20861522, -0.20861522,\n",
       "       -0.12268553, -0.15401028, -0.09171268, -0.2426546 ,  0.38771101,\n",
       "       -0.07477833, -0.114654  , -0.08642716, -0.12268553, -0.04309304,\n",
       "       -0.0528025 , -0.06099943,  0.08642716, -0.03045725, -0.03045725,\n",
       "        0.        , -0.03045725, -0.1508271 , -0.1776197 , -0.18309807,\n",
       "       -0.28489002, -0.11043153, -0.9591292 , -0.0528025 , -0.10148707,\n",
       "        1.48704725, -0.15713484, -0.22273503,  0.53340773, -0.08642716,\n",
       "       -0.5002896 , -0.06823118, -0.04309304, -0.03045725, -0.03045725,\n",
       "       -0.03045725, -0.07477833, -0.06099943, -0.06823118, -0.03045725,\n",
       "       -0.03045725, -0.19874365,  0.        , -0.19621049, -0.46082486,\n",
       "       -0.03045725, -0.43697738, -0.28678692, -0.1374254 ,  1.48064435,\n",
       "       -0.41878546, -0.13388252, -0.04309304, -0.07477833, -0.14088567,\n",
       "        0.        , -0.19364917, -0.43697738, -0.08080749, -0.42791826,\n",
       "       -0.33350493, -0.0528025 , -0.1374254 ,  1.50655135, -0.41725566,\n",
       "       -0.16618979, -0.09671886,  1.49349889, -1.38998749, -0.14088567,\n",
       "       -0.34539051, -0.03045725,  0.38612793, -0.94146887,  1.21206747,\n",
       "       -0.14088567, -0.06823118, -0.0528025 ,  0.16322161, -0.12268553,\n",
       "       -0.06823118, -0.04309304, -0.06099943, -0.19364917, -0.47846566,\n",
       "       -0.03045725, -0.66231916,  0.27135188, -0.17482424,  1.26243812,\n",
       "       -1.07610408, -0.06099943, -0.1508271 , -0.15713484, -0.10604945,\n",
       "        0.27914526, -0.15401028,  0.2998316 , -0.04309304, -0.03045725,\n",
       "       -0.07477833, -0.06099943, -0.06099943,  0.1776197 ])"
      ]
     },
     "execution_count": 28,
     "metadata": {},
     "output_type": "execute_result"
    }
   ],
   "source": [
    "Xtr1[0]"
   ]
  },
  {
   "cell_type": "code",
   "execution_count": 29,
   "metadata": {},
   "outputs": [
    {
     "data": {
      "image/png": "[encoded data removed]",
      "text/plain": [
       "<Figure size 720x360 with 2 Axes>"
      ]
     },
     "metadata": {
      "needs_background": "light"
     },
     "output_type": "display_data"
    }
   ],
   "source": [
    "# Fit on the entire data\n",
    "reg = Lasso(alpha=alpha_normal)\n",
    "reg.fit(Xtr1, ytr1)\n",
    "\n",
    "# Plot the normalized coefficients\n",
    "coeff_lasso_norm = reg.coef_.ravel()\n",
    "\n",
    "plt.figure(figsize=(10,5))\n",
    "plt.subplot(1,2,1)\n",
    "plt.stem(coeff_lasso_norm, use_line_collection=True)\n",
    "plt.xlabel('Variable index')\n",
    "plt.ylabel('Coeff')\n",
    "plt.grid()\n",
    "\n",
    "\n",
    "plt.subplot(1,2,2)\n",
    "coeff_sort_norm = np.flipud(np.sort(np.abs(coeff_lasso_norm)))\n",
    "plt.plot(coeff_sort_norm)\n",
    "plt.plot(coeff_sort_ls)\n",
    "plt.xlabel('Sorted var index')\n",
    "plt.ylabel('Coeff Mag')\n",
    "plt.grid()\n",
    "plt.legend(['Lasso, normal rule', 'Ridge 1e-5'])\n",
    "plt.tight_layout()"
   ]
  },
  {
   "cell_type": "markdown",
   "metadata": {},
   "source": [
    "We can get an even more sparse solution using the one SE rule where we select the maximum alpha that achieves the maximum R^2 within one SE."
   ]
  },
  {
   "cell_type": "code",
   "execution_count": 41,
   "metadata": {},
   "outputs": [
    {
     "name": "stdout",
     "output_type": "stream",
     "text": [
      "Alpha optimal (one SE rule) =   9.4267e-03\n",
      "Mean test R^2 (one SE rule) =   0.903\n"
     ]
    }
   ],
   "source": [
    "# Target R^2\n",
    "im = np.argmax(rsq_lasso_mean)\n",
    "rsq_tgt = rsq_lasso_mean[im] - rsq_lasso_se[im]\n",
    "\n",
    "# Find the least complex model with R^2 > rsq_tgt\n",
    "I = np.where(rsq_lasso_mean >= rsq_tgt)[0]\n",
    "iopt = I[-1]\n",
    "alpha_onese = alphas[iopt]\n",
    "\n",
    "print('Alpha optimal (one SE rule) = %12.4e' % alpha_onese)\n",
    "print('Mean test R^2 (one SE rule) = %7.3f' % rsq_lasso_mean[iopt])"
   ]
  },
  {
   "cell_type": "code",
   "execution_count": 48,
   "metadata": {},
   "outputs": [
    {
     "data": {
      "text/plain": [
       "0.9075076795518143"
      ]
     },
     "execution_count": 48,
     "metadata": {},
     "output_type": "execute_result"
    }
   ],
   "source": [
    "rsq_lasso_mean[im]"
   ]
  },
  {
   "cell_type": "code",
   "execution_count": 49,
   "metadata": {},
   "outputs": [
    {
     "data": {
      "text/plain": [
       "29"
      ]
     },
     "execution_count": 49,
     "metadata": {},
     "output_type": "execute_result"
    }
   ],
   "source": [
    "im"
   ]
  },
  {
   "cell_type": "code",
   "execution_count": 42,
   "metadata": {},
   "outputs": [
    {
     "data": {
      "text/plain": [
       "array([0.88309042, 0.88303144, 0.88296491, 0.88302081, 0.88308872,\n",
       "       0.88310668, 0.88312527, 0.88314878, 0.88318091, 0.88322501,\n",
       "       0.88328591, 0.88338377, 0.88351795, 0.88370425, 0.88393677,\n",
       "       0.88425738, 0.8846447 , 0.88510394, 0.88576936, 0.88663595,\n",
       "       0.8879213 , 0.88945339, 0.89126735, 0.89361757, 0.89630668,\n",
       "       0.89925365, 0.90212142, 0.9047964 , 0.90666273, 0.90750768,\n",
       "       0.90655135, 0.90317109, 0.89813933, 0.89252546, 0.88378539,\n",
       "       0.87746035, 0.87042466, 0.85949878, 0.84784984, 0.83240666])"
      ]
     },
     "execution_count": 42,
     "metadata": {},
     "output_type": "execute_result"
    }
   ],
   "source": [
    "rsq_lasso_mean"
   ]
  },
  {
   "cell_type": "code",
   "execution_count": 43,
   "metadata": {},
   "outputs": [
    {
     "data": {
      "text/plain": [
       "0.8990258721798667"
      ]
     },
     "execution_count": 43,
     "metadata": {},
     "output_type": "execute_result"
    }
   ],
   "source": [
    "rsq_tgt"
   ]
  },
  {
   "cell_type": "code",
   "execution_count": 46,
   "metadata": {},
   "outputs": [
    {
     "data": {
      "text/plain": [
       "array([25, 26, 27, 28, 29, 30, 31])"
      ]
     },
     "execution_count": 46,
     "metadata": {},
     "output_type": "execute_result"
    }
   ],
   "source": [
    "np.where(rsq_lasso_mean >= rsq_tgt)[0]"
   ]
  },
  {
   "cell_type": "code",
   "execution_count": 47,
   "metadata": {},
   "outputs": [
    {
     "data": {
      "text/plain": [
       "31"
      ]
     },
     "execution_count": 47,
     "metadata": {},
     "output_type": "execute_result"
    }
   ],
   "source": [
    "np.where(rsq_lasso_mean >= rsq_tgt)[0][-1]"
   ]
  },
  {
   "cell_type": "markdown",
   "metadata": {},
   "source": [
    "We can now plot the coefficients for the one SE rule.  We see that the coefficients are slightly more sparse than the normal rule. "
   ]
  },
  {
   "cell_type": "code",
   "execution_count": 31,
   "metadata": {},
   "outputs": [
    {
     "name": "stdout",
     "output_type": "stream",
     "text": [
      "Optimal alpha = 0.009427\n"
     ]
    },
    {
     "data": {
      "image/png": "[encoded data removed]",
      "text/plain": [
       "<Figure size 720x360 with 2 Axes>"
      ]
     },
     "metadata": {
      "needs_background": "light"
     },
     "output_type": "display_data"
    }
   ],
   "source": [
    "# Fit on the entire data\n",
    "reg = Lasso(alpha=alpha_onese)\n",
    "reg.fit(Xtr1, ytr1)\n",
    "\n",
    "# Plot the normalized coefficients\n",
    "coeff_lasso_onese = reg.coef_.ravel()\n",
    "\n",
    "plt.figure(figsize=(10,5))\n",
    "plt.subplot(1,2,1)\n",
    "plt.stem(coeff_lasso_onese, use_line_collection=True)\n",
    "plt.xlabel('Variable index')\n",
    "plt.ylabel('Coeff')\n",
    "plt.grid()\n",
    "\n",
    "\n",
    "plt.subplot(1,2,2)\n",
    "coeff_sort_onese = np.flipud(np.sort(np.abs(coeff_lasso_onese)))\n",
    "plt.plot(coeff_sort_onese)\n",
    "plt.plot(coeff_sort_norm)\n",
    "plt.plot(coeff_sort_ls)\n",
    "plt.xlabel('Sorted var index')\n",
    "plt.ylabel('Coeff Mag')\n",
    "plt.grid()\n",
    "plt.legend(['Lasso, one SE rule', 'Lasso, normal rule', 'Ridge 1e-5'])\n",
    "plt.tight_layout()\n",
    "\n",
    "print(\"Optimal alpha = %f\" % alpha_onese)"
   ]
  },
  {
   "cell_type": "markdown",
   "metadata": {},
   "source": [
    "It is useful to print the variable names of the top 10 coefficients for the original Ridge regression model and the Lasso model with one SE rule.  We see that two area variables (`GrLivArea` and `2ndFlrSF`) have been replaced by one `GrLivArea` with more weight."
   ]
  },
  {
   "cell_type": "code",
   "execution_count": 32,
   "metadata": {},
   "outputs": [
    {
     "name": "stdout",
     "output_type": "stream",
     "text": [
      "Ridge                        | Lasso\n",
      "-----------------------------|--------------------------------\n",
      "         MSZoning_RL    0.27 |             GrLivArea    0.42\n",
      "           GrLivArea    0.26 |           OverallQual    0.20\n",
      "         MSZoning_RM    0.22 |             YearBuilt    0.12\n",
      "     RoofStyle_Gable   -0.22 |            BsmtFinSF1    0.11\n",
      "      KitchenQual_TA   -0.22 |        KitchenQual_TA   -0.11\n",
      "      KitchenQual_Gd   -0.22 |        KitchenQual_Gd   -0.11\n",
      "       RoofStyle_Hip   -0.21 |          ExterQual_TA   -0.09\n",
      "        ExterQual_TA   -0.21 |           TotalBsmtSF    0.09\n",
      "            2ndFlrSF    0.20 |  Neighborhood_NoRidge    0.08\n",
      "        ExterQual_Gd   -0.20 |               LotArea    0.08\n"
     ]
    }
   ],
   "source": [
    "Ils = np.argsort(np.abs(coeff_ls))\n",
    "Ils = np.flipud(Ils)\n",
    "\n",
    "Ilasso = np.argsort(np.abs(coeff_lasso_onese))\n",
    "Ilasso = np.flipud(Ilasso)\n",
    "\n",
    "nprint = 10\n",
    "print('Ridge                        | Lasso')\n",
    "print('-----------------------------|--------------------------------')\n",
    "for i in range(nprint):\n",
    "    jls = Ils[i]\n",
    "    jlasso = Ilasso[i]\n",
    "    print('%20s %7.2f |  %20s %7.2f' % (xnames[jls], coeff_ls[jls], xnames[jlasso], coeff_lasso_onese[jlasso]) )"
   ]
  },
  {
   "cell_type": "markdown",
   "metadata": {},
   "source": [
    "## Ridge Regression\n",
    "\n",
    "An alternate form of regularization is Ridge regression where you select the coefficients with the rule:\n",
    "\n",
    "     betahat = argmin (1/2/n)*\\| y - A.dot(beta) \\|^2 + alpha * \\| beta \\|_2^2\n",
    "     \n",
    "The optimization is similar to Lasso except the regularizer uses the two-norm squared, `\\| beta \\|_2^2` instead of the one-norm, `\\| beta \\|_1`.  This regularizer tends to make coefficients smaller, but not necessarily zero.  \n",
    "\n",
    "We already used Ridge regression above with a small value of alpha for improving the conditioning of the fit.  Here, we can try to optimally select `alpha` with cross-validation."
   ]
  },
  {
   "cell_type": "code",
   "execution_count": 33,
   "metadata": {},
   "outputs": [
    {
     "name": "stdout",
     "output_type": "stream",
     "text": [
      "Fold = 0\n",
      "Fold = 1\n",
      "Fold = 2\n",
      "Fold = 3\n",
      "Fold = 4\n",
      "Fold = 5\n",
      "Fold = 6\n",
      "Fold = 7\n",
      "Fold = 8\n",
      "Fold = 9\n"
     ]
    }
   ],
   "source": [
    "# Create cross-validation object\n",
    "from sklearn.model_selection import KFold\n",
    "nfold = 10\n",
    "kf =KFold(nfold, shuffle=True)\n",
    "\n",
    "# Alpha values to test\n",
    "alphas_ridge = np.logspace(-3,3,40)\n",
    "nalpha = len(alphas)\n",
    "\n",
    "# Run the cross-validation\n",
    "rsq = np.zeros((nalpha, nfold))\n",
    "for ifold, ind in enumerate(kf.split(X)):\n",
    "        \n",
    "    # Get the training data in the split\n",
    "    Itr,Its = ind\n",
    "    Xtr = X[Itr,:]\n",
    "    ytr = y[Itr]\n",
    "    Xts = X[Its,:]\n",
    "    yts = y[Its]\n",
    "    \n",
    "    # Fit and transform the data\n",
    "    Xtr1 = xscal.fit_transform(Xtr)\n",
    "    Xts1 = xscal.transform(Xts)\n",
    "    ytr1 = yscal.fit_transform(ytr[:,None])\n",
    "    yts1 = yscal.transform(yts[:,None])\n",
    "\n",
    "    for i, alpha in enumerate(alphas_ridge):\n",
    "\n",
    "        # Fit on the training data\n",
    "        reg = Ridge(alpha=alpha)\n",
    "        reg.fit(Xtr1, ytr1)\n",
    "\n",
    "        # Score on the test data\n",
    "        yhat1 = reg.predict(Xts1)\n",
    "        rsq[i, ifold] = r2_score(yts1, yhat1)\n",
    "    \n",
    "    print('Fold = %d' % ifold)\n",
    "    \n",
    "# Compute mean and SE\n",
    "rsq_ridge_mean = np.mean(rsq, axis=1)\n",
    "rsq_ridge_se  = np.std(rsq, axis=1) / np.sqrt(nfold-1)\n"
   ]
  },
  {
   "cell_type": "markdown",
   "metadata": {},
   "source": [
    "We can plot the test R^2 value as a function of the alpha values.  We see that the optimal R^2 is slightly higher for Lasso."
   ]
  },
  {
   "cell_type": "code",
   "execution_count": 34,
   "metadata": {},
   "outputs": [
    {
     "data": {
      "image/png": "[encoded data removed]",
      "text/plain": [
       "<Figure size 432x288 with 1 Axes>"
      ]
     },
     "metadata": {
      "needs_background": "light"
     },
     "output_type": "display_data"
    },
    {
     "name": "stdout",
     "output_type": "stream",
     "text": [
      "Optimal R^2 Lasso:  0.907508\n",
      "Optimal R^2 Ridge:  0.907446\n"
     ]
    }
   ],
   "source": [
    "plt.errorbar(np.log10(alphas), rsq_lasso_mean, yerr=rsq_lasso_se)\n",
    "plt.errorbar(np.log10(alphas_ridge), rsq_ridge_mean, yerr=rsq_ridge_se)\n",
    "plt.xlabel('log10(alpha)')\n",
    "plt.ylabel('Test R^2')\n",
    "plt.grid()\n",
    "plt.legend(['Lasso', 'Ridge'], loc='lower right')\n",
    "plt.show()\n",
    "\n",
    "print('Optimal R^2 Lasso:  %f' % np.max(rsq_lasso_mean))\n",
    "print('Optimal R^2 Ridge:  %f' % np.max(rsq_ridge_mean))"
   ]
  },
  {
   "cell_type": "markdown",
   "metadata": {},
   "source": [
    "## LASSO path\n",
    "\n",
    "To further illustrate the effect of regularization, we conclude by drawing the *LASSO path*.  This is simply a plot of the coefficients as a function of the regularization `alpha`.  We do not need to do this for the analysis, but the path demonstrates the effect of regularization well. \n"
   ]
  },
  {
   "cell_type": "code",
   "execution_count": 35,
   "metadata": {},
   "outputs": [],
   "source": [
    "import sklearn.linear_model\n",
    "\n",
    "X1 = xscal.fit_transform(X)\n",
    "y1 = xscal.fit_transform(y[:,None])\n",
    "\n",
    "alphas_path = np.logspace(-5,1,40)\n",
    "alphas1, coeffs, _ = sklearn.linear_model.lasso_path(X1, y1, alphas=alphas_path)"
   ]
  },
  {
   "cell_type": "code",
   "execution_count": 36,
   "metadata": {},
   "outputs": [
    {
     "data": {
      "image/png": "[encoded data removed]",
      "text/plain": [
       "<Figure size 432x288 with 1 Axes>"
      ]
     },
     "metadata": {
      "needs_background": "light"
     },
     "output_type": "display_data"
    }
   ],
   "source": [
    "nplot = 10\n",
    "I = np.argsort(np.abs(coeffs[0,:,-1]))\n",
    "I = np.flipud(I)\n",
    "I = I[:nplot]\n",
    "\n",
    "# Plot the paths of the coefficients\n",
    "coeff_top = coeffs[0,I,:].T\n",
    "plt.semilogx(alphas1,coeff_top)\n",
    "plt.plot(alpha_onese*np.array([1,1]), [-0.3,0.5], '--')\n",
    "plt.grid()\n",
    "plt.legend(xnames[I], bbox_to_anchor=(1.05, 1))\n",
    "plt.xlabel('Alpha')\n",
    "plt.ylabel('Coeff')\n",
    "plt.xlim([1e-5, 10])\n",
    "_ = plt.ylim([-0.3, 0.5])"
   ]
  },
  {
   "cell_type": "markdown",
   "metadata": {},
   "source": [
    "We see that when alpha is selected very high, all the coefficients are zero.  As alpha is reduced, more coefficients become active starting with overall living area (`GrLivArea`) and the overall quality (`Overall quality`)."
   ]
  }
 ],
 "metadata": {
  "kernelspec": {
   "display_name": "Python 3",
   "language": "python",
   "name": "python3"
  },
  "language_info": {
   "codemirror_mode": {
    "name": "ipython",
    "version": 3
   },
   "file_extension": ".py",
   "mimetype": "text/x-python",
   "name": "python",
   "nbconvert_exporter": "python",
   "pygments_lexer": "ipython3",
   "version": "3.8.5"
  }
 },
 "nbformat": 4,
 "nbformat_minor": 2
}
