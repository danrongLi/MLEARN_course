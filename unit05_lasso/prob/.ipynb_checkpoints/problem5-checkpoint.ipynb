{
 "cells": [
  {
   "cell_type": "markdown",
   "metadata": {},
   "source": [
    "### Question1"
   ]
  },
  {
   "cell_type": "code",
   "execution_count": 36,
   "metadata": {},
   "outputs": [],
   "source": [
    "import numpy as np\n",
    "import matplotlib\n",
    "import matplotlib.pyplot as plt\n",
    "%matplotlib inline"
   ]
  },
  {
   "cell_type": "code",
   "execution_count": 37,
   "metadata": {},
   "outputs": [],
   "source": [
    "from sklearn import datasets\n",
    "from sklearn.model_selection import train_test_split\n",
    "from sklearn.linear_model import LinearRegression\n",
    "\n",
    "# Load the diabetes dataset\n",
    "diabetes = datasets.load_diabetes()\n",
    "X = diabetes.data\n",
    "y = diabetes.target"
   ]
  },
  {
   "cell_type": "code",
   "execution_count": 38,
   "metadata": {},
   "outputs": [],
   "source": [
    "X_tr, X_ts, y_tr, y_ts = train_test_split(X,y,test_size=0.5,shuffle=True)"
   ]
  },
  {
   "cell_type": "code",
   "execution_count": 39,
   "metadata": {},
   "outputs": [],
   "source": [
    "nsample = X.shape[0]\n",
    "nattr = X.shape[1]"
   ]
  },
  {
   "cell_type": "code",
   "execution_count": 40,
   "metadata": {},
   "outputs": [],
   "source": [
    "rss_test = []\n",
    "for i in range(nattr):\n",
    "    newX_tr = X_tr[:,i]\n",
    "    newX_ts = X_ts[:,i]\n",
    "    model = LinearRegression()\n",
    "    model.fit(newX_tr[:,None], y_tr)\n",
    "    yhat = model.predict(newX_ts[:,None])\n",
    "    rss = np.mean((yhat-y_ts)**2)\n",
    "    rss_test.append(rss)"
   ]
  },
  {
   "cell_type": "code",
   "execution_count": 56,
   "metadata": {},
   "outputs": [
    {
     "name": "stdout",
     "output_type": "stream",
     "text": [
      "best model with only 1 feature: column# = 2\n"
     ]
    }
   ],
   "source": [
    "bestModel = np.argmin(rss_test)\n",
    "print(\"best model with only 1 feature: column# = {}\".format(bestModel))"
   ]
  },
  {
   "cell_type": "code",
   "execution_count": 52,
   "metadata": {},
   "outputs": [],
   "source": [
    "rss_test2 = []\n",
    "model_index = []\n",
    "for i in range(nattr):\n",
    "    for j in range(1,nattr-i):\n",
    "        newX_tr = X_tr[:,(i,i+j)]\n",
    "        newX_ts = X_ts[:,(i,i+j)]\n",
    "        model = LinearRegression()\n",
    "        model.fit(newX_tr, y_tr)\n",
    "        yhat = model.predict(newX_ts)\n",
    "        rss = np.mean((yhat-y_ts)**2)\n",
    "        rss_test2.append(rss)\n",
    "        model_index.append((i,j))\n",
    "            "
   ]
  },
  {
   "cell_type": "code",
   "execution_count": 57,
   "metadata": {},
   "outputs": [
    {
     "name": "stdout",
     "output_type": "stream",
     "text": [
      "best model with only 2 features: column# = (2, 6)\n"
     ]
    }
   ],
   "source": [
    "bestModel2 = model_index[np.argmin(rss_test2)]\n",
    "print(\"best model with only 2 features: column# = {}\".format(bestModel2))"
   ]
  },
  {
   "cell_type": "code",
   "execution_count": null,
   "metadata": {},
   "outputs": [],
   "source": []
  },
  {
   "cell_type": "markdown",
   "metadata": {},
   "source": [
    "### Question4"
   ]
  },
  {
   "cell_type": "code",
   "execution_count": 16,
   "metadata": {},
   "outputs": [],
   "source": [
    "from sklearn.linear_model import Ridge\n",
    "from sklearn import datasets\n",
    "from sklearn.model_selection import train_test_split\n",
    "import numpy as np"
   ]
  },
  {
   "cell_type": "code",
   "execution_count": 17,
   "metadata": {},
   "outputs": [],
   "source": [
    "diabetes = datasets.load_diabetes()\n",
    "X = diabetes.data\n",
    "y = diabetes.target"
   ]
  },
  {
   "cell_type": "code",
   "execution_count": 18,
   "metadata": {},
   "outputs": [],
   "source": [
    "X_tr, X_ts, y_tr, y_ts = train_test_split(X,y,test_size=0.5,shuffle=True)"
   ]
  },
  {
   "cell_type": "code",
   "execution_count": 19,
   "metadata": {},
   "outputs": [],
   "source": [
    "xmean = np.mean(X_tr,axis=0)\n",
    "ymean = np.mean(y_tr)\n",
    "xstd = np.std(X_tr,axis=0)\n",
    "ystd = np.std(y_tr)\n",
    "Ztr = (X_tr-xmean[None,:])/xstd[None,:]\n",
    "utr = (y_tr-ymean)/ystd"
   ]
  },
  {
   "cell_type": "code",
   "execution_count": 121,
   "metadata": {},
   "outputs": [],
   "source": [
    "model = SomeModel()\n",
    "model.fit(Ztr,utr)\n",
    "Zts = (X_ts-xmean[None,:])/xstd[None,:]\n",
    "uhat = model.predict(Zts)\n",
    "yhat = uhat*ystd+ymean\n",
    "rss = np.sum((yhat-y_ts)**2)"
   ]
  },
  {
   "cell_type": "code",
   "execution_count": null,
   "metadata": {},
   "outputs": [],
   "source": []
  },
  {
   "cell_type": "markdown",
   "metadata": {},
   "source": [
    "### Question5"
   ]
  },
  {
   "cell_type": "code",
   "execution_count": 162,
   "metadata": {},
   "outputs": [],
   "source": [
    "from sklearn.linear_model import Lasso\n",
    "from warnings import simplefilter\n",
    "from sklearn.exceptions import ConvergenceWarning\n",
    "simplefilter(\"ignore\", category=ConvergenceWarning)\n",
    "from sklearn import datasets"
   ]
  },
  {
   "cell_type": "code",
   "execution_count": 163,
   "metadata": {},
   "outputs": [],
   "source": [
    "diabetes = datasets.load_diabetes()\n",
    "X = diabetes.data\n",
    "y = diabetes.target"
   ]
  },
  {
   "cell_type": "code",
   "execution_count": 164,
   "metadata": {},
   "outputs": [],
   "source": [
    "X_tr, X_ts, y_tr, y_ts = train_test_split(X[0:200,:],y[0:200],test_size=0.5,shuffle=True)"
   ]
  },
  {
   "cell_type": "code",
   "execution_count": 165,
   "metadata": {},
   "outputs": [],
   "source": [
    "a = 0\n",
    "b = 1\n",
    "lam = 1e-5"
   ]
  },
  {
   "cell_type": "code",
   "execution_count": 166,
   "metadata": {},
   "outputs": [],
   "source": [
    "p = 100\n",
    "alpha = np.linspace(a,b,p)\n",
    "Z_tr = np.exp(-alpha[:,None]*X_tr)\n",
    "Z_ts = np.exp(-alpha[:,None]*X_ts)"
   ]
  },
  {
   "cell_type": "code",
   "execution_count": 180,
   "metadata": {},
   "outputs": [],
   "source": [
    "model = Lasso(lam = lam)\n",
    "beta = model.fit(Z_tr,y_tr)\n",
    "yhat = model.predict(Z_ts)\n",
    "rss = np.mean((yhat-y_ts)**2)"
   ]
  },
  {
   "cell_type": "code",
   "execution_count": null,
   "metadata": {},
   "outputs": [],
   "source": [
    "k = 3\n",
    "index = np.argsort(-np.abs(beta))[0:k]\n",
    "beta_result = beta[index]\n",
    "alpha_result = alpha[index]"
   ]
  },
  {
   "cell_type": "code",
   "execution_count": null,
   "metadata": {},
   "outputs": [],
   "source": []
  },
  {
   "cell_type": "code",
   "execution_count": null,
   "metadata": {},
   "outputs": [],
   "source": []
  },
  {
   "cell_type": "code",
   "execution_count": null,
   "metadata": {},
   "outputs": [],
   "source": []
  }
 ],
 "metadata": {
  "kernelspec": {
   "display_name": "Python 3",
   "language": "python",
   "name": "python3"
  },
  "language_info": {
   "codemirror_mode": {
    "name": "ipython",
    "version": 3
   },
   "file_extension": ".py",
   "mimetype": "text/x-python",
   "name": "python",
   "nbconvert_exporter": "python",
   "pygments_lexer": "ipython3",
   "version": "3.8.5"
  }
 },
 "nbformat": 4,
 "nbformat_minor": 4
}
