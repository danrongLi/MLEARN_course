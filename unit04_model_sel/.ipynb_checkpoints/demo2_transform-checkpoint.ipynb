{
 "cells": [
  {
   "cell_type": "markdown",
   "metadata": {},
   "source": [
    "# Demo:  Writing Custom Transforms\n",
    "\n",
    "We have seen that, in many cases, we combine linear regression with a pre-processing step to transform the data into features that we may be able to get a better fit.  In this demo, we show the best practices for writing transforms and combining them with linear regression.  Specifically, you will learn to:\n",
    "\n",
    "*  Define a custom `transform` function for your data.\n",
    "*  Combine the transform function with model validation.\n",
    "*  Create a *trainable* transform class.\n",
    "*  Combine the trainable class with model validation.\n",
    "\n",
    "We first import the standard packages."
   ]
  },
  {
   "cell_type": "code",
   "execution_count": 1,
   "metadata": {},
   "outputs": [],
   "source": [
    "import numpy as np\n",
    "import matplotlib.pyplot as plt\n",
    "import pandas as pd\n",
    "\n",
    "from sklearn.linear_model import LinearRegression\n",
    "from sklearn.metrics import r2_score"
   ]
  },
  {
   "cell_type": "markdown",
   "metadata": {},
   "source": [
    "##  Loading the Data\n",
    "\n",
    "In this demo, we will load a simple synthetic dataset from NIST which has a set of examples for nonlinear regression."
   ]
  },
  {
   "cell_type": "code",
   "execution_count": 2,
   "metadata": {},
   "outputs": [
    {
     "data": {
      "text/html": [
       "<div>\n",
       "<style scoped>\n",
       "    .dataframe tbody tr th:only-of-type {\n",
       "        vertical-align: middle;\n",
       "    }\n",
       "\n",
       "    .dataframe tbody tr th {\n",
       "        vertical-align: top;\n",
       "    }\n",
       "\n",
       "    .dataframe thead th {\n",
       "        text-align: right;\n",
       "    }\n",
       "</style>\n",
       "<table border=\"1\" class=\"dataframe\">\n",
       "  <thead>\n",
       "    <tr style=\"text-align: right;\">\n",
       "      <th></th>\n",
       "      <th>y</th>\n",
       "      <th>x</th>\n",
       "    </tr>\n",
       "  </thead>\n",
       "  <tbody>\n",
       "    <tr>\n",
       "      <th>0</th>\n",
       "      <td>97.62227</td>\n",
       "      <td>1.0</td>\n",
       "    </tr>\n",
       "    <tr>\n",
       "      <th>1</th>\n",
       "      <td>97.80724</td>\n",
       "      <td>2.0</td>\n",
       "    </tr>\n",
       "    <tr>\n",
       "      <th>2</th>\n",
       "      <td>96.62247</td>\n",
       "      <td>3.0</td>\n",
       "    </tr>\n",
       "    <tr>\n",
       "      <th>3</th>\n",
       "      <td>92.59022</td>\n",
       "      <td>4.0</td>\n",
       "    </tr>\n",
       "    <tr>\n",
       "      <th>4</th>\n",
       "      <td>91.23869</td>\n",
       "      <td>5.0</td>\n",
       "    </tr>\n",
       "  </tbody>\n",
       "</table>\n",
       "</div>"
      ],
      "text/plain": [
       "          y    x\n",
       "0  97.62227  1.0\n",
       "1  97.80724  2.0\n",
       "2  96.62247  3.0\n",
       "3  92.59022  4.0\n",
       "4  91.23869  5.0"
      ]
     },
     "execution_count": 2,
     "metadata": {},
     "output_type": "execute_result"
    }
   ],
   "source": [
    "url = 'https://www.itl.nist.gov/div898/strd/nls/data/LINKS/DATA/Gauss1.dat'\n",
    "df = pd.read_csv(url, skiprows=60, sep=' ',skipinitialspace=True, names=['y','x'])\n",
    "df.head()"
   ]
  },
  {
   "cell_type": "markdown",
   "metadata": {},
   "source": [
    "We can plot the relation between `x` and `y` and we see that the relation is nonlinear.  "
   ]
  },
  {
   "cell_type": "code",
   "execution_count": 3,
   "metadata": {},
   "outputs": [
    {
     "data": {
      "image/png": "[encoded data removed]",
      "text/plain": [
       "<Figure size 432x288 with 1 Axes>"
      ]
     },
     "metadata": {
      "needs_background": "light"
     },
     "output_type": "display_data"
    }
   ],
   "source": [
    "x = np.array(df['x'])\n",
    "y = np.array(df['y'])\n",
    "plt.plot(x,y,'o')\n",
    "plt.grid()"
   ]
  },
  {
   "cell_type": "markdown",
   "metadata": {},
   "source": [
    "To make the fitting problem a little more challenging, I am going to keep only 100 samples."
   ]
  },
  {
   "cell_type": "code",
   "execution_count": 4,
   "metadata": {},
   "outputs": [
    {
     "data": {
      "image/png": "[encoded data removed]",
      "text/plain": [
       "<Figure size 432x288 with 1 Axes>"
      ]
     },
     "metadata": {
      "needs_background": "light"
     },
     "output_type": "display_data"
    }
   ],
   "source": [
    "ns = len(x)\n",
    "nred = 100\n",
    "I = np.random.permutation(ns)\n",
    "x = x[I[:nred]]\n",
    "y = y[I[:nred]]\n",
    "\n",
    "plt.plot(x,y,'o')\n",
    "plt.grid()"
   ]
  },
  {
   "cell_type": "markdown",
   "metadata": {},
   "source": [
    "For the remainder of the demo, we will use the following training and test split."
   ]
  },
  {
   "cell_type": "code",
   "execution_count": 5,
   "metadata": {},
   "outputs": [],
   "source": [
    "from sklearn.model_selection import train_test_split\n",
    "\n",
    "# TODO\n",
    "# xtr, xts, ytr, yts = ...\n",
    "xtr, xts, ytr, yts = train_test_split(x,y,test_size=0.33)"
   ]
  },
  {
   "cell_type": "markdown",
   "metadata": {},
   "source": [
    "## Writing a Transform\n",
    "\n",
    "From the plot, we see that the relation between `x` and `y` is nonlinear and a simple linear model of the form `yhat = w*x + b` will not work well.  One possible alternate model is called the *Discrete Cosine Transform* which is something like the Fourier basis for non-periodic functions.  The DCT model is:\n",
    "\n",
    "     yhat = \\sum_{j=0}^{d-1}  w[j]*cos( pi*j*x/xper)\n",
    "    \n",
    "where we would learn the coefficients `w[j]` from the data.  For now, the parameter `xperiod` is fixed. This is equivalent to a linear model with the basis functions,  `cos( pi*j*x/xperiod)`.  \n",
    "\n",
    "To implement the fitting with a set of basis functions, the common practice is to first write a `transform` function that takes the data matrix `X` with `n` and output a transformed matrix `Z` also with `n` rows.  In this case, the transformed output will have `d` rows.  We can implement this as follows:"
   ]
  },
  {
   "cell_type": "code",
   "execution_count": 6,
   "metadata": {},
   "outputs": [],
   "source": [
    "def dct_transform(x,d,xperiod):\n",
    "    n = len(x)\n",
    "    Z = np.zeros((n,d))\n",
    "    for j in range(d):\n",
    "        Z[:,j] = np.cos(np.pi*x*j/xperiod)\n",
    "        \n",
    "    return Z"
   ]
  },
  {
   "cell_type": "markdown",
   "metadata": {},
   "source": [
    "You can also write the transform with python broadcasting."
   ]
  },
  {
   "cell_type": "code",
   "execution_count": 7,
   "metadata": {},
   "outputs": [],
   "source": [
    "def dct_transform(x,d,xperiod):\n",
    "    drange = np.arange(d)\n",
    "    Z = np.cos(np.pi*x[:,None]*drange[None,:]/xperiod)        \n",
    "    return Z"
   ]
  },
  {
   "cell_type": "markdown",
   "metadata": {},
   "source": [
    "We can now perform the fit easily by transforming the training and test.  For example, if we want to fit with a `d=10` order model:"
   ]
  },
  {
   "cell_type": "code",
   "execution_count": 16,
   "metadata": {},
   "outputs": [
    {
     "name": "stdout",
     "output_type": "stream",
     "text": [
      "0.9795425169431178\n",
      "30.88220477831186\n"
     ]
    }
   ],
   "source": [
    "d = 10\n",
    "xperiod = 250\n",
    "Ztr = dct_transform(xtr,d,xperiod)\n",
    "Zts = dct_transform(xts,d,xperiod)\n",
    "\n",
    "reg = LinearRegression()\n",
    "reg.fit(Ztr,ytr)\n",
    "yhat = reg.predict(Zts)\n",
    "\n",
    "rsq = r2_score(yts,yhat)\n",
    "mse = np.mean((yts-yhat)**2)\n",
    "print(rsq)\n",
    "print(mse)\n"
   ]
  },
  {
   "cell_type": "markdown",
   "metadata": {},
   "source": [
    "We can plot the predictions over all data points as follows:"
   ]
  },
  {
   "cell_type": "code",
   "execution_count": 9,
   "metadata": {},
   "outputs": [
    {
     "data": {
      "text/plain": [
       "(0.0, 250.0)"
      ]
     },
     "execution_count": 9,
     "metadata": {},
     "output_type": "execute_result"
    },
    {
     "data": {
      "image/png": "[encoded data removed]",
      "text/plain": [
       "<Figure size 432x288 with 1 Axes>"
      ]
     },
     "metadata": {
      "needs_background": "light"
     },
     "output_type": "display_data"
    }
   ],
   "source": [
    "xp = np.linspace(0,250,100)\n",
    "Zp = dct_transform(xp,d,xperiod)\n",
    "yp = reg.predict(Zp)\n",
    "\n",
    "plt.plot(xp, yp, '-', lw=3)\n",
    "plt.plot(xts, yts, 's')\n",
    "plt.grid()\n",
    "plt.xlim([0,250])"
   ]
  },
  {
   "cell_type": "markdown",
   "metadata": {},
   "source": [
    "## Combining Transforms with Model Validation\n",
    "\n",
    "We can easily put the transform into a standard model validation loop."
   ]
  },
  {
   "cell_type": "code",
   "execution_count": 19,
   "metadata": {},
   "outputs": [
    {
     "data": {
      "image/png": "[encoded data removed]",
      "text/plain": [
       "<Figure size 432x288 with 1 Axes>"
      ]
     },
     "metadata": {
      "needs_background": "light"
     },
     "output_type": "display_data"
    }
   ],
   "source": [
    "dtest = np.arange(7,40).astype(int)\n",
    "ntest = len(dtest)\n",
    "rsq = np.zeros(ntest)\n",
    "mse = np.zeros(ntest)\n",
    "\n",
    "# Loop over model orders\n",
    "for i, d in enumerate(dtest):\n",
    "    \n",
    "    # Transform training and test\n",
    "    xperiod = 250\n",
    "    Ztr = dct_transform(xtr,d,xperiod)\n",
    "    Zts = dct_transform(xts,d,xperiod)\n",
    "    \n",
    "    # Fit on training    \n",
    "    reg = LinearRegression()\n",
    "    reg.fit(Ztr,ytr)\n",
    "    \n",
    "    # Score on the test    \n",
    "    yhat = reg.predict(Zts)\n",
    "    rsq[i] = r2_score(yts,yhat)\n",
    "    mse[i] = np.mean((yts-yhat)**2)\n",
    "    \n",
    "plt.plot(dtest, rsq)\n",
    "# plt.plot(dtest,mse)\n",
    "plt.grid()\n"
   ]
  },
  {
   "cell_type": "markdown",
   "metadata": {},
   "source": [
    "## Writing Trainable Transforms\n",
    "\n",
    "In some cases the transform will have parameters that you want to learn from the data.  For this purpose, the custom is to write a class with four methods:\n",
    "\n",
    "*  `__init__`:  The constructor.  Here, you enter any fixed parameters.\n",
    "*  `fit`:  Fits the parameters from training\n",
    "*  `transform`:  Transforms the data using the learned parameters\n",
    "*  `fit_transform`:  Performs fit and transform.\n",
    "\n",
    "For example, the following class learns the parameter `xperiod` from the range of the data. "
   ]
  },
  {
   "cell_type": "code",
   "execution_count": 11,
   "metadata": {},
   "outputs": [],
   "source": [
    "class DCTTrans(object):\n",
    "    def __init__(self, d=4):\n",
    "        # Constructor\n",
    "        self.d = d\n",
    "        \n",
    "    def fit(self,x):\n",
    "        # Learn the range of x\n",
    "        self.xperiod = np.max(x) - np.min(x)\n",
    "    \n",
    "    def transform(self,x):\n",
    "        drange = np.arange(self.d)\n",
    "        Z = np.cos(np.pi*x[:,None]*drange[None,:]/self.xperiod) \n",
    "        return Z\n",
    "    \n",
    "    def fit_transform(self,x):\n",
    "        self.fit(x)\n",
    "        Z = self.transform(x)\n",
    "        return Z\n",
    "        \n",
    "        "
   ]
  },
  {
   "cell_type": "markdown",
   "metadata": {},
   "source": [
    "We can now perform model validation similar to before.\n",
    "\n",
    "\n",
    "\n"
   ]
  },
  {
   "cell_type": "code",
   "execution_count": 12,
   "metadata": {},
   "outputs": [
    {
     "data": {
      "image/png": "[encoded data removed]",
      "text/plain": [
       "<Figure size 432x288 with 1 Axes>"
      ]
     },
     "metadata": {
      "needs_background": "light"
     },
     "output_type": "display_data"
    }
   ],
   "source": [
    "dtest = np.arange(7,40).astype(int)\n",
    "ntest = len(dtest)\n",
    "rsq = np.zeros(ntest)\n",
    "\n",
    "# Loop over model orders\n",
    "for i, d in enumerate(dtest):\n",
    "    \n",
    "    # Construct the transform class\n",
    "    dct = DCTTrans(d=d)\n",
    "    \n",
    "    # Fit and transform on the training data\n",
    "    Ztr = dct.fit_transform(xtr)\n",
    "    \n",
    "    # Fit the model on the transform\n",
    "    reg = LinearRegression()\n",
    "    reg.fit(Ztr,ytr)\n",
    "\n",
    "    # Transform the test data\n",
    "    Zts = dct.transform(xts)\n",
    "        \n",
    "    # Score on the test    \n",
    "    yhat = reg.predict(Zts)\n",
    "    rsq[i] = r2_score(yts,yhat)\n",
    "    \n",
    "plt.plot(dtest, rsq)\n",
    "plt.grid()\n"
   ]
  },
  {
   "cell_type": "markdown",
   "metadata": {},
   "source": [
    "We will retrain on the optimal model order"
   ]
  },
  {
   "cell_type": "code",
   "execution_count": 13,
   "metadata": {},
   "outputs": [
    {
     "data": {
      "text/plain": [
       "LinearRegression()"
      ]
     },
     "execution_count": 13,
     "metadata": {},
     "output_type": "execute_result"
    }
   ],
   "source": [
    "iopt = np.argmax(rsq)\n",
    "dopt = dtest[iopt]\n",
    "\n",
    "# Construct the transform class and re-fit\n",
    "dct = DCTTrans(d=dopt)\n",
    "Ztr = dct.fit_transform(xtr)\n",
    "\n",
    "# Fit the model on the transform\n",
    "reg = LinearRegression()\n",
    "reg.fit(Ztr,ytr)"
   ]
  },
  {
   "cell_type": "markdown",
   "metadata": {},
   "source": [
    "Then, the plotting is also similar."
   ]
  },
  {
   "cell_type": "code",
   "execution_count": 14,
   "metadata": {},
   "outputs": [
    {
     "data": {
      "text/plain": [
       "(0.0, 250.0)"
      ]
     },
     "execution_count": 14,
     "metadata": {},
     "output_type": "execute_result"
    },
    {
     "data": {
      "image/png": "[encoded data removed]",
      "text/plain": [
       "<Figure size 432x288 with 1 Axes>"
      ]
     },
     "metadata": {
      "needs_background": "light"
     },
     "output_type": "display_data"
    }
   ],
   "source": [
    "xp = np.linspace(0,250,100)\n",
    "Zp = dct.transform(xp)\n",
    "yp = reg.predict(Zp)\n",
    "\n",
    "plt.plot(xp, yp, '-', lw=3)\n",
    "plt.plot(xts, yts, 's')\n",
    "plt.grid()\n",
    "plt.xlim([0,250])"
   ]
  },
  {
   "cell_type": "markdown",
   "metadata": {},
   "source": [
    "## In-Class Exercise\n",
    "\n",
    "Now try to write your own transform class for the model:\n",
    "\n",
    "    yhat = w[0] + \\sum_{j=1}^{d}  w[j]*sigmoid( c*(x/xmax - j/d) )  \n",
    "    \n",
    "where \n",
    "\n",
    "    sigmoid(u) = 1/(1+exp(-u))\n",
    "    \n",
    "First create the fixed tranform function with `xmax=250` and `c=5`.\n",
    "Then, create a trainable class where `xmax` is he maximum value in the data, but `c` is still fixed.\n"
   ]
  },
  {
   "cell_type": "code",
   "execution_count": 15,
   "metadata": {},
   "outputs": [],
   "source": [
    "# TODO"
   ]
  },
  {
   "cell_type": "code",
   "execution_count": null,
   "metadata": {},
   "outputs": [],
   "source": []
  }
 ],
 "metadata": {
  "kernelspec": {
   "display_name": "Python 3",
   "language": "python",
   "name": "python3"
  },
  "language_info": {
   "codemirror_mode": {
    "name": "ipython",
    "version": 3
   },
   "file_extension": ".py",
   "mimetype": "text/x-python",
   "name": "python",
   "nbconvert_exporter": "python",
   "pygments_lexer": "ipython3",
   "version": "3.8.5"
  }
 },
 "nbformat": 4,
 "nbformat_minor": 2
}
