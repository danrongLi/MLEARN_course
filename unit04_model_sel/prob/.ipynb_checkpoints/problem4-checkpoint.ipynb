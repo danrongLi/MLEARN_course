{
 "cells": [
  {
   "cell_type": "markdown",
   "metadata": {},
   "source": [
    "### Question2"
   ]
  },
  {
   "cell_type": "code",
   "execution_count": null,
   "metadata": {},
   "outputs": [],
   "source": [
    "import numpy as np\n",
    "import pandas as pd\n",
    "import matplotlib\n",
    "import matplotlib.pyplot as plt\n",
    "from sklearn import datasets\n",
    "from sklearn.linear_model import LinearRegression\n",
    "%matplotlib inline\n",
    "from sklearn.model_selection import train_test_split"
   ]
  },
  {
   "cell_type": "code",
   "execution_count": null,
   "metadata": {},
   "outputs": [],
   "source": [
    "url = 'https://www.itl.nist.gov/div898/strd/nls/data/LINKS/DATA/Gauss1.dat'\n",
    "df = pd.read_csv(url, skiprows=60, sep=' ',skipinitialspace=True, names=['y','x'])\n",
    "df.head()"
   ]
  },
  {
   "cell_type": "code",
   "execution_count": null,
   "metadata": {},
   "outputs": [],
   "source": [
    "U = np.array(df['x'])\n",
    "y = np.array(df['y'])"
   ]
  },
  {
   "cell_type": "code",
   "execution_count": null,
   "metadata": {},
   "outputs": [],
   "source": []
  },
  {
   "cell_type": "code",
   "execution_count": null,
   "metadata": {},
   "outputs": [],
   "source": [
    "# model = linear_model.LinearRegression()\n",
    "# model.fit(X,y)\n",
    "# yhat = model(X)"
   ]
  },
  {
   "cell_type": "code",
   "execution_count": null,
   "metadata": {},
   "outputs": [],
   "source": []
  },
  {
   "cell_type": "code",
   "execution_count": null,
   "metadata": {},
   "outputs": [],
   "source": [
    "utr,uts,ytr,yts = train_test_split(U, y, test_size=0.5)"
   ]
  },
  {
   "cell_type": "code",
   "execution_count": null,
   "metadata": {},
   "outputs": [],
   "source": [
    "def exponential_model(u,d):\n",
    "    n = len(u)\n",
    "    X = np.zeros((n,d+1))\n",
    "    for j in range(d+1):\n",
    "        X[:,j] = np.exp(-j*u/d)\n",
    "    return X"
   ]
  },
  {
   "cell_type": "code",
   "execution_count": null,
   "metadata": {},
   "outputs": [],
   "source": [
    "def br_exponential_model(u,d):\n",
    "    dline = np.array(range(d+1))\n",
    "    X = np.exp(-u[:,None]*dline[None,:]/d)\n",
    "    return X"
   ]
  },
  {
   "cell_type": "code",
   "execution_count": null,
   "metadata": {},
   "outputs": [],
   "source": [
    "dtest = np.array(range(1,11))\n",
    "nd = len(dtest)\n",
    "mse = np.zeros(nd)\n",
    "\n",
    "for i,d in enumerate(dtest):\n",
    "    Xtr = exponential_model(utr,d)\n",
    "    Xts = exponential_model(uts,d)\n",
    "    model = LinearRegression()\n",
    "    model.fit(Xtr,ytr)\n",
    "    yhat = model.predict(Xts)\n",
    "    mse[i] = np.mean((yhat-yts)**2)\n",
    "\n",
    "minIndex = np.argmin(mse)\n",
    "print(\"Estimated model order= {0:d}\".format(dtest[minIndex]))"
   ]
  },
  {
   "cell_type": "code",
   "execution_count": null,
   "metadata": {},
   "outputs": [],
   "source": [
    "plt.plot(dtest,mse)"
   ]
  },
  {
   "cell_type": "code",
   "execution_count": null,
   "metadata": {},
   "outputs": [],
   "source": []
  },
  {
   "cell_type": "markdown",
   "metadata": {},
   "source": [
    "### Question4"
   ]
  },
  {
   "cell_type": "code",
   "execution_count": 1,
   "metadata": {},
   "outputs": [],
   "source": [
    "import numpy as np\n",
    "import matplotlib.pyplot as plt\n",
    "%matplotlib inline"
   ]
  },
  {
   "cell_type": "code",
   "execution_count": 2,
   "metadata": {},
   "outputs": [],
   "source": [
    "# True model parameters\n",
    "beta0 = np.array([1,2,-1])   # coefficients\n",
    "\n",
    "# Independent data\n",
    "nsamp = 10\n",
    "xtr = np.random.uniform(0,1,nsamp)\n"
   ]
  },
  {
   "cell_type": "code",
   "execution_count": 3,
   "metadata": {},
   "outputs": [],
   "source": [
    "ones = np.ones((nsamp,1))\n",
    "Atr = np.hstack((ones,xtr[:,None]))\n",
    "xtrSqr = xtr**2\n",
    "A0tr = np.hstack((Atr,xtrSqr[:,None]))\n",
    "beta0 = beta0[:,None]"
   ]
  },
  {
   "cell_type": "code",
   "execution_count": 4,
   "metadata": {},
   "outputs": [
    {
     "data": {
      "text/plain": [
       "array([[1.3074409],\n",
       "       [0.7923815]])"
      ]
     },
     "execution_count": 4,
     "metadata": {},
     "output_type": "execute_result"
    }
   ],
   "source": [
    "betaHat = np.dot(np.dot(np.dot(np.linalg.inv(np.dot(Atr.T,Atr)),Atr.T),A0tr),beta0)\n",
    "betaHat"
   ]
  },
  {
   "cell_type": "code",
   "execution_count": 5,
   "metadata": {},
   "outputs": [
    {
     "data": {
      "text/plain": [
       "array([[1.3074409 ],\n",
       "       [1.57156807],\n",
       "       [1.83569524],\n",
       "       [2.0998224 ],\n",
       "       [2.36394957],\n",
       "       [2.62807673],\n",
       "       [2.8922039 ],\n",
       "       [3.15633107],\n",
       "       [3.42045823],\n",
       "       [3.6845854 ]])"
      ]
     },
     "execution_count": 5,
     "metadata": {},
     "output_type": "execute_result"
    }
   ],
   "source": [
    "xts = np.linspace(0,3,10)\n",
    "onesTs = np.ones((10,1))\n",
    "Ats = np.hstack((onesTs,xts[:,None]))\n",
    "yhat = np.dot(Ats,betaHat)\n",
    "yhat"
   ]
  },
  {
   "cell_type": "code",
   "execution_count": 6,
   "metadata": {},
   "outputs": [
    {
     "data": {
      "text/plain": [
       "array([[ 1.        ],\n",
       "       [ 1.55555556],\n",
       "       [ 1.88888889],\n",
       "       [ 2.        ],\n",
       "       [ 1.88888889],\n",
       "       [ 1.55555556],\n",
       "       [ 1.        ],\n",
       "       [ 0.22222222],\n",
       "       [-0.77777778],\n",
       "       [-2.        ]])"
      ]
     },
     "execution_count": 6,
     "metadata": {},
     "output_type": "execute_result"
    }
   ],
   "source": [
    "xtsSqr = xts**2\n",
    "A0ts = np.hstack((Ats,xtsSqr[:,None]))\n",
    "y0hat = np.dot(A0ts,beta0)\n",
    "y0hat"
   ]
  },
  {
   "cell_type": "code",
   "execution_count": 7,
   "metadata": {},
   "outputs": [
    {
     "data": {
      "text/plain": [
       "<matplotlib.legend.Legend at 0x7f8a98157520>"
      ]
     },
     "execution_count": 7,
     "metadata": {},
     "output_type": "execute_result"
    },
    {
     "data": {
      "image/png": "[encoded data removed]",
      "text/plain": [
       "<Figure size 432x288 with 1 Axes>"
      ]
     },
     "metadata": {
      "needs_background": "light"
     },
     "output_type": "display_data"
    }
   ],
   "source": [
    "plt.plot(xts,yhat,label = 'f(x,betaHat)')\n",
    "plt.plot(xts,y0hat, label = 'true function fo(x)')\n",
    "plt.xlabel('xts')\n",
    "plt.ylabel('yhat results')\n",
    "plt.legend()"
   ]
  },
  {
   "cell_type": "code",
   "execution_count": 8,
   "metadata": {},
   "outputs": [
    {
     "name": "stdout",
     "output_type": "stream",
     "text": [
      "when x = 3.0, the bias squared is the largest\n"
     ]
    }
   ],
   "source": [
    "ImaxBiasSqr = np.argmax((y0hat-yhat)**2)\n",
    "print('when x = '+str(xts[ImaxBiasSqr])+', the bias squared is the largest')"
   ]
  },
  {
   "cell_type": "code",
   "execution_count": 9,
   "metadata": {},
   "outputs": [
    {
     "data": {
      "text/plain": [
       "array([[9.45199096e-02],\n",
       "       [2.56400630e-04],\n",
       "       [2.82956466e-03],\n",
       "       [9.96451205e-03],\n",
       "       [2.25682649e-01],\n",
       "       [1.15030168e+00],\n",
       "       [3.58043560e+00],\n",
       "       [8.60899471e+00],\n",
       "       [1.76251856e+01],\n",
       "       [3.23145112e+01]])"
      ]
     },
     "execution_count": 9,
     "metadata": {},
     "output_type": "execute_result"
    }
   ],
   "source": [
    "(y0hat-yhat)**2"
   ]
  },
  {
   "cell_type": "code",
   "execution_count": null,
   "metadata": {},
   "outputs": [],
   "source": []
  }
 ],
 "metadata": {
  "kernelspec": {
   "display_name": "Python 3",
   "language": "python",
   "name": "python3"
  },
  "language_info": {
   "codemirror_mode": {
    "name": "ipython",
    "version": 3
   },
   "file_extension": ".py",
   "mimetype": "text/x-python",
   "name": "python",
   "nbconvert_exporter": "python",
   "pygments_lexer": "ipython3",
   "version": "3.8.5"
  }
 },
 "nbformat": 4,
 "nbformat_minor": 4
}
