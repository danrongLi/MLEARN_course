{
 "cells": [
  {
   "cell_type": "code",
   "execution_count": 1,
   "metadata": {},
   "outputs": [],
   "source": [
    "import numpy as np\n",
    "import matplotlib.pyplot as plt"
   ]
  },
  {
   "cell_type": "markdown",
   "metadata": {},
   "source": [
    "Question 2"
   ]
  },
  {
   "cell_type": "code",
   "execution_count": 71,
   "metadata": {},
   "outputs": [],
   "source": [
    "x = np.array([0,1.3,2.1,2.8,4.2,5.7])\n",
    "y = np.array([-1,-1,-1,1,-1,1])\n",
    "t = np.linspace(0,5,100)\n",
    "J = np.zeros((100))\n",
    "E = []\n",
    "YZ = []"
   ]
  },
  {
   "cell_type": "code",
   "execution_count": 72,
   "metadata": {},
   "outputs": [],
   "source": [
    "for i, it in enumerate(t):\n",
    "    z = x-it\n",
    "    y_hat = np.where(z>0, 1, -1)\n",
    "    \n",
    "    e = np.zeros((len(x)))\n",
    "    yz = np.zeros(len(x))\n",
    "    for j in range(len(x)):\n",
    "        e[j] = max(0, 1-y[j]*z[j])\n",
    "        yz[j] = y[j]*z[j]\n",
    "    J[i] = np.sum(e)\n",
    "    E.append(e)\n",
    "    YZ.append(yz)\n",
    "    "
   ]
  },
  {
   "cell_type": "code",
   "execution_count": 73,
   "metadata": {},
   "outputs": [
    {
     "data": {
      "image/png": "[encoded data removed]",
      "text/plain": [
       "<Figure size 432x288 with 1 Axes>"
      ]
     },
     "metadata": {
      "needs_background": "light"
     },
     "output_type": "display_data"
    }
   ],
   "source": [
    "plt.plot(t, J)\n",
    "plt.xlabel('t')\n",
    "plt.ylabel('J(t)')\n",
    "plt.grid()"
   ]
  },
  {
   "cell_type": "code",
   "execution_count": null,
   "metadata": {},
   "outputs": [],
   "source": []
  },
  {
   "cell_type": "code",
   "execution_count": 74,
   "metadata": {},
   "outputs": [
    {
     "data": {
      "text/plain": [
       "62"
      ]
     },
     "execution_count": 74,
     "metadata": {},
     "output_type": "execute_result"
    }
   ],
   "source": [
    "np.argmin(J)"
   ]
  },
  {
   "cell_type": "code",
   "execution_count": 75,
   "metadata": {},
   "outputs": [
    {
     "data": {
      "text/plain": [
       "3.4000000000000004"
      ]
     },
     "execution_count": 75,
     "metadata": {},
     "output_type": "execute_result"
    }
   ],
   "source": [
    "J[62]"
   ]
  },
  {
   "cell_type": "code",
   "execution_count": 76,
   "metadata": {},
   "outputs": [
    {
     "data": {
      "text/plain": [
       "3.131313131313131"
      ]
     },
     "execution_count": 76,
     "metadata": {},
     "output_type": "execute_result"
    }
   ],
   "source": [
    "t[62]"
   ]
  },
  {
   "cell_type": "code",
   "execution_count": 77,
   "metadata": {},
   "outputs": [
    {
     "data": {
      "text/plain": [
       "array([0.        , 0.        , 0.        , 1.33131313, 2.06868687,\n",
       "       0.        ])"
      ]
     },
     "execution_count": 77,
     "metadata": {},
     "output_type": "execute_result"
    }
   ],
   "source": [
    "e = E[62]\n",
    "e"
   ]
  },
  {
   "cell_type": "code",
   "execution_count": 79,
   "metadata": {},
   "outputs": [
    {
     "data": {
      "text/plain": [
       "array([ 3.13131313,  1.83131313,  1.03131313, -0.33131313, -1.06868687,\n",
       "        2.56868687])"
      ]
     },
     "execution_count": 79,
     "metadata": {},
     "output_type": "execute_result"
    }
   ],
   "source": [
    "yz = YZ[62]\n",
    "yz"
   ]
  },
  {
   "cell_type": "code",
   "execution_count": 81,
   "metadata": {},
   "outputs": [
    {
     "data": {
      "text/plain": [
       "[<matplotlib.lines.Line2D at 0x7fc420121130>]"
      ]
     },
     "execution_count": 81,
     "metadata": {},
     "output_type": "execute_result"
    },
    {
     "data": {
      "image/png": "[encoded data removed]",
      "text/plain": [
       "<Figure size 432x288 with 1 Axes>"
      ]
     },
     "metadata": {
      "needs_background": "light"
     },
     "output_type": "display_data"
    }
   ],
   "source": [
    "plt.plot(yz,e,'o')"
   ]
  },
  {
   "cell_type": "code",
   "execution_count": null,
   "metadata": {},
   "outputs": [],
   "source": []
  },
  {
   "cell_type": "markdown",
   "metadata": {},
   "source": [
    "Question 3"
   ]
  },
  {
   "cell_type": "code",
   "execution_count": 102,
   "metadata": {},
   "outputs": [
    {
     "data": {
      "text/plain": [
       "array([[0, 0, 0, 0],\n",
       "       [0, 0, 1, 0],\n",
       "       [0, 0, 1, 0],\n",
       "       [0, 0, 1, 0]])"
      ]
     },
     "execution_count": 102,
     "metadata": {},
     "output_type": "execute_result"
    }
   ],
   "source": [
    "Xmat = np.array([[0,0,0,0],[0,0,1,0],[0,0,1,0],[0,0,1,0]])\n",
    "Xmat"
   ]
  },
  {
   "cell_type": "code",
   "execution_count": 103,
   "metadata": {},
   "outputs": [],
   "source": [
    "a,b = np.shape(Xmat)"
   ]
  },
  {
   "cell_type": "code",
   "execution_count": 104,
   "metadata": {},
   "outputs": [],
   "source": [
    "x = np.zeros((a*b))"
   ]
  },
  {
   "cell_type": "code",
   "execution_count": 105,
   "metadata": {},
   "outputs": [],
   "source": [
    "index = 0\n",
    "while(index < a*b):\n",
    "    for i in range(b):\n",
    "        for j in range(a):\n",
    "            x[index] = Xmat[j,i]\n",
    "            index += 1"
   ]
  },
  {
   "cell_type": "code",
   "execution_count": 106,
   "metadata": {},
   "outputs": [
    {
     "data": {
      "text/plain": [
       "array([0., 0., 0., 0., 0., 0., 0., 0., 0., 1., 1., 1., 0., 0., 0., 0.])"
      ]
     },
     "execution_count": 106,
     "metadata": {},
     "output_type": "execute_result"
    }
   ],
   "source": [
    "x"
   ]
  },
  {
   "cell_type": "code",
   "execution_count": 107,
   "metadata": {},
   "outputs": [
    {
     "data": {
      "text/plain": [
       "(16,)"
      ]
     },
     "execution_count": 107,
     "metadata": {},
     "output_type": "execute_result"
    }
   ],
   "source": [
    "np.shape(x)"
   ]
  },
  {
   "cell_type": "code",
   "execution_count": null,
   "metadata": {},
   "outputs": [],
   "source": []
  },
  {
   "cell_type": "code",
   "execution_count": 108,
   "metadata": {},
   "outputs": [
    {
     "data": {
      "text/plain": [
       "array([0., 0., 0., 0., 0., 0., 0., 0., 0., 1., 1., 1., 0., 0., 0., 0.])"
      ]
     },
     "execution_count": 108,
     "metadata": {},
     "output_type": "execute_result"
    }
   ],
   "source": [
    "x"
   ]
  },
  {
   "cell_type": "code",
   "execution_count": 114,
   "metadata": {},
   "outputs": [],
   "source": [
    "a = 4\n",
    "b = 4"
   ]
  },
  {
   "cell_type": "code",
   "execution_count": 116,
   "metadata": {},
   "outputs": [],
   "source": [
    "Xmat = x[0:4].reshape(4,1)"
   ]
  },
  {
   "cell_type": "code",
   "execution_count": 121,
   "metadata": {},
   "outputs": [],
   "source": [
    "for i in range(b-1):\n",
    "    Xmat = np.hstack((Xmat, x[4+i*4:4+(i+1)*4].reshape(4,1)))"
   ]
  },
  {
   "cell_type": "code",
   "execution_count": 122,
   "metadata": {},
   "outputs": [
    {
     "data": {
      "text/plain": [
       "array([[0., 0., 0., 0.],\n",
       "       [0., 0., 1., 0.],\n",
       "       [0., 0., 1., 0.],\n",
       "       [0., 0., 1., 0.]])"
      ]
     },
     "execution_count": 122,
     "metadata": {},
     "output_type": "execute_result"
    }
   ],
   "source": [
    "Xmat"
   ]
  },
  {
   "cell_type": "code",
   "execution_count": null,
   "metadata": {},
   "outputs": [],
   "source": []
  },
  {
   "cell_type": "code",
   "execution_count": 3,
   "metadata": {},
   "outputs": [
    {
     "data": {
      "text/plain": [
       "array([[0, 0, 0, 0],\n",
       "       [0, 0, 1, 0],\n",
       "       [0, 0, 1, 0],\n",
       "       [0, 0, 1, 0]])"
      ]
     },
     "execution_count": 3,
     "metadata": {},
     "output_type": "execute_result"
    }
   ],
   "source": [
    "Xmat = np.array([[0,0,0,0],[0,0,1,0],[0,0,1,0],[0,0,1,0]])\n",
    "Xmat"
   ]
  },
  {
   "cell_type": "code",
   "execution_count": 7,
   "metadata": {},
   "outputs": [
    {
     "data": {
      "text/plain": [
       "array([0, 0, 0, 0, 0, 0, 0, 0, 0, 1, 1, 1, 0, 0, 0, 0])"
      ]
     },
     "execution_count": 7,
     "metadata": {},
     "output_type": "execute_result"
    }
   ],
   "source": [
    "x = Xmat.flatten('F')\n",
    "x"
   ]
  },
  {
   "cell_type": "code",
   "execution_count": 14,
   "metadata": {},
   "outputs": [
    {
     "data": {
      "text/plain": [
       "array([[0, 0, 0, 0],\n",
       "       [0, 0, 1, 0],\n",
       "       [0, 0, 1, 0],\n",
       "       [0, 0, 1, 0]])"
      ]
     },
     "execution_count": 14,
     "metadata": {},
     "output_type": "execute_result"
    }
   ],
   "source": [
    "Xmat = x.reshape((4,4)).T\n",
    "Xmat"
   ]
  },
  {
   "cell_type": "code",
   "execution_count": null,
   "metadata": {},
   "outputs": [],
   "source": []
  },
  {
   "cell_type": "markdown",
   "metadata": {},
   "source": [
    "Question 4"
   ]
  },
  {
   "cell_type": "code",
   "execution_count": 22,
   "metadata": {},
   "outputs": [],
   "source": [
    "xtr = np.array([0,1,2,3])\n",
    "ytr = np.array([1,-1,1,-1])\n",
    "alpha = np.array([0,0,1,1])\n",
    "ntr = len(xtr)"
   ]
  },
  {
   "cell_type": "code",
   "execution_count": 24,
   "metadata": {},
   "outputs": [
    {
     "data": {
      "text/plain": [
       "Text(0.5, 1.0, 'gamma = 0.3')"
      ]
     },
     "execution_count": 24,
     "metadata": {},
     "output_type": "execute_result"
    },
    {
     "data": {
      "image/png": "[encoded data removed]",
      "text/plain": [
       "<Figure size 720x360 with 2 Axes>"
      ]
     },
     "metadata": {
      "needs_background": "light"
     },
     "output_type": "display_data"
    }
   ],
   "source": [
    "# Values of x and gamma to plot\n",
    "nx = 100\n",
    "x = np.linspace(-2,5,nx)\n",
    "gam = 0.3\n",
    "\n",
    "# Create the plots\n",
    "fig, ax = plt.subplots(1,2, figsize=(10,5))\n",
    "\n",
    "# Plot the decision function \n",
    "ax[0].plot(xtr, ytr, 'go', ms=10)\n",
    "z = np.zeros(nx)\n",
    "for i, xi in enumerate(xtr):\n",
    "    dist = (x-xi)**2\n",
    "    keri = alpha[i]*ytr[i]*np.exp(-gam*dist)\n",
    "    z = z + keri\n",
    "    ax[0].plot(x,keri,'b--')\n",
    "ax[0].plot(x,z,'b-', lw=3)\n",
    "\n",
    "ax[0].set_xlim([-3,7])\n",
    "ax[0].grid()\n",
    "ax[0].set_title('Decision function')\n",
    "\n",
    "\n",
    "# Plot the decision function and yhat\n",
    "yhat = np.sign(z)\n",
    "ax[1].plot(xtr, ytr, 'go', ms=10)\n",
    "ax[1].plot(x,z,   'b-', lw=3)\n",
    "ax[1].plot(x,yhat,'g-', lw=2)\n",
    "ax[1].set_xlim([-3,7])\n",
    "ax[1].grid()\n",
    "ax[1].set_title('Classification')\n",
    "ax[1].legend(['Data', 'z', 'yhat'], loc='upper right')\n",
    "plt.xlabel('x')\n",
    "plt.title(\"gamma = 0.3\")"
   ]
  },
  {
   "cell_type": "code",
   "execution_count": null,
   "metadata": {},
   "outputs": [],
   "source": []
  },
  {
   "cell_type": "code",
   "execution_count": 26,
   "metadata": {},
   "outputs": [],
   "source": [
    "xtr = np.array([0,1,2,3])\n",
    "ytr = np.array([1,-1,1,-1])\n",
    "alpha = np.array([1,1,1,1])\n",
    "ntr = len(xtr)"
   ]
  },
  {
   "cell_type": "code",
   "execution_count": 27,
   "metadata": {},
   "outputs": [
    {
     "data": {
      "text/plain": [
       "Text(0.5, 1.0, 'gamma = 3')"
      ]
     },
     "execution_count": 27,
     "metadata": {},
     "output_type": "execute_result"
    },
    {
     "data": {
      "image/png": "[encoded data removed]",
      "text/plain": [
       "<Figure size 720x360 with 2 Axes>"
      ]
     },
     "metadata": {
      "needs_background": "light"
     },
     "output_type": "display_data"
    }
   ],
   "source": [
    "# Values of x and gamma to plot\n",
    "nx = 100\n",
    "x = np.linspace(-3,7,nx)\n",
    "gam = 3\n",
    "\n",
    "# Create the plots\n",
    "fig, ax = plt.subplots(1,2, figsize=(10,5))\n",
    "\n",
    "# Plot the decision function \n",
    "ax[0].plot(xtr, ytr, 'go', ms=10)\n",
    "z = np.zeros(nx)\n",
    "for i, xi in enumerate(xtr):\n",
    "    keri = alpha[i]*ytr[i]*np.exp(-gam*(x-xi)**2)\n",
    "    z = z + keri\n",
    "    ax[0].plot(x,keri,'b--')\n",
    "ax[0].plot(x,z,'b-', lw=3)\n",
    "\n",
    "ax[0].set_xlim([-3,7])\n",
    "ax[0].grid()\n",
    "ax[0].set_title('Decision function')\n",
    "\n",
    "\n",
    "# Plot the decision function and yhat\n",
    "yhat = np.sign(z)\n",
    "ax[1].plot(xtr, ytr, 'go', ms=10)\n",
    "ax[1].plot(x,z,   'b-', lw=3)\n",
    "ax[1].plot(x,yhat,'g-', lw=2)\n",
    "ax[1].set_xlim([-3,7])\n",
    "ax[1].grid()\n",
    "ax[1].set_title('Classification')\n",
    "ax[1].legend(['Data', 'z', 'yhat'], loc='upper right')\n",
    "plt.xlabel('x')\n",
    "plt.title(\"gamma = 3\")"
   ]
  },
  {
   "cell_type": "code",
   "execution_count": null,
   "metadata": {},
   "outputs": [],
   "source": []
  },
  {
   "cell_type": "code",
   "execution_count": null,
   "metadata": {},
   "outputs": [],
   "source": []
  },
  {
   "cell_type": "code",
   "execution_count": null,
   "metadata": {},
   "outputs": [],
   "source": []
  }
 ],
 "metadata": {
  "kernelspec": {
   "display_name": "Python 3",
   "language": "python",
   "name": "python3"
  },
  "language_info": {
   "codemirror_mode": {
    "name": "ipython",
    "version": 3
   },
   "file_extension": ".py",
   "mimetype": "text/x-python",
   "name": "python",
   "nbconvert_exporter": "python",
   "pygments_lexer": "ipython3",
   "version": "3.8.5"
  }
 },
 "nbformat": 4,
 "nbformat_minor": 4
}
