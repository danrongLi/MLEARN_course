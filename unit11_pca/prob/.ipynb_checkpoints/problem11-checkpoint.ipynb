{
 "cells": [
  {
   "cell_type": "code",
   "execution_count": 1,
   "metadata": {},
   "outputs": [],
   "source": [
    "import numpy as np"
   ]
  },
  {
   "cell_type": "markdown",
   "metadata": {},
   "source": [
    "Question 1"
   ]
  },
  {
   "cell_type": "code",
   "execution_count": 2,
   "metadata": {},
   "outputs": [
    {
     "data": {
      "text/plain": [
       "array([[3, 2, 1],\n",
       "       [2, 4, 5],\n",
       "       [1, 2, 3],\n",
       "       [0, 2, 5]])"
      ]
     },
     "execution_count": 2,
     "metadata": {},
     "output_type": "execute_result"
    }
   ],
   "source": [
    "X = np.array([[3,2,1],[2,4,5],[1,2,3],[0,2,5]])\n",
    "X"
   ]
  },
  {
   "cell_type": "code",
   "execution_count": 3,
   "metadata": {},
   "outputs": [
    {
     "data": {
      "text/plain": [
       "array([1.5, 2.5, 3.5])"
      ]
     },
     "execution_count": 3,
     "metadata": {},
     "output_type": "execute_result"
    }
   ],
   "source": [
    "sample_mean=np.mean(X,axis = 0)\n",
    "sample_mean"
   ]
  },
  {
   "cell_type": "code",
   "execution_count": 4,
   "metadata": {},
   "outputs": [
    {
     "data": {
      "text/plain": [
       "array([[ 1.5, -0.5, -2.5],\n",
       "       [ 0.5,  1.5,  1.5],\n",
       "       [-0.5, -0.5, -0.5],\n",
       "       [-1.5, -0.5,  1.5]])"
      ]
     },
     "execution_count": 4,
     "metadata": {},
     "output_type": "execute_result"
    }
   ],
   "source": [
    "X_demean = X-sample_mean[None,:]\n",
    "X_demean"
   ]
  },
  {
   "cell_type": "code",
   "execution_count": 5,
   "metadata": {},
   "outputs": [
    {
     "data": {
      "text/plain": [
       "array([[ 1.25,  0.25, -1.25],\n",
       "       [ 0.25,  0.75,  0.75],\n",
       "       [-1.25,  0.75,  2.75]])"
      ]
     },
     "execution_count": 5,
     "metadata": {},
     "output_type": "execute_result"
    }
   ],
   "source": [
    "Q = X_demean.T.dot(X_demean)/4\n",
    "Q"
   ]
  },
  {
   "cell_type": "code",
   "execution_count": 6,
   "metadata": {},
   "outputs": [],
   "source": [
    "eig_val, eig_vec = np.linalg.eig(Q)"
   ]
  },
  {
   "cell_type": "code",
   "execution_count": 7,
   "metadata": {},
   "outputs": [
    {
     "data": {
      "text/plain": [
       "array([3.56166464, 1.1733803 , 0.01495506])"
      ]
     },
     "execution_count": 7,
     "metadata": {},
     "output_type": "execute_result"
    }
   ],
   "source": [
    "eig_val"
   ]
  },
  {
   "cell_type": "code",
   "execution_count": 8,
   "metadata": {},
   "outputs": [
    {
     "data": {
      "text/plain": [
       "array([[-0.45056922, -0.66677184, -0.59363515],\n",
       "       [ 0.19247228, -0.72187235,  0.66472154],\n",
       "       [ 0.87174641, -0.18524476, -0.45358856]])"
      ]
     },
     "execution_count": 8,
     "metadata": {},
     "output_type": "execute_result"
    }
   ],
   "source": [
    "eig_vec"
   ]
  },
  {
   "cell_type": "code",
   "execution_count": 9,
   "metadata": {},
   "outputs": [
    {
     "data": {
      "text/plain": [
       "array([[-2.95145599, -0.17610969, -0.0888421 ],\n",
       "       [ 1.37104342, -1.69406159,  0.0198819 ],\n",
       "       [-0.30682473,  0.78694448,  0.19125108],\n",
       "       [ 1.8872373 ,  1.0832268 , -0.12229089]])"
      ]
     },
     "execution_count": 9,
     "metadata": {},
     "output_type": "execute_result"
    }
   ],
   "source": [
    "alpha = X_demean.dot(eig_vec)\n",
    "alpha"
   ]
  },
  {
   "cell_type": "code",
   "execution_count": 10,
   "metadata": {},
   "outputs": [
    {
     "data": {
      "text/plain": [
       "array([[ 3.00000000e+00,  2.00000000e+00,  1.00000000e+00],\n",
       "       [ 2.00000000e+00,  4.00000000e+00,  5.00000000e+00],\n",
       "       [ 1.00000000e+00,  2.00000000e+00,  3.00000000e+00],\n",
       "       [-2.22044605e-16,  2.00000000e+00,  5.00000000e+00]])"
      ]
     },
     "execution_count": 10,
     "metadata": {},
     "output_type": "execute_result"
    }
   ],
   "source": [
    "p = 3\n",
    "alpha_v = []\n",
    "for i in range(4):\n",
    "    result = 0\n",
    "    for j in range(p):\n",
    "        result += alpha[i][j] * eig_vec[:,j]\n",
    "    alpha_v.append(result)\n",
    "\n",
    "reconstruct_X = alpha_v + sample_mean[None,:]\n",
    "reconstruct_X"
   ]
  },
  {
   "cell_type": "code",
   "execution_count": 11,
   "metadata": {},
   "outputs": [
    {
     "data": {
      "text/plain": [
       "6.803925307531227e-30"
      ]
     },
     "execution_count": 11,
     "metadata": {},
     "output_type": "execute_result"
    }
   ],
   "source": [
    "np.sum((X-reconstruct_X)**2)"
   ]
  },
  {
   "cell_type": "code",
   "execution_count": null,
   "metadata": {},
   "outputs": [],
   "source": []
  },
  {
   "cell_type": "code",
   "execution_count": 12,
   "metadata": {},
   "outputs": [
    {
     "data": {
      "text/plain": [
       "array([[ 2.94726021,  2.05905526,  0.95970224],\n",
       "       [ 2.0118026 ,  3.98678407,  5.0090182 ],\n",
       "       [ 1.11353336,  1.87287129,  3.0867493 ],\n",
       "       [-0.07259617,  2.08128939,  4.94453025]])"
      ]
     },
     "execution_count": 12,
     "metadata": {},
     "output_type": "execute_result"
    }
   ],
   "source": [
    "p = 2\n",
    "alpha_v_2 = []\n",
    "for i in range(4):\n",
    "    result = 0\n",
    "    for j in range(p):\n",
    "        result += alpha[i][j] * eig_vec[:,j]\n",
    "    alpha_v_2.append(result)\n",
    "\n",
    "reconstruct_X_2 = alpha_v_2 + sample_mean[None,:]\n",
    "reconstruct_X_2"
   ]
  },
  {
   "cell_type": "code",
   "execution_count": 13,
   "metadata": {},
   "outputs": [
    {
     "data": {
      "text/plain": [
       "0.05982024573122595"
      ]
     },
     "execution_count": 13,
     "metadata": {},
     "output_type": "execute_result"
    }
   ],
   "source": [
    "np.sum((X-reconstruct_X_2)**2)"
   ]
  },
  {
   "cell_type": "code",
   "execution_count": 14,
   "metadata": {},
   "outputs": [
    {
     "data": {
      "text/plain": [
       "0.059820245731225984"
      ]
     },
     "execution_count": 14,
     "metadata": {},
     "output_type": "execute_result"
    }
   ],
   "source": [
    "np.sum((alpha[:,-1])**2)"
   ]
  },
  {
   "cell_type": "code",
   "execution_count": null,
   "metadata": {},
   "outputs": [],
   "source": []
  },
  {
   "cell_type": "code",
   "execution_count": null,
   "metadata": {},
   "outputs": [],
   "source": []
  },
  {
   "cell_type": "code",
   "execution_count": null,
   "metadata": {},
   "outputs": [],
   "source": []
  },
  {
   "cell_type": "markdown",
   "metadata": {},
   "source": [
    "Question 3"
   ]
  },
  {
   "cell_type": "code",
   "execution_count": null,
   "metadata": {},
   "outputs": [],
   "source": [
    "Xtr, Xts, ytr, yts = train_test_split(X, y, test_size=0.25)"
   ]
  },
  {
   "cell_type": "code",
   "execution_count": null,
   "metadata": {},
   "outputs": [],
   "source": [
    "npc_test = [25,50,75,100,200]\n",
    "acc = np.zeros((len(npc_test),))\n",
    "\n",
    "\n",
    "for i0, npc in enumerate(npc_test):\n",
    "    \n",
    "    # Fit PCA on the training data\n",
    "    pca = PCA(n_components=npc)\n",
    "    mu,V = pca(Xtr)\n",
    "\n",
    "    # Transform the training and test\n",
    "    Ztr = V.T.dot(Xtr-mu)\n",
    "    Zts = V.T.dot(Xts-mu)\n",
    "    \n",
    "    clf = Classifier()\n",
    "    clf.fit(Ztr,ytr)\n",
    "    yhat = clf.predict(Zts)\n",
    "    acc_current = np.mean(yhat==yts)\n",
    "    acc[i0] = acc_current"
   ]
  },
  {
   "cell_type": "code",
   "execution_count": null,
   "metadata": {},
   "outputs": [],
   "source": [
    "optimal_index = np.argmax(acc)\n",
    "optimal_npc = npc_test[optimal_index]\n",
    "optimal_acc = acc[optimal_index]"
   ]
  },
  {
   "cell_type": "code",
   "execution_count": null,
   "metadata": {},
   "outputs": [],
   "source": []
  },
  {
   "cell_type": "markdown",
   "metadata": {},
   "source": [
    "Question 4"
   ]
  },
  {
   "cell_type": "code",
   "execution_count": null,
   "metadata": {},
   "outputs": [],
   "source": [
    "shape = (1000, 28*28)\n",
    "nc = 5"
   ]
  },
  {
   "cell_type": "code",
   "execution_count": null,
   "metadata": {},
   "outputs": [],
   "source": [
    "Y = reshape(X, shape)\n",
    "pca = PCA(n_components = nc)\n",
    "\n",
    "Y_tr = Y[0:500,:]\n",
    "Y_ts = Y[500::,:]\n",
    "pca.fit(Y_tr)\n",
    "Z = pca.transform(Y_ts)\n",
    "Yhat = pca.inverse_transform(Z)"
   ]
  },
  {
   "cell_type": "code",
   "execution_count": null,
   "metadata": {},
   "outputs": [],
   "source": []
  },
  {
   "cell_type": "markdown",
   "metadata": {},
   "source": [
    "Question 5"
   ]
  },
  {
   "cell_type": "code",
   "execution_count": null,
   "metadata": {},
   "outputs": [],
   "source": [
    "Xmean = np.mean(X, axis = 0)\n",
    "Xs = X-Xmean[None,:]\n",
    "A = Xs/np.sqrt(len(X))\n",
    "U,s,Vtr = svd(Xs, full_matrices = False)"
   ]
  },
  {
   "cell_type": "code",
   "execution_count": null,
   "metadata": {},
   "outputs": [],
   "source": []
  },
  {
   "cell_type": "code",
   "execution_count": null,
   "metadata": {},
   "outputs": [],
   "source": [
    "n_dim = (np.shape(X))[1]\n",
    "i = n_dim\n",
    "pov = []\n",
    "\n",
    "while(i>0):\n",
    "    si = s[0:i-1]\n",
    "    lam = si**2\n",
    "    PoV = np.cumsum(lam)/np.sum(lam)\n",
    "    pov.append(PoV)\n",
    "    i-=1\n"
   ]
  },
  {
   "cell_type": "code",
   "execution_count": null,
   "metadata": {},
   "outputs": [],
   "source": [
    "mini_npc = (np.where(pov>=0.9))[0][-1]"
   ]
  },
  {
   "cell_type": "code",
   "execution_count": null,
   "metadata": {},
   "outputs": [],
   "source": []
  },
  {
   "cell_type": "code",
   "execution_count": null,
   "metadata": {},
   "outputs": [],
   "source": [
    "Ahat = (U[:,0:mini_npc]*s[None,0:mini_npc]).dot(Vtr[0:mini_npc,:])\n",
    "Xs_hat = Ahat*np.sqrt(len(X))\n",
    "Xhat = Xs_hat + Xmean[None,:]"
   ]
  },
  {
   "cell_type": "code",
   "execution_count": null,
   "metadata": {},
   "outputs": [],
   "source": []
  },
  {
   "cell_type": "code",
   "execution_count": null,
   "metadata": {},
   "outputs": [],
   "source": []
  },
  {
   "cell_type": "code",
   "execution_count": null,
   "metadata": {},
   "outputs": [],
   "source": []
  },
  {
   "cell_type": "code",
   "execution_count": null,
   "metadata": {},
   "outputs": [],
   "source": []
  },
  {
   "cell_type": "code",
   "execution_count": null,
   "metadata": {},
   "outputs": [],
   "source": []
  },
  {
   "cell_type": "code",
   "execution_count": null,
   "metadata": {},
   "outputs": [],
   "source": []
  }
 ],
 "metadata": {
  "kernelspec": {
   "display_name": "Python 3",
   "language": "python",
   "name": "python3"
  },
  "language_info": {
   "codemirror_mode": {
    "name": "ipython",
    "version": 3
   },
   "file_extension": ".py",
   "mimetype": "text/x-python",
   "name": "python",
   "nbconvert_exporter": "python",
   "pygments_lexer": "ipython3",
   "version": "3.8.5"
  }
 },
 "nbformat": 4,
 "nbformat_minor": 4
}
